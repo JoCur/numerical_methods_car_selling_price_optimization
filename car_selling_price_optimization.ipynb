{
 "cells": [
  {
   "cell_type": "markdown",
   "metadata": {},
   "source": [
    "# Rusty Bargain: optimizing car selling price prediction\n",
    "\n",
    "Rusty Bargain used car sales service is developing an app to attract new customers. In that app, you can quickly find out the market value of your car. You have access to historical data: technical specifications, trim versions, and prices. You need to build the model to determine the value. \n",
    "\n",
    "Rusty Bargain is interested in:\n",
    "\n",
    "- the quality of the prediction;\n",
    "- the speed of the prediction;\n",
    "- the time required for training\n",
    "\n",
    "\n",
    "In order to decide on the best method to efficiently predict car pricing, we will:\n",
    "\n",
    "\n",
    "#### a) Import a dataset containing the folllowing historical data, and get it ready for training ML models.\n",
    "\n",
    "\n",
    "#### Features\n",
    "\n",
    "- DateCrawled — date profile was downloaded from the database\n",
    "\n",
    "- VehicleType — vehicle body type\n",
    "\n",
    "- RegistrationYear — vehicle registration year\n",
    "\n",
    "- Gearbox — gearbox type\n",
    "\n",
    "- Power — power (hp)\n",
    "\n",
    "- Model — vehicle model\n",
    "\n",
    "- Mileage — mileage (measured in km due to dataset's regional specifics)\n",
    "\n",
    "- RegistrationMonth — vehicle registration month\n",
    "\n",
    "- FuelType — fuel type\n",
    "\n",
    "- Brand — vehicle brand\n",
    "\n",
    "- NotRepaired — vehicle repaired or not\n",
    "\n",
    "- DateCreated — date of profile creation\n",
    "\n",
    "- NumberOfPictures — number of vehicle pictures\n",
    "\n",
    "- PostalCode — postal code of profile owner (user)\n",
    "\n",
    "- LastSeen — date of the last activity of the user\n",
    "\n",
    "\n",
    "#### Target\n",
    "\n",
    "- Price — price (Euro)\n",
    "\n",
    "\n",
    "\n",
    "#### b) Evaluate the performance of different machine learing models for making car price predictions:\n",
    "\n",
    "We will assess how the following models perform in terms of quality and efficiency:\n",
    "\n",
    "- Self-made Linear Regression model.\n",
    "\n",
    "- Linear regression ready implementation for a sanity check.\n",
    "\n",
    "- Decision tree regressor with hyperparameter tuning.\n",
    "\n",
    "- Random forest regressor with hyperparameter tuning.\n",
    "\n",
    "- LightGBM with hyperparameter tuning.\n",
    "\n",
    "- CatBoost and XGBoost with hyperparameter tuning.\n",
    "\n",
    "\n",
    "The metric we'll use for assessing the quality of the predicitions is the Root mean squared error (RMSE). As for the time required for training and the speed of the predictions, we'll print out the time (in seconds) it took each model to get trained and make those predictions.\n"
   ]
  },
  {
   "cell_type": "markdown",
   "metadata": {},
   "source": [
    "## 1) Data preparation"
   ]
  },
  {
   "cell_type": "code",
   "execution_count": 1,
   "metadata": {},
   "outputs": [
    {
     "name": "stdout",
     "output_type": "stream",
     "text": [
      "Requirement already satisfied: lightgbm in c:\\users\\josef\\anaconda3\\lib\\site-packages (3.3.2)\n",
      "Requirement already satisfied: numpy in c:\\users\\josef\\anaconda3\\lib\\site-packages (from lightgbm) (1.20.3)\n",
      "Requirement already satisfied: scikit-learn!=0.22.0 in c:\\users\\josef\\anaconda3\\lib\\site-packages (from lightgbm) (1.1.1)\n",
      "Requirement already satisfied: scipy in c:\\users\\josef\\anaconda3\\lib\\site-packages (from lightgbm) (1.7.1)\n",
      "Requirement already satisfied: wheel in c:\\users\\josef\\anaconda3\\lib\\site-packages (from lightgbm) (0.37.0)\n",
      "Requirement already satisfied: joblib>=1.0.0 in c:\\users\\josef\\anaconda3\\lib\\site-packages (from scikit-learn!=0.22.0->lightgbm) (1.1.0)\n",
      "Requirement already satisfied: threadpoolctl>=2.0.0 in c:\\users\\josef\\anaconda3\\lib\\site-packages (from scikit-learn!=0.22.0->lightgbm) (2.2.0)\n",
      "Note: you may need to restart the kernel to use updated packages.\n"
     ]
    }
   ],
   "source": [
    "pip install lightgbm\n"
   ]
  },
  {
   "cell_type": "code",
   "execution_count": 2,
   "metadata": {},
   "outputs": [
    {
     "name": "stdout",
     "output_type": "stream",
     "text": [
      "Requirement already satisfied: catboost in c:\\users\\josef\\anaconda3\\lib\\site-packages (1.0.6)\n",
      "Requirement already satisfied: numpy>=1.16.0 in c:\\users\\josef\\anaconda3\\lib\\site-packages (from catboost) (1.20.3)\n",
      "Requirement already satisfied: six in c:\\users\\josef\\anaconda3\\lib\\site-packages (from catboost) (1.16.0)\n",
      "Requirement already satisfied: scipy in c:\\users\\josef\\anaconda3\\lib\\site-packages (from catboost) (1.7.1)\n",
      "Requirement already satisfied: matplotlib in c:\\users\\josef\\anaconda3\\lib\\site-packages (from catboost) (3.4.3)\n",
      "Requirement already satisfied: pandas>=0.24.0 in c:\\users\\josef\\anaconda3\\lib\\site-packages (from catboost) (1.3.4)\n",
      "Requirement already satisfied: graphviz in c:\\users\\josef\\anaconda3\\lib\\site-packages (from catboost) (0.20)\n",
      "Requirement already satisfied: plotly in c:\\users\\josef\\anaconda3\\lib\\site-packages (from catboost) (5.8.2)\n",
      "Requirement already satisfied: pytz>=2017.3 in c:\\users\\josef\\anaconda3\\lib\\site-packages (from pandas>=0.24.0->catboost) (2021.3)\n",
      "Requirement already satisfied: python-dateutil>=2.7.3 in c:\\users\\josef\\anaconda3\\lib\\site-packages (from pandas>=0.24.0->catboost) (2.8.2)\n",
      "Requirement already satisfied: kiwisolver>=1.0.1 in c:\\users\\josef\\anaconda3\\lib\\site-packages (from matplotlib->catboost) (1.3.1)\n",
      "Requirement already satisfied: pyparsing>=2.2.1 in c:\\users\\josef\\anaconda3\\lib\\site-packages (from matplotlib->catboost) (3.0.4)\n",
      "Requirement already satisfied: pillow>=6.2.0 in c:\\users\\josef\\anaconda3\\lib\\site-packages (from matplotlib->catboost) (8.4.0)\n",
      "Requirement already satisfied: cycler>=0.10 in c:\\users\\josef\\anaconda3\\lib\\site-packages (from matplotlib->catboost) (0.10.0)\n",
      "Requirement already satisfied: tenacity>=6.2.0 in c:\\users\\josef\\anaconda3\\lib\\site-packages (from plotly->catboost) (8.0.1)\n",
      "Note: you may need to restart the kernel to use updated packages.\n"
     ]
    }
   ],
   "source": [
    "pip install catboost\n"
   ]
  },
  {
   "cell_type": "code",
   "execution_count": 3,
   "metadata": {},
   "outputs": [
    {
     "name": "stdout",
     "output_type": "stream",
     "text": [
      "Requirement already satisfied: xgboost in c:\\users\\josef\\anaconda3\\lib\\site-packages (1.6.1)\n",
      "Requirement already satisfied: scipy in c:\\users\\josef\\anaconda3\\lib\\site-packages (from xgboost) (1.7.1)\n",
      "Requirement already satisfied: numpy in c:\\users\\josef\\anaconda3\\lib\\site-packages (from xgboost) (1.20.3)\n",
      "Note: you may need to restart the kernel to use updated packages.\n"
     ]
    }
   ],
   "source": [
    "pip install xgboost "
   ]
  },
  {
   "cell_type": "code",
   "execution_count": 4,
   "metadata": {},
   "outputs": [],
   "source": [
    "#import libraries\n",
    "import numpy as np\n",
    "import pandas as pd\n",
    "import seaborn as sns\n",
    "import matplotlib.pyplot as plt\n",
    "from sklearn.preprocessing import OrdinalEncoder\n",
    "from sklearn.preprocessing import StandardScaler\n",
    "from sklearn.linear_model import LogisticRegression\n",
    "from sklearn.model_selection import train_test_split, GridSearchCV\n",
    "from sklearn.metrics import mean_squared_error\n",
    "from sklearn.linear_model import LinearRegression\n",
    "from sklearn.tree import DecisionTreeRegressor\n",
    "from sklearn.ensemble import RandomForestRegressor\n",
    "from catboost import CatBoostRegressor\n",
    "from catboost import Pool\n",
    "from xgboost import XGBRegressor\n",
    "from sklearn.preprocessing import MaxAbsScaler\n",
    "import time\n",
    "from scipy import stats"
   ]
  },
  {
   "cell_type": "code",
   "execution_count": 5,
   "metadata": {},
   "outputs": [],
   "source": [
    "import lightgbm as lgb"
   ]
  },
  {
   "cell_type": "code",
   "execution_count": 6,
   "metadata": {},
   "outputs": [],
   "source": [
    "# Load dataset into a Dataframe\n",
    "try:\n",
    "    df=pd.read_csv('c:/Users/josef/Practicum/Numerical methods/car_data.csv')\n",
    "except:\n",
    "    df = pd.read_csv('/datasets/car_data.csv')\n",
    "    "
   ]
  },
  {
   "cell_type": "code",
   "execution_count": 7,
   "metadata": {},
   "outputs": [
    {
     "data": {
      "text/html": [
       "<div>\n",
       "<style scoped>\n",
       "    .dataframe tbody tr th:only-of-type {\n",
       "        vertical-align: middle;\n",
       "    }\n",
       "\n",
       "    .dataframe tbody tr th {\n",
       "        vertical-align: top;\n",
       "    }\n",
       "\n",
       "    .dataframe thead th {\n",
       "        text-align: right;\n",
       "    }\n",
       "</style>\n",
       "<table border=\"1\" class=\"dataframe\">\n",
       "  <thead>\n",
       "    <tr style=\"text-align: right;\">\n",
       "      <th></th>\n",
       "      <th>DateCrawled</th>\n",
       "      <th>Price</th>\n",
       "      <th>VehicleType</th>\n",
       "      <th>RegistrationYear</th>\n",
       "      <th>Gearbox</th>\n",
       "      <th>Power</th>\n",
       "      <th>Model</th>\n",
       "      <th>Mileage</th>\n",
       "      <th>RegistrationMonth</th>\n",
       "      <th>FuelType</th>\n",
       "      <th>Brand</th>\n",
       "      <th>NotRepaired</th>\n",
       "      <th>DateCreated</th>\n",
       "      <th>NumberOfPictures</th>\n",
       "      <th>PostalCode</th>\n",
       "      <th>LastSeen</th>\n",
       "    </tr>\n",
       "  </thead>\n",
       "  <tbody>\n",
       "    <tr>\n",
       "      <th>0</th>\n",
       "      <td>24/03/2016 11:52</td>\n",
       "      <td>480</td>\n",
       "      <td>NaN</td>\n",
       "      <td>1993</td>\n",
       "      <td>manual</td>\n",
       "      <td>0</td>\n",
       "      <td>golf</td>\n",
       "      <td>150000</td>\n",
       "      <td>0</td>\n",
       "      <td>petrol</td>\n",
       "      <td>volkswagen</td>\n",
       "      <td>NaN</td>\n",
       "      <td>24/03/2016 00:00</td>\n",
       "      <td>0</td>\n",
       "      <td>70435</td>\n",
       "      <td>07/04/2016 03:16</td>\n",
       "    </tr>\n",
       "    <tr>\n",
       "      <th>1</th>\n",
       "      <td>24/03/2016 10:58</td>\n",
       "      <td>18300</td>\n",
       "      <td>coupe</td>\n",
       "      <td>2011</td>\n",
       "      <td>manual</td>\n",
       "      <td>190</td>\n",
       "      <td>NaN</td>\n",
       "      <td>125000</td>\n",
       "      <td>5</td>\n",
       "      <td>gasoline</td>\n",
       "      <td>audi</td>\n",
       "      <td>yes</td>\n",
       "      <td>24/03/2016 00:00</td>\n",
       "      <td>0</td>\n",
       "      <td>66954</td>\n",
       "      <td>07/04/2016 01:46</td>\n",
       "    </tr>\n",
       "    <tr>\n",
       "      <th>2</th>\n",
       "      <td>14/03/2016 12:52</td>\n",
       "      <td>9800</td>\n",
       "      <td>suv</td>\n",
       "      <td>2004</td>\n",
       "      <td>auto</td>\n",
       "      <td>163</td>\n",
       "      <td>grand</td>\n",
       "      <td>125000</td>\n",
       "      <td>8</td>\n",
       "      <td>gasoline</td>\n",
       "      <td>jeep</td>\n",
       "      <td>NaN</td>\n",
       "      <td>14/03/2016 00:00</td>\n",
       "      <td>0</td>\n",
       "      <td>90480</td>\n",
       "      <td>05/04/2016 12:47</td>\n",
       "    </tr>\n",
       "    <tr>\n",
       "      <th>3</th>\n",
       "      <td>17/03/2016 16:54</td>\n",
       "      <td>1500</td>\n",
       "      <td>small</td>\n",
       "      <td>2001</td>\n",
       "      <td>manual</td>\n",
       "      <td>75</td>\n",
       "      <td>golf</td>\n",
       "      <td>150000</td>\n",
       "      <td>6</td>\n",
       "      <td>petrol</td>\n",
       "      <td>volkswagen</td>\n",
       "      <td>no</td>\n",
       "      <td>17/03/2016 00:00</td>\n",
       "      <td>0</td>\n",
       "      <td>91074</td>\n",
       "      <td>17/03/2016 17:40</td>\n",
       "    </tr>\n",
       "    <tr>\n",
       "      <th>4</th>\n",
       "      <td>31/03/2016 17:25</td>\n",
       "      <td>3600</td>\n",
       "      <td>small</td>\n",
       "      <td>2008</td>\n",
       "      <td>manual</td>\n",
       "      <td>69</td>\n",
       "      <td>fabia</td>\n",
       "      <td>90000</td>\n",
       "      <td>7</td>\n",
       "      <td>gasoline</td>\n",
       "      <td>skoda</td>\n",
       "      <td>no</td>\n",
       "      <td>31/03/2016 00:00</td>\n",
       "      <td>0</td>\n",
       "      <td>60437</td>\n",
       "      <td>06/04/2016 10:17</td>\n",
       "    </tr>\n",
       "  </tbody>\n",
       "</table>\n",
       "</div>"
      ],
      "text/plain": [
       "        DateCrawled  Price VehicleType  RegistrationYear Gearbox  Power  \\\n",
       "0  24/03/2016 11:52    480         NaN              1993  manual      0   \n",
       "1  24/03/2016 10:58  18300       coupe              2011  manual    190   \n",
       "2  14/03/2016 12:52   9800         suv              2004    auto    163   \n",
       "3  17/03/2016 16:54   1500       small              2001  manual     75   \n",
       "4  31/03/2016 17:25   3600       small              2008  manual     69   \n",
       "\n",
       "   Model  Mileage  RegistrationMonth  FuelType       Brand NotRepaired  \\\n",
       "0   golf   150000                  0    petrol  volkswagen         NaN   \n",
       "1    NaN   125000                  5  gasoline        audi         yes   \n",
       "2  grand   125000                  8  gasoline        jeep         NaN   \n",
       "3   golf   150000                  6    petrol  volkswagen          no   \n",
       "4  fabia    90000                  7  gasoline       skoda          no   \n",
       "\n",
       "        DateCreated  NumberOfPictures  PostalCode          LastSeen  \n",
       "0  24/03/2016 00:00                 0       70435  07/04/2016 03:16  \n",
       "1  24/03/2016 00:00                 0       66954  07/04/2016 01:46  \n",
       "2  14/03/2016 00:00                 0       90480  05/04/2016 12:47  \n",
       "3  17/03/2016 00:00                 0       91074  17/03/2016 17:40  \n",
       "4  31/03/2016 00:00                 0       60437  06/04/2016 10:17  "
      ]
     },
     "execution_count": 7,
     "metadata": {},
     "output_type": "execute_result"
    }
   ],
   "source": [
    "#Print first five rows\n",
    "df.head()"
   ]
  },
  {
   "cell_type": "code",
   "execution_count": 8,
   "metadata": {},
   "outputs": [
    {
     "data": {
      "text/plain": [
       "(354369, 16)"
      ]
     },
     "execution_count": 8,
     "metadata": {},
     "output_type": "execute_result"
    }
   ],
   "source": [
    "#print df size\n",
    "df.shape"
   ]
  },
  {
   "cell_type": "code",
   "execution_count": 9,
   "metadata": {},
   "outputs": [
    {
     "data": {
      "text/html": [
       "<div>\n",
       "<style scoped>\n",
       "    .dataframe tbody tr th:only-of-type {\n",
       "        vertical-align: middle;\n",
       "    }\n",
       "\n",
       "    .dataframe tbody tr th {\n",
       "        vertical-align: top;\n",
       "    }\n",
       "\n",
       "    .dataframe thead th {\n",
       "        text-align: right;\n",
       "    }\n",
       "</style>\n",
       "<table border=\"1\" class=\"dataframe\">\n",
       "  <thead>\n",
       "    <tr style=\"text-align: right;\">\n",
       "      <th></th>\n",
       "      <th>Price</th>\n",
       "      <th>RegistrationYear</th>\n",
       "      <th>Power</th>\n",
       "      <th>Mileage</th>\n",
       "      <th>RegistrationMonth</th>\n",
       "      <th>NumberOfPictures</th>\n",
       "      <th>PostalCode</th>\n",
       "    </tr>\n",
       "  </thead>\n",
       "  <tbody>\n",
       "    <tr>\n",
       "      <th>count</th>\n",
       "      <td>354369.000000</td>\n",
       "      <td>354369.000000</td>\n",
       "      <td>354369.000000</td>\n",
       "      <td>354369.000000</td>\n",
       "      <td>354369.000000</td>\n",
       "      <td>354369.0</td>\n",
       "      <td>354369.000000</td>\n",
       "    </tr>\n",
       "    <tr>\n",
       "      <th>mean</th>\n",
       "      <td>4416.656776</td>\n",
       "      <td>2004.234448</td>\n",
       "      <td>110.094337</td>\n",
       "      <td>128211.172535</td>\n",
       "      <td>5.714645</td>\n",
       "      <td>0.0</td>\n",
       "      <td>50508.689087</td>\n",
       "    </tr>\n",
       "    <tr>\n",
       "      <th>std</th>\n",
       "      <td>4514.158514</td>\n",
       "      <td>90.227958</td>\n",
       "      <td>189.850405</td>\n",
       "      <td>37905.341530</td>\n",
       "      <td>3.726421</td>\n",
       "      <td>0.0</td>\n",
       "      <td>25783.096248</td>\n",
       "    </tr>\n",
       "    <tr>\n",
       "      <th>min</th>\n",
       "      <td>0.000000</td>\n",
       "      <td>1000.000000</td>\n",
       "      <td>0.000000</td>\n",
       "      <td>5000.000000</td>\n",
       "      <td>0.000000</td>\n",
       "      <td>0.0</td>\n",
       "      <td>1067.000000</td>\n",
       "    </tr>\n",
       "    <tr>\n",
       "      <th>25%</th>\n",
       "      <td>1050.000000</td>\n",
       "      <td>1999.000000</td>\n",
       "      <td>69.000000</td>\n",
       "      <td>125000.000000</td>\n",
       "      <td>3.000000</td>\n",
       "      <td>0.0</td>\n",
       "      <td>30165.000000</td>\n",
       "    </tr>\n",
       "    <tr>\n",
       "      <th>50%</th>\n",
       "      <td>2700.000000</td>\n",
       "      <td>2003.000000</td>\n",
       "      <td>105.000000</td>\n",
       "      <td>150000.000000</td>\n",
       "      <td>6.000000</td>\n",
       "      <td>0.0</td>\n",
       "      <td>49413.000000</td>\n",
       "    </tr>\n",
       "    <tr>\n",
       "      <th>75%</th>\n",
       "      <td>6400.000000</td>\n",
       "      <td>2008.000000</td>\n",
       "      <td>143.000000</td>\n",
       "      <td>150000.000000</td>\n",
       "      <td>9.000000</td>\n",
       "      <td>0.0</td>\n",
       "      <td>71083.000000</td>\n",
       "    </tr>\n",
       "    <tr>\n",
       "      <th>max</th>\n",
       "      <td>20000.000000</td>\n",
       "      <td>9999.000000</td>\n",
       "      <td>20000.000000</td>\n",
       "      <td>150000.000000</td>\n",
       "      <td>12.000000</td>\n",
       "      <td>0.0</td>\n",
       "      <td>99998.000000</td>\n",
       "    </tr>\n",
       "  </tbody>\n",
       "</table>\n",
       "</div>"
      ],
      "text/plain": [
       "               Price  RegistrationYear          Power        Mileage  \\\n",
       "count  354369.000000     354369.000000  354369.000000  354369.000000   \n",
       "mean     4416.656776       2004.234448     110.094337  128211.172535   \n",
       "std      4514.158514         90.227958     189.850405   37905.341530   \n",
       "min         0.000000       1000.000000       0.000000    5000.000000   \n",
       "25%      1050.000000       1999.000000      69.000000  125000.000000   \n",
       "50%      2700.000000       2003.000000     105.000000  150000.000000   \n",
       "75%      6400.000000       2008.000000     143.000000  150000.000000   \n",
       "max     20000.000000       9999.000000   20000.000000  150000.000000   \n",
       "\n",
       "       RegistrationMonth  NumberOfPictures     PostalCode  \n",
       "count      354369.000000          354369.0  354369.000000  \n",
       "mean            5.714645               0.0   50508.689087  \n",
       "std             3.726421               0.0   25783.096248  \n",
       "min             0.000000               0.0    1067.000000  \n",
       "25%             3.000000               0.0   30165.000000  \n",
       "50%             6.000000               0.0   49413.000000  \n",
       "75%             9.000000               0.0   71083.000000  \n",
       "max            12.000000               0.0   99998.000000  "
      ]
     },
     "execution_count": 9,
     "metadata": {},
     "output_type": "execute_result"
    }
   ],
   "source": [
    "#print numerical columns statistics\n",
    "df.describe()"
   ]
  },
  {
   "cell_type": "code",
   "execution_count": 10,
   "metadata": {
    "scrolled": true
   },
   "outputs": [
    {
     "data": {
      "text/plain": [
       "262"
      ]
     },
     "execution_count": 10,
     "metadata": {},
     "output_type": "execute_result"
    }
   ],
   "source": [
    "#check for duplicates\n",
    "df.duplicated().sum()"
   ]
  },
  {
   "cell_type": "code",
   "execution_count": 11,
   "metadata": {},
   "outputs": [
    {
     "data": {
      "text/plain": [
       "DateCrawled           0.000000\n",
       "Price                 0.000000\n",
       "VehicleType          10.579368\n",
       "RegistrationYear      0.000000\n",
       "Gearbox               5.596709\n",
       "Power                 0.000000\n",
       "Model                 5.560588\n",
       "Mileage               0.000000\n",
       "RegistrationMonth     0.000000\n",
       "FuelType              9.282697\n",
       "Brand                 0.000000\n",
       "NotRepaired          20.079070\n",
       "DateCreated           0.000000\n",
       "NumberOfPictures      0.000000\n",
       "PostalCode            0.000000\n",
       "LastSeen              0.000000\n",
       "dtype: float64"
      ]
     },
     "execution_count": 11,
     "metadata": {},
     "output_type": "execute_result"
    }
   ],
   "source": [
    "#print % of missing values\n",
    "df.isna().sum()/len(df)*100"
   ]
  },
  {
   "cell_type": "code",
   "execution_count": 12,
   "metadata": {
    "scrolled": true
   },
   "outputs": [
    {
     "name": "stdout",
     "output_type": "stream",
     "text": [
      "<class 'pandas.core.frame.DataFrame'>\n",
      "RangeIndex: 354369 entries, 0 to 354368\n",
      "Data columns (total 16 columns):\n",
      " #   Column             Non-Null Count   Dtype \n",
      "---  ------             --------------   ----- \n",
      " 0   DateCrawled        354369 non-null  object\n",
      " 1   Price              354369 non-null  int64 \n",
      " 2   VehicleType        316879 non-null  object\n",
      " 3   RegistrationYear   354369 non-null  int64 \n",
      " 4   Gearbox            334536 non-null  object\n",
      " 5   Power              354369 non-null  int64 \n",
      " 6   Model              334664 non-null  object\n",
      " 7   Mileage            354369 non-null  int64 \n",
      " 8   RegistrationMonth  354369 non-null  int64 \n",
      " 9   FuelType           321474 non-null  object\n",
      " 10  Brand              354369 non-null  object\n",
      " 11  NotRepaired        283215 non-null  object\n",
      " 12  DateCreated        354369 non-null  object\n",
      " 13  NumberOfPictures   354369 non-null  int64 \n",
      " 14  PostalCode         354369 non-null  int64 \n",
      " 15  LastSeen           354369 non-null  object\n",
      "dtypes: int64(7), object(9)\n",
      "memory usage: 43.3+ MB\n"
     ]
    }
   ],
   "source": [
    "#Analyze data types\n",
    "df.info()"
   ]
  },
  {
   "cell_type": "markdown",
   "metadata": {},
   "source": [
    "### Data overview:\n",
    "\n",
    "The dataset has 354369 rows x 16 columns\n",
    "\n",
    "There are some issues that need to be fixed before moving forward with the analysis:\n",
    "\n",
    "#### a) Column names: \n",
    "\n",
    "First thing to notice is that columns are to be renamed following the snake_case syntax, and changing uppercase characters by lowercase.\n",
    "\n",
    "#### b) Duplicates:\n",
    "\n",
    "There are 262 duplicated rows. We will drop them out as they represent an insignificant portion of the dataset.\n",
    "\n",
    "#### c) Data types:\n",
    "\n",
    "DateCrawled, DateCreated and LastSeen will be changed to integers made up with their timestamp value. This will make it easier to train ML models later on.\n",
    "\n",
    "\n",
    "#### d) Odd numerical column values:\n",
    "\n",
    "Even though categorical columns do not seem to have weird or unmatching types assigned, some numerical columns present unfeasible figures. Such is the case of:\n",
    "\n",
    "- price: 0 € needs to be corrected (These are probably posted at that price to get them listed first).\n",
    "- registration_year: 1000 and 9999 need to be corrected.\n",
    "- power: the minimum value of 0 and the maximum value of 20,000 hp is to be replaced by a feasible number.\n",
    "- registration_month: 0 is not a real month, so we must correct it.\n",
    "- number_of_pictures: it's set at zero in every row, so we can get rid of that column.\n",
    "\n",
    "\n",
    "#### e) Missing values: \n",
    "\n",
    "The percentage of missing values are as follows:\n",
    "\n",
    "NotRepaired          20.08%\n",
    "\n",
    "VehicleType          10.6%\n",
    "\n",
    "FuelType              9.28%\n",
    "\n",
    "Gearbox               5.6%\n",
    "\n",
    "\n",
    "Model                 5.56%\n",
    "\n",
    "\n",
    "\n",
    "\n",
    "\n",
    "\n",
    "We will inspect the distribution of each column values and try to deal with them in the most effective possible way.\n",
    "\n",
    "\n",
    "\n",
    "\n"
   ]
  },
  {
   "cell_type": "markdown",
   "metadata": {},
   "source": [
    "### 1.a) Column names: change to snake_case syntax"
   ]
  },
  {
   "cell_type": "code",
   "execution_count": 13,
   "metadata": {},
   "outputs": [
    {
     "data": {
      "text/plain": [
       "{'DateCrawled': 'date_crawled',\n",
       " 'Price': 'price',\n",
       " 'VehicleType': 'vehicle_type',\n",
       " 'RegistrationYear': 'registration_year',\n",
       " 'Gearbox': 'gearbox',\n",
       " 'Power': 'power',\n",
       " 'Model': 'model',\n",
       " 'Mileage': 'mileage',\n",
       " 'RegistrationMonth': 'registration_month',\n",
       " 'FuelType': 'fuel_type',\n",
       " 'Brand': 'brand',\n",
       " 'NotRepaired': 'not_repaired',\n",
       " 'DateCreated': 'date_created',\n",
       " 'NumberOfPictures': 'number_of_pictures',\n",
       " 'PostalCode': 'postal_code',\n",
       " 'LastSeen': 'last_seen'}"
      ]
     },
     "execution_count": 13,
     "metadata": {},
     "output_type": "execute_result"
    }
   ],
   "source": [
    "#Create dictionary with values to be replaced and values by which they'll be replaced\n",
    "replace_dict={}\n",
    "\n",
    "for word in df.columns:\n",
    "    \n",
    "    new_word=\"\"\n",
    "    \n",
    "    for i, character in enumerate(word):\n",
    "        \n",
    "        if character== character.upper():\n",
    "            if i==0:\n",
    "                new_character= character.lower()\n",
    "            else:\n",
    "                new_character='_'+character.lower()\n",
    "        else:\n",
    "            new_character= character\n",
    "            \n",
    "        new_word+=new_character\n",
    "        \n",
    "    replace_dict[word]= new_word\n",
    "\n",
    "#print result\n",
    "replace_dict"
   ]
  },
  {
   "cell_type": "code",
   "execution_count": 14,
   "metadata": {},
   "outputs": [
    {
     "data": {
      "text/html": [
       "<div>\n",
       "<style scoped>\n",
       "    .dataframe tbody tr th:only-of-type {\n",
       "        vertical-align: middle;\n",
       "    }\n",
       "\n",
       "    .dataframe tbody tr th {\n",
       "        vertical-align: top;\n",
       "    }\n",
       "\n",
       "    .dataframe thead th {\n",
       "        text-align: right;\n",
       "    }\n",
       "</style>\n",
       "<table border=\"1\" class=\"dataframe\">\n",
       "  <thead>\n",
       "    <tr style=\"text-align: right;\">\n",
       "      <th></th>\n",
       "      <th>date_crawled</th>\n",
       "      <th>price</th>\n",
       "      <th>vehicle_type</th>\n",
       "      <th>registration_year</th>\n",
       "      <th>gearbox</th>\n",
       "      <th>power</th>\n",
       "      <th>model</th>\n",
       "      <th>mileage</th>\n",
       "      <th>registration_month</th>\n",
       "      <th>fuel_type</th>\n",
       "      <th>brand</th>\n",
       "      <th>not_repaired</th>\n",
       "      <th>date_created</th>\n",
       "      <th>number_of_pictures</th>\n",
       "      <th>postal_code</th>\n",
       "      <th>last_seen</th>\n",
       "    </tr>\n",
       "  </thead>\n",
       "  <tbody>\n",
       "    <tr>\n",
       "      <th>0</th>\n",
       "      <td>24/03/2016 11:52</td>\n",
       "      <td>480</td>\n",
       "      <td>NaN</td>\n",
       "      <td>1993</td>\n",
       "      <td>manual</td>\n",
       "      <td>0</td>\n",
       "      <td>golf</td>\n",
       "      <td>150000</td>\n",
       "      <td>0</td>\n",
       "      <td>petrol</td>\n",
       "      <td>volkswagen</td>\n",
       "      <td>NaN</td>\n",
       "      <td>24/03/2016 00:00</td>\n",
       "      <td>0</td>\n",
       "      <td>70435</td>\n",
       "      <td>07/04/2016 03:16</td>\n",
       "    </tr>\n",
       "    <tr>\n",
       "      <th>1</th>\n",
       "      <td>24/03/2016 10:58</td>\n",
       "      <td>18300</td>\n",
       "      <td>coupe</td>\n",
       "      <td>2011</td>\n",
       "      <td>manual</td>\n",
       "      <td>190</td>\n",
       "      <td>NaN</td>\n",
       "      <td>125000</td>\n",
       "      <td>5</td>\n",
       "      <td>gasoline</td>\n",
       "      <td>audi</td>\n",
       "      <td>yes</td>\n",
       "      <td>24/03/2016 00:00</td>\n",
       "      <td>0</td>\n",
       "      <td>66954</td>\n",
       "      <td>07/04/2016 01:46</td>\n",
       "    </tr>\n",
       "    <tr>\n",
       "      <th>2</th>\n",
       "      <td>14/03/2016 12:52</td>\n",
       "      <td>9800</td>\n",
       "      <td>suv</td>\n",
       "      <td>2004</td>\n",
       "      <td>auto</td>\n",
       "      <td>163</td>\n",
       "      <td>grand</td>\n",
       "      <td>125000</td>\n",
       "      <td>8</td>\n",
       "      <td>gasoline</td>\n",
       "      <td>jeep</td>\n",
       "      <td>NaN</td>\n",
       "      <td>14/03/2016 00:00</td>\n",
       "      <td>0</td>\n",
       "      <td>90480</td>\n",
       "      <td>05/04/2016 12:47</td>\n",
       "    </tr>\n",
       "    <tr>\n",
       "      <th>3</th>\n",
       "      <td>17/03/2016 16:54</td>\n",
       "      <td>1500</td>\n",
       "      <td>small</td>\n",
       "      <td>2001</td>\n",
       "      <td>manual</td>\n",
       "      <td>75</td>\n",
       "      <td>golf</td>\n",
       "      <td>150000</td>\n",
       "      <td>6</td>\n",
       "      <td>petrol</td>\n",
       "      <td>volkswagen</td>\n",
       "      <td>no</td>\n",
       "      <td>17/03/2016 00:00</td>\n",
       "      <td>0</td>\n",
       "      <td>91074</td>\n",
       "      <td>17/03/2016 17:40</td>\n",
       "    </tr>\n",
       "    <tr>\n",
       "      <th>4</th>\n",
       "      <td>31/03/2016 17:25</td>\n",
       "      <td>3600</td>\n",
       "      <td>small</td>\n",
       "      <td>2008</td>\n",
       "      <td>manual</td>\n",
       "      <td>69</td>\n",
       "      <td>fabia</td>\n",
       "      <td>90000</td>\n",
       "      <td>7</td>\n",
       "      <td>gasoline</td>\n",
       "      <td>skoda</td>\n",
       "      <td>no</td>\n",
       "      <td>31/03/2016 00:00</td>\n",
       "      <td>0</td>\n",
       "      <td>60437</td>\n",
       "      <td>06/04/2016 10:17</td>\n",
       "    </tr>\n",
       "  </tbody>\n",
       "</table>\n",
       "</div>"
      ],
      "text/plain": [
       "       date_crawled  price vehicle_type  registration_year gearbox  power  \\\n",
       "0  24/03/2016 11:52    480          NaN               1993  manual      0   \n",
       "1  24/03/2016 10:58  18300        coupe               2011  manual    190   \n",
       "2  14/03/2016 12:52   9800          suv               2004    auto    163   \n",
       "3  17/03/2016 16:54   1500        small               2001  manual     75   \n",
       "4  31/03/2016 17:25   3600        small               2008  manual     69   \n",
       "\n",
       "   model  mileage  registration_month fuel_type       brand not_repaired  \\\n",
       "0   golf   150000                   0    petrol  volkswagen          NaN   \n",
       "1    NaN   125000                   5  gasoline        audi          yes   \n",
       "2  grand   125000                   8  gasoline        jeep          NaN   \n",
       "3   golf   150000                   6    petrol  volkswagen           no   \n",
       "4  fabia    90000                   7  gasoline       skoda           no   \n",
       "\n",
       "       date_created  number_of_pictures  postal_code         last_seen  \n",
       "0  24/03/2016 00:00                   0        70435  07/04/2016 03:16  \n",
       "1  24/03/2016 00:00                   0        66954  07/04/2016 01:46  \n",
       "2  14/03/2016 00:00                   0        90480  05/04/2016 12:47  \n",
       "3  17/03/2016 00:00                   0        91074  17/03/2016 17:40  \n",
       "4  31/03/2016 00:00                   0        60437  06/04/2016 10:17  "
      ]
     },
     "execution_count": 14,
     "metadata": {},
     "output_type": "execute_result"
    }
   ],
   "source": [
    "#replace column names\n",
    "df= df.rename(columns=replace_dict)\n",
    "df.head()"
   ]
  },
  {
   "cell_type": "markdown",
   "metadata": {},
   "source": [
    "### 1.b) Remove duplicates\n"
   ]
  },
  {
   "cell_type": "code",
   "execution_count": 15,
   "metadata": {},
   "outputs": [],
   "source": [
    "#remove duplicates and reset index\n",
    "df.drop_duplicates( inplace=True, ignore_index=True)"
   ]
  },
  {
   "cell_type": "code",
   "execution_count": 16,
   "metadata": {},
   "outputs": [
    {
     "data": {
      "text/plain": [
       "0"
      ]
     },
     "execution_count": 16,
     "metadata": {},
     "output_type": "execute_result"
    }
   ],
   "source": [
    "#check result\n",
    "df.duplicated().sum()"
   ]
  },
  {
   "cell_type": "markdown",
   "metadata": {},
   "source": [
    "### 1.c) Change datatypes"
   ]
  },
  {
   "cell_type": "code",
   "execution_count": 17,
   "metadata": {},
   "outputs": [
    {
     "name": "stdout",
     "output_type": "stream",
     "text": [
      "<class 'pandas.core.frame.DataFrame'>\n",
      "RangeIndex: 354107 entries, 0 to 354106\n",
      "Data columns (total 16 columns):\n",
      " #   Column              Non-Null Count   Dtype \n",
      "---  ------              --------------   ----- \n",
      " 0   date_crawled        354107 non-null  int64 \n",
      " 1   price               354107 non-null  int64 \n",
      " 2   vehicle_type        316623 non-null  object\n",
      " 3   registration_year   354107 non-null  int64 \n",
      " 4   gearbox             334277 non-null  object\n",
      " 5   power               354107 non-null  int64 \n",
      " 6   model               334406 non-null  object\n",
      " 7   mileage             354107 non-null  int64 \n",
      " 8   registration_month  354107 non-null  int64 \n",
      " 9   fuel_type           321218 non-null  object\n",
      " 10  brand               354107 non-null  object\n",
      " 11  not_repaired        282962 non-null  object\n",
      " 12  date_created        354107 non-null  int64 \n",
      " 13  number_of_pictures  354107 non-null  int64 \n",
      " 14  postal_code         354107 non-null  int64 \n",
      " 15  last_seen           354107 non-null  int64 \n",
      "dtypes: int64(10), object(6)\n",
      "memory usage: 43.2+ MB\n"
     ]
    }
   ],
   "source": [
    "#change dates to datetime\n",
    "\n",
    "df['date_crawled']= pd.to_datetime(df['date_crawled'])\n",
    "df['date_created']= pd.to_datetime(df['date_created'])\n",
    "df['last_seen']= pd.to_datetime(df['last_seen'])\n",
    "\n",
    "#change datetime features to integer to enable ML models to easily process them\n",
    "df['date_crawled'] = df['date_crawled'].apply(lambda x: x.value)\n",
    "df['date_created'] = df['date_created'].apply(lambda x: x.value)\n",
    "df['last_seen'] = df['last_seen'].apply(lambda x: x.value)\n",
    "\n",
    "df.info()"
   ]
  },
  {
   "cell_type": "markdown",
   "metadata": {},
   "source": [
    "### 1.d) Replace odd numerical values"
   ]
  },
  {
   "cell_type": "markdown",
   "metadata": {},
   "source": [
    "#### 1.d.1) price"
   ]
  },
  {
   "cell_type": "code",
   "execution_count": 18,
   "metadata": {},
   "outputs": [
    {
     "data": {
      "text/plain": [
       "0.03759033286548981"
      ]
     },
     "execution_count": 18,
     "metadata": {},
     "output_type": "execute_result"
    }
   ],
   "source": [
    "#get % of cars where price is < 100 $\n",
    "df.loc[df['price']<100,'price'].count()/len(df)"
   ]
  },
  {
   "cell_type": "markdown",
   "metadata": {},
   "source": [
    "As the prices below 100 $ are only affecting the 4% of the dataset, and filling out the target value is not a good practice because it might lead to biased conclusions, we'll drop out these rows."
   ]
  },
  {
   "cell_type": "code",
   "execution_count": 19,
   "metadata": {},
   "outputs": [
    {
     "data": {
      "text/plain": [
       "(340796, 16)"
      ]
     },
     "execution_count": 19,
     "metadata": {},
     "output_type": "execute_result"
    }
   ],
   "source": [
    "#redefine df selecting only rows where price>0€\n",
    "df= df[df['price']>99].copy()\n",
    "df.reset_index(inplace=True, drop=True)\n",
    "df.shape"
   ]
  },
  {
   "cell_type": "markdown",
   "metadata": {},
   "source": [
    "#### 1.d.2) registration_year"
   ]
  },
  {
   "cell_type": "code",
   "execution_count": 20,
   "metadata": {},
   "outputs": [
    {
     "data": {
      "text/plain": [
       "0.3271752015868731"
      ]
     },
     "execution_count": 20,
     "metadata": {},
     "output_type": "execute_result"
    }
   ],
   "source": [
    "#get % of cars where registration year was before 1970\n",
    "(df.loc[df['registration_year']<1970,'registration_year'].count())/len(df)*100"
   ]
  },
  {
   "cell_type": "code",
   "execution_count": 21,
   "metadata": {},
   "outputs": [
    {
     "data": {
      "text/plain": [
       "0.021127008532964002"
      ]
     },
     "execution_count": 21,
     "metadata": {},
     "output_type": "execute_result"
    }
   ],
   "source": [
    "#get % of cars where registration year was after 2019\n",
    "(df.loc[df['registration_year']>2019,'registration_year'].count())/len(df)*100"
   ]
  },
  {
   "cell_type": "code",
   "execution_count": 22,
   "metadata": {},
   "outputs": [
    {
     "data": {
      "text/plain": [
       "0.3483022101198371"
      ]
     },
     "execution_count": 22,
     "metadata": {},
     "output_type": "execute_result"
    }
   ],
   "source": [
    "#get % of cars where registration year is >2019 or <1970\n",
    "(df.loc[df['registration_year']<1970,'registration_year'].count())/len(df)*100+(df.loc[df['registration_year']>2019,'registration_year'].count())/len(df)*100"
   ]
  },
  {
   "cell_type": "markdown",
   "metadata": {},
   "source": [
    "As both values added together represent an extremely low percentage of the dataset (0.3%), the best way to go is dropping out such rows."
   ]
  },
  {
   "cell_type": "code",
   "execution_count": 23,
   "metadata": {},
   "outputs": [
    {
     "data": {
      "text/plain": [
       "(339609, 16)"
      ]
     },
     "execution_count": 23,
     "metadata": {},
     "output_type": "execute_result"
    }
   ],
   "source": [
    "#redefine df selecting only rows where registration year is neither 1000 nor 9999\n",
    "df= df[(df['registration_year']<=2019) & (df['registration_year']>=1970)].copy()\n",
    "df.reset_index(inplace=True, drop=True)\n",
    "df.shape"
   ]
  },
  {
   "cell_type": "markdown",
   "metadata": {},
   "source": [
    "#### 1.d.3) power"
   ]
  },
  {
   "cell_type": "markdown",
   "metadata": {},
   "source": [
    "We will consider valid hp values all of those between 50 and 250.\n",
    "\n",
    "The last car one could buy with 50 hp was released in 1993, according to this article: https://www.autoweek.com/car-life/but-wait-theres-more/a35086315/what-was-the-last-new-car-you-could-buy-with-under-50-horsepower/ "
   ]
  },
  {
   "cell_type": "code",
   "execution_count": 24,
   "metadata": {},
   "outputs": [
    {
     "data": {
      "text/plain": [
       "10.192014934822105"
      ]
     },
     "execution_count": 24,
     "metadata": {},
     "output_type": "execute_result"
    }
   ],
   "source": [
    "#get % of cars where hp is 0\n",
    "(df.loc[df['power']==0,'power'].count())/len(df)*100"
   ]
  },
  {
   "cell_type": "code",
   "execution_count": 25,
   "metadata": {},
   "outputs": [
    {
     "data": {
      "text/plain": [
       "1.57769670415095"
      ]
     },
     "execution_count": 25,
     "metadata": {},
     "output_type": "execute_result"
    }
   ],
   "source": [
    "#get % of cars where hp is >0 but <50\n",
    "(df.loc[(df['power']>0) & (df['power']<50),'power'].count())/len(df)*100"
   ]
  },
  {
   "cell_type": "code",
   "execution_count": 26,
   "metadata": {},
   "outputs": [
    {
     "data": {
      "text/plain": [
       "0.9787726473680026"
      ]
     },
     "execution_count": 26,
     "metadata": {},
     "output_type": "execute_result"
    }
   ],
   "source": [
    "#get % of cars where hp is higher than 250\n",
    "(df.loc[df['power']>300,'power'].count())/len(df)*100"
   ]
  },
  {
   "cell_type": "markdown",
   "metadata": {},
   "source": [
    "We will set all the odd values to 0 (unknown) until we've filled out the missing values in \"model\". After that, we'll assess the feasibility of replacing 0 by the mean/median for the model."
   ]
  },
  {
   "cell_type": "code",
   "execution_count": 27,
   "metadata": {},
   "outputs": [],
   "source": [
    "#replace power of cars where hp is <50 or >250 by 0\n",
    "df.loc[df['power']<50,'power'] = 0\n",
    "df.loc[df['power']>250,'power'] = 0"
   ]
  },
  {
   "cell_type": "code",
   "execution_count": 28,
   "metadata": {},
   "outputs": [
    {
     "data": {
      "text/plain": [
       "13.866534750256912"
      ]
     },
     "execution_count": 28,
     "metadata": {},
     "output_type": "execute_result"
    }
   ],
   "source": [
    "#get % of cars where hp is 0\n",
    "(df.loc[df['power']==0,'power'].count())/len(df)*100"
   ]
  },
  {
   "cell_type": "markdown",
   "metadata": {},
   "source": [
    "#### 1.d.4) registration_month: 0 "
   ]
  },
  {
   "cell_type": "code",
   "execution_count": 29,
   "metadata": {},
   "outputs": [
    {
     "data": {
      "text/plain": [
       "9.23267640139101"
      ]
     },
     "execution_count": 29,
     "metadata": {},
     "output_type": "execute_result"
    }
   ],
   "source": [
    "#print % of rows where month=0\n",
    "df.loc[df['registration_month']==0, 'registration_month'].count()/len(df)*100"
   ]
  },
  {
   "cell_type": "code",
   "execution_count": 30,
   "metadata": {},
   "outputs": [
    {
     "data": {
      "text/plain": [
       "0     9.232676\n",
       "1     6.578153\n",
       "2     6.082878\n",
       "3     9.884014\n",
       "4     8.386704\n",
       "5     8.333112\n",
       "6     9.003001\n",
       "7     7.761867\n",
       "8     6.473032\n",
       "9     6.840808\n",
       "10    7.503629\n",
       "11    6.963302\n",
       "12    6.956824\n",
       "Name: registration_month, dtype: float64"
      ]
     },
     "execution_count": 30,
     "metadata": {},
     "output_type": "execute_result"
    }
   ],
   "source": [
    "#print percentage of cars registered each month\n",
    "(df['registration_month'].value_counts()/len(df)*100).sort_index()"
   ]
  },
  {
   "cell_type": "markdown",
   "metadata": {},
   "source": [
    "Even though only a 9% of values is wrong in registration_month, it's not worth dropping out the rows as the column is not actually likely to hit the price of the car. We will leave the month as 0, meaning that it is \"unknown\". Since registration_month is consistently distributed accross all the year, replacing 0 by any specific month could be misleading."
   ]
  },
  {
   "cell_type": "markdown",
   "metadata": {},
   "source": [
    "#### 1.d.5) number_of_pictures"
   ]
  },
  {
   "cell_type": "code",
   "execution_count": 31,
   "metadata": {},
   "outputs": [
    {
     "data": {
      "text/plain": [
       "0    339609\n",
       "Name: number_of_pictures, dtype: int64"
      ]
     },
     "execution_count": 31,
     "metadata": {},
     "output_type": "execute_result"
    }
   ],
   "source": [
    "#print value counts\n",
    "df['number_of_pictures'].value_counts()"
   ]
  },
  {
   "cell_type": "code",
   "execution_count": 32,
   "metadata": {},
   "outputs": [],
   "source": [
    "#drop column\n",
    "df.drop('number_of_pictures', axis=1, inplace=True)\n"
   ]
  },
  {
   "cell_type": "code",
   "execution_count": 33,
   "metadata": {},
   "outputs": [
    {
     "data": {
      "text/html": [
       "<div>\n",
       "<style scoped>\n",
       "    .dataframe tbody tr th:only-of-type {\n",
       "        vertical-align: middle;\n",
       "    }\n",
       "\n",
       "    .dataframe tbody tr th {\n",
       "        vertical-align: top;\n",
       "    }\n",
       "\n",
       "    .dataframe thead th {\n",
       "        text-align: right;\n",
       "    }\n",
       "</style>\n",
       "<table border=\"1\" class=\"dataframe\">\n",
       "  <thead>\n",
       "    <tr style=\"text-align: right;\">\n",
       "      <th></th>\n",
       "      <th>date_crawled</th>\n",
       "      <th>price</th>\n",
       "      <th>registration_year</th>\n",
       "      <th>power</th>\n",
       "      <th>mileage</th>\n",
       "      <th>registration_month</th>\n",
       "      <th>date_created</th>\n",
       "      <th>postal_code</th>\n",
       "      <th>last_seen</th>\n",
       "    </tr>\n",
       "  </thead>\n",
       "  <tbody>\n",
       "    <tr>\n",
       "      <th>count</th>\n",
       "      <td>3.396090e+05</td>\n",
       "      <td>339609.000000</td>\n",
       "      <td>339609.000000</td>\n",
       "      <td>339609.000000</td>\n",
       "      <td>339609.000000</td>\n",
       "      <td>339609.000000</td>\n",
       "      <td>3.396090e+05</td>\n",
       "      <td>339609.000000</td>\n",
       "      <td>3.396090e+05</td>\n",
       "    </tr>\n",
       "    <tr>\n",
       "      <th>mean</th>\n",
       "      <td>1.461751e+18</td>\n",
       "      <td>4577.324756</td>\n",
       "      <td>2003.346042</td>\n",
       "      <td>101.189621</td>\n",
       "      <td>128700.711701</td>\n",
       "      <td>5.804254</td>\n",
       "      <td>1.461668e+18</td>\n",
       "      <td>50701.473450</td>\n",
       "      <td>1.462677e+18</td>\n",
       "    </tr>\n",
       "    <tr>\n",
       "      <th>std</th>\n",
       "      <td>6.941641e+15</td>\n",
       "      <td>4505.451671</td>\n",
       "      <td>6.874705</td>\n",
       "      <td>58.127163</td>\n",
       "      <td>37018.295074</td>\n",
       "      <td>3.689136</td>\n",
       "      <td>6.944732e+15</td>\n",
       "      <td>25728.001994</td>\n",
       "      <td>5.483422e+15</td>\n",
       "    </tr>\n",
       "    <tr>\n",
       "      <th>min</th>\n",
       "      <td>1.451866e+18</td>\n",
       "      <td>100.000000</td>\n",
       "      <td>1970.000000</td>\n",
       "      <td>0.000000</td>\n",
       "      <td>5000.000000</td>\n",
       "      <td>0.000000</td>\n",
       "      <td>1.412294e+18</td>\n",
       "      <td>1067.000000</td>\n",
       "      <td>1.451866e+18</td>\n",
       "    </tr>\n",
       "    <tr>\n",
       "      <th>25%</th>\n",
       "      <td>1.458248e+18</td>\n",
       "      <td>1200.000000</td>\n",
       "      <td>1999.000000</td>\n",
       "      <td>67.000000</td>\n",
       "      <td>125000.000000</td>\n",
       "      <td>3.000000</td>\n",
       "      <td>1.458173e+18</td>\n",
       "      <td>30455.000000</td>\n",
       "      <td>1.458726e+18</td>\n",
       "    </tr>\n",
       "    <tr>\n",
       "      <th>50%</th>\n",
       "      <td>1.458943e+18</td>\n",
       "      <td>2900.000000</td>\n",
       "      <td>2003.000000</td>\n",
       "      <td>102.000000</td>\n",
       "      <td>150000.000000</td>\n",
       "      <td>6.000000</td>\n",
       "      <td>1.458864e+18</td>\n",
       "      <td>49525.000000</td>\n",
       "      <td>1.462371e+18</td>\n",
       "    </tr>\n",
       "    <tr>\n",
       "      <th>75%</th>\n",
       "      <td>1.462298e+18</td>\n",
       "      <td>6500.000000</td>\n",
       "      <td>2008.000000</td>\n",
       "      <td>140.000000</td>\n",
       "      <td>150000.000000</td>\n",
       "      <td>9.000000</td>\n",
       "      <td>1.462234e+18</td>\n",
       "      <td>71229.000000</td>\n",
       "      <td>1.465064e+18</td>\n",
       "    </tr>\n",
       "    <tr>\n",
       "      <th>max</th>\n",
       "      <td>1.480810e+18</td>\n",
       "      <td>20000.000000</td>\n",
       "      <td>2019.000000</td>\n",
       "      <td>250.000000</td>\n",
       "      <td>150000.000000</td>\n",
       "      <td>12.000000</td>\n",
       "      <td>1.480723e+18</td>\n",
       "      <td>99998.000000</td>\n",
       "      <td>1.480809e+18</td>\n",
       "    </tr>\n",
       "  </tbody>\n",
       "</table>\n",
       "</div>"
      ],
      "text/plain": [
       "       date_crawled          price  registration_year          power  \\\n",
       "count  3.396090e+05  339609.000000      339609.000000  339609.000000   \n",
       "mean   1.461751e+18    4577.324756        2003.346042     101.189621   \n",
       "std    6.941641e+15    4505.451671           6.874705      58.127163   \n",
       "min    1.451866e+18     100.000000        1970.000000       0.000000   \n",
       "25%    1.458248e+18    1200.000000        1999.000000      67.000000   \n",
       "50%    1.458943e+18    2900.000000        2003.000000     102.000000   \n",
       "75%    1.462298e+18    6500.000000        2008.000000     140.000000   \n",
       "max    1.480810e+18   20000.000000        2019.000000     250.000000   \n",
       "\n",
       "             mileage  registration_month  date_created    postal_code  \\\n",
       "count  339609.000000       339609.000000  3.396090e+05  339609.000000   \n",
       "mean   128700.711701            5.804254  1.461668e+18   50701.473450   \n",
       "std     37018.295074            3.689136  6.944732e+15   25728.001994   \n",
       "min      5000.000000            0.000000  1.412294e+18    1067.000000   \n",
       "25%    125000.000000            3.000000  1.458173e+18   30455.000000   \n",
       "50%    150000.000000            6.000000  1.458864e+18   49525.000000   \n",
       "75%    150000.000000            9.000000  1.462234e+18   71229.000000   \n",
       "max    150000.000000           12.000000  1.480723e+18   99998.000000   \n",
       "\n",
       "          last_seen  \n",
       "count  3.396090e+05  \n",
       "mean   1.462677e+18  \n",
       "std    5.483422e+15  \n",
       "min    1.451866e+18  \n",
       "25%    1.458726e+18  \n",
       "50%    1.462371e+18  \n",
       "75%    1.465064e+18  \n",
       "max    1.480809e+18  "
      ]
     },
     "execution_count": 33,
     "metadata": {},
     "output_type": "execute_result"
    }
   ],
   "source": [
    "#check statistics of numerical columns after dealing with odd values\n",
    "df.describe()"
   ]
  },
  {
   "cell_type": "markdown",
   "metadata": {},
   "source": [
    "We see that now, price ranges from USD 100 to USD 20,000, registration_year starts is 1970 and ends in 2019, and even though power was limited to a maximum of 250 hp, such column and registration month still have a min of zero to indicate the real value is unknown."
   ]
  },
  {
   "cell_type": "markdown",
   "metadata": {},
   "source": [
    "### 1.e) Fix missing values\n"
   ]
  },
  {
   "cell_type": "markdown",
   "metadata": {},
   "source": [
    "#### 1.e.1) vehicle type\n",
    "The vehicle type can be easily pulled from the brand and model.\n",
    "\n",
    "First off, we'll start by rows where model is not missing and use the brand and model to fill out values."
   ]
  },
  {
   "cell_type": "code",
   "execution_count": 34,
   "metadata": {},
   "outputs": [
    {
     "data": {
      "text/plain": [
       "32399"
      ]
     },
     "execution_count": 34,
     "metadata": {},
     "output_type": "execute_result"
    }
   ],
   "source": [
    "#Print sum of missing values\n",
    "df['vehicle_type'].isna().sum()"
   ]
  },
  {
   "cell_type": "code",
   "execution_count": 35,
   "metadata": {},
   "outputs": [
    {
     "data": {
      "text/html": [
       "<div>\n",
       "<style scoped>\n",
       "    .dataframe tbody tr th:only-of-type {\n",
       "        vertical-align: middle;\n",
       "    }\n",
       "\n",
       "    .dataframe tbody tr th {\n",
       "        vertical-align: top;\n",
       "    }\n",
       "\n",
       "    .dataframe thead th {\n",
       "        text-align: right;\n",
       "    }\n",
       "</style>\n",
       "<table border=\"1\" class=\"dataframe\">\n",
       "  <thead>\n",
       "    <tr style=\"text-align: right;\">\n",
       "      <th></th>\n",
       "      <th>brand</th>\n",
       "      <th>model</th>\n",
       "      <th>vehicle_type</th>\n",
       "    </tr>\n",
       "  </thead>\n",
       "  <tbody>\n",
       "    <tr>\n",
       "      <th>0</th>\n",
       "      <td>alfa_romeo</td>\n",
       "      <td>145</td>\n",
       "      <td>small</td>\n",
       "    </tr>\n",
       "    <tr>\n",
       "      <th>1</th>\n",
       "      <td>alfa_romeo</td>\n",
       "      <td>147</td>\n",
       "      <td>sedan</td>\n",
       "    </tr>\n",
       "    <tr>\n",
       "      <th>2</th>\n",
       "      <td>alfa_romeo</td>\n",
       "      <td>156</td>\n",
       "      <td>wagon</td>\n",
       "    </tr>\n",
       "    <tr>\n",
       "      <th>3</th>\n",
       "      <td>alfa_romeo</td>\n",
       "      <td>159</td>\n",
       "      <td>sedan</td>\n",
       "    </tr>\n",
       "    <tr>\n",
       "      <th>4</th>\n",
       "      <td>alfa_romeo</td>\n",
       "      <td>other</td>\n",
       "      <td>coupe</td>\n",
       "    </tr>\n",
       "    <tr>\n",
       "      <th>...</th>\n",
       "      <td>...</td>\n",
       "      <td>...</td>\n",
       "      <td>...</td>\n",
       "    </tr>\n",
       "    <tr>\n",
       "      <th>292</th>\n",
       "      <td>volvo</td>\n",
       "      <td>v40</td>\n",
       "      <td>wagon</td>\n",
       "    </tr>\n",
       "    <tr>\n",
       "      <th>293</th>\n",
       "      <td>volvo</td>\n",
       "      <td>v50</td>\n",
       "      <td>wagon</td>\n",
       "    </tr>\n",
       "    <tr>\n",
       "      <th>294</th>\n",
       "      <td>volvo</td>\n",
       "      <td>v60</td>\n",
       "      <td>wagon</td>\n",
       "    </tr>\n",
       "    <tr>\n",
       "      <th>295</th>\n",
       "      <td>volvo</td>\n",
       "      <td>v70</td>\n",
       "      <td>wagon</td>\n",
       "    </tr>\n",
       "    <tr>\n",
       "      <th>296</th>\n",
       "      <td>volvo</td>\n",
       "      <td>xc_reihe</td>\n",
       "      <td>suv</td>\n",
       "    </tr>\n",
       "  </tbody>\n",
       "</table>\n",
       "<p>297 rows × 3 columns</p>\n",
       "</div>"
      ],
      "text/plain": [
       "          brand     model vehicle_type\n",
       "0    alfa_romeo       145        small\n",
       "1    alfa_romeo       147        sedan\n",
       "2    alfa_romeo       156        wagon\n",
       "3    alfa_romeo       159        sedan\n",
       "4    alfa_romeo     other        coupe\n",
       "..          ...       ...          ...\n",
       "292       volvo       v40        wagon\n",
       "293       volvo       v50        wagon\n",
       "294       volvo       v60        wagon\n",
       "295       volvo       v70        wagon\n",
       "296       volvo  xc_reihe          suv\n",
       "\n",
       "[297 rows x 3 columns]"
      ]
     },
     "execution_count": 35,
     "metadata": {},
     "output_type": "execute_result"
    }
   ],
   "source": [
    "#create a df setting the first vehicle type for a given model and brand\n",
    "v_type_df= df.groupby(['brand', 'model']).agg({'vehicle_type':'first'})\n",
    "\n",
    "v_type_df.reset_index(inplace=True)\n",
    "v_type_df"
   ]
  },
  {
   "cell_type": "code",
   "execution_count": 36,
   "metadata": {},
   "outputs": [],
   "source": [
    "#where model is not missing, fill out values looking up the type in the previous df\n",
    "\n",
    "for i in range(len(df)):\n",
    "    if pd.notnull(df.loc[i,'model']) and pd.isnull(df.loc[i,'vehicle_type']):\n",
    "        df.loc[i,'vehicle_type']=  pd.Series(v_type_df.loc[(v_type_df['brand']==df.loc[i,'brand']) & (v_type_df['model']==df.loc[i,'model']),'vehicle_type'].values).mode()[0]\n",
    "        \n",
    "    else:\n",
    "        continue"
   ]
  },
  {
   "cell_type": "code",
   "execution_count": 37,
   "metadata": {},
   "outputs": [
    {
     "data": {
      "text/plain": [
       "1.5217500125143917"
      ]
     },
     "execution_count": 37,
     "metadata": {},
     "output_type": "execute_result"
    }
   ],
   "source": [
    "#print % of remaining missing values\n",
    "\n",
    "df['vehicle_type'].isna().sum()/len(df)*100"
   ]
  },
  {
   "cell_type": "code",
   "execution_count": 38,
   "metadata": {},
   "outputs": [
    {
     "data": {
      "text/plain": [
       "1.5217500125143917"
      ]
     },
     "execution_count": 38,
     "metadata": {},
     "output_type": "execute_result"
    }
   ],
   "source": [
    "#Make sure model is also missing in all of them\n",
    "len(df[(df['vehicle_type'].isna()) &(df['model'].isna())])/len(df)*100"
   ]
  },
  {
   "cell_type": "markdown",
   "metadata": {},
   "source": [
    "Provided that remaining missing values in vehicle type represent only 1.5% of the dataset, and they can't be reliably filled out due to model also being missing, we'll drop out those rows."
   ]
  },
  {
   "cell_type": "code",
   "execution_count": 39,
   "metadata": {},
   "outputs": [
    {
     "data": {
      "text/plain": [
       "334441"
      ]
     },
     "execution_count": 39,
     "metadata": {},
     "output_type": "execute_result"
    }
   ],
   "source": [
    "#remove rows where vehicle type could not be filled out based on model and brand\n",
    "df= df[df['vehicle_type'].isna()==False]\n",
    "df.reset_index(inplace=True, drop=True)\n",
    "len(df)"
   ]
  },
  {
   "cell_type": "markdown",
   "metadata": {},
   "source": [
    "#### 1.e.2) Model, fuel type and gearbox\n",
    "\n",
    "Recall from the data overview that the percentage of missing values are as follows:\n",
    "\n",
    "- FuelType 9.28%\n",
    "\n",
    "- Gearbox 5.6%\n",
    "\n",
    "- Model 5.56%\n",
    "\n",
    "Correlation between model and price is rather weak (-0.033), hence, the risk of biasing the results by inaccurately filling out missing values is lower. When it comes to fuel type and gearbox the risk is higher, because of their correlation index of -0.32 and -0.26. However, we can notice that the % of empty values is not that high. \n",
    "\n",
    "The most reasonable way to get the model, fuel type and Gearbox correctly is pulling it from other rows where the brand, vehicle type and registration year is the same.\n",
    "\n",
    "Since NaN values are sorted last when applying ascending order, we will sort the df by brand, vehicle type and registration year (for a given year, each brand usually launches one model per vehicle type) , and finally by model (NaN values will be at the end) in order to use forward filling to fill out NaN cells (ffill takes the inmediately preceeding value).\n",
    "\n",
    "\n",
    "Once model is complete, we'll do the same with fuel type and gearbox."
   ]
  },
  {
   "cell_type": "code",
   "execution_count": 40,
   "metadata": {},
   "outputs": [
    {
     "data": {
      "text/html": [
       "<div>\n",
       "<style scoped>\n",
       "    .dataframe tbody tr th:only-of-type {\n",
       "        vertical-align: middle;\n",
       "    }\n",
       "\n",
       "    .dataframe tbody tr th {\n",
       "        vertical-align: top;\n",
       "    }\n",
       "\n",
       "    .dataframe thead th {\n",
       "        text-align: right;\n",
       "    }\n",
       "</style>\n",
       "<table border=\"1\" class=\"dataframe\">\n",
       "  <thead>\n",
       "    <tr style=\"text-align: right;\">\n",
       "      <th></th>\n",
       "      <th>date_crawled</th>\n",
       "      <th>price</th>\n",
       "      <th>vehicle_type</th>\n",
       "      <th>registration_year</th>\n",
       "      <th>gearbox</th>\n",
       "      <th>power</th>\n",
       "      <th>model</th>\n",
       "      <th>mileage</th>\n",
       "      <th>registration_month</th>\n",
       "      <th>fuel_type</th>\n",
       "      <th>brand</th>\n",
       "      <th>not_repaired</th>\n",
       "      <th>date_created</th>\n",
       "      <th>postal_code</th>\n",
       "      <th>last_seen</th>\n",
       "    </tr>\n",
       "  </thead>\n",
       "  <tbody>\n",
       "    <tr>\n",
       "      <th>277180</th>\n",
       "      <td>1459385880000000000</td>\n",
       "      <td>6000</td>\n",
       "      <td>wagon</td>\n",
       "      <td>1998</td>\n",
       "      <td>manual</td>\n",
       "      <td>165</td>\n",
       "      <td>other</td>\n",
       "      <td>150000</td>\n",
       "      <td>3</td>\n",
       "      <td>petrol</td>\n",
       "      <td>volvo</td>\n",
       "      <td>no</td>\n",
       "      <td>1459296000000000000</td>\n",
       "      <td>90455</td>\n",
       "      <td>1459729020000000000</td>\n",
       "    </tr>\n",
       "    <tr>\n",
       "      <th>194293</th>\n",
       "      <td>1467642960000000000</td>\n",
       "      <td>270</td>\n",
       "      <td>wagon</td>\n",
       "      <td>1998</td>\n",
       "      <td>manual</td>\n",
       "      <td>90</td>\n",
       "      <td>v40</td>\n",
       "      <td>150000</td>\n",
       "      <td>6</td>\n",
       "      <td>gasoline</td>\n",
       "      <td>volvo</td>\n",
       "      <td>no</td>\n",
       "      <td>1467590400000000000</td>\n",
       "      <td>44789</td>\n",
       "      <td>1467642960000000000</td>\n",
       "    </tr>\n",
       "    <tr>\n",
       "      <th>276764</th>\n",
       "      <td>1457125020000000000</td>\n",
       "      <td>590</td>\n",
       "      <td>wagon</td>\n",
       "      <td>1998</td>\n",
       "      <td>manual</td>\n",
       "      <td>90</td>\n",
       "      <td>v40</td>\n",
       "      <td>150000</td>\n",
       "      <td>5</td>\n",
       "      <td>gasoline</td>\n",
       "      <td>volvo</td>\n",
       "      <td>yes</td>\n",
       "      <td>1457049600000000000</td>\n",
       "      <td>44789</td>\n",
       "      <td>1457125020000000000</td>\n",
       "    </tr>\n",
       "    <tr>\n",
       "      <th>290487</th>\n",
       "      <td>1459773780000000000</td>\n",
       "      <td>450</td>\n",
       "      <td>wagon</td>\n",
       "      <td>1998</td>\n",
       "      <td>manual</td>\n",
       "      <td>90</td>\n",
       "      <td>v40</td>\n",
       "      <td>150000</td>\n",
       "      <td>6</td>\n",
       "      <td>gasoline</td>\n",
       "      <td>volvo</td>\n",
       "      <td>yes</td>\n",
       "      <td>1459728000000000000</td>\n",
       "      <td>44789</td>\n",
       "      <td>1465047840000000000</td>\n",
       "    </tr>\n",
       "    <tr>\n",
       "      <th>324094</th>\n",
       "      <td>1459360500000000000</td>\n",
       "      <td>1350</td>\n",
       "      <td>wagon</td>\n",
       "      <td>1998</td>\n",
       "      <td>manual</td>\n",
       "      <td>90</td>\n",
       "      <td>v40</td>\n",
       "      <td>150000</td>\n",
       "      <td>11</td>\n",
       "      <td>gasoline</td>\n",
       "      <td>volvo</td>\n",
       "      <td>no</td>\n",
       "      <td>1459296000000000000</td>\n",
       "      <td>76297</td>\n",
       "      <td>1467621900000000000</td>\n",
       "    </tr>\n",
       "    <tr>\n",
       "      <th>...</th>\n",
       "      <td>...</td>\n",
       "      <td>...</td>\n",
       "      <td>...</td>\n",
       "      <td>...</td>\n",
       "      <td>...</td>\n",
       "      <td>...</td>\n",
       "      <td>...</td>\n",
       "      <td>...</td>\n",
       "      <td>...</td>\n",
       "      <td>...</td>\n",
       "      <td>...</td>\n",
       "      <td>...</td>\n",
       "      <td>...</td>\n",
       "      <td>...</td>\n",
       "      <td>...</td>\n",
       "    </tr>\n",
       "    <tr>\n",
       "      <th>11440</th>\n",
       "      <td>1457992140000000000</td>\n",
       "      <td>500</td>\n",
       "      <td>wagon</td>\n",
       "      <td>1998</td>\n",
       "      <td>manual</td>\n",
       "      <td>110</td>\n",
       "      <td>NaN</td>\n",
       "      <td>150000</td>\n",
       "      <td>7</td>\n",
       "      <td>petrol</td>\n",
       "      <td>volvo</td>\n",
       "      <td>yes</td>\n",
       "      <td>1457913600000000000</td>\n",
       "      <td>27245</td>\n",
       "      <td>1465047960000000000</td>\n",
       "    </tr>\n",
       "    <tr>\n",
       "      <th>74426</th>\n",
       "      <td>1458517860000000000</td>\n",
       "      <td>1700</td>\n",
       "      <td>wagon</td>\n",
       "      <td>1998</td>\n",
       "      <td>manual</td>\n",
       "      <td>144</td>\n",
       "      <td>NaN</td>\n",
       "      <td>150000</td>\n",
       "      <td>5</td>\n",
       "      <td>petrol</td>\n",
       "      <td>volvo</td>\n",
       "      <td>no</td>\n",
       "      <td>1458432000000000000</td>\n",
       "      <td>61279</td>\n",
       "      <td>1459016280000000000</td>\n",
       "    </tr>\n",
       "    <tr>\n",
       "      <th>76784</th>\n",
       "      <td>1458682620000000000</td>\n",
       "      <td>1750</td>\n",
       "      <td>wagon</td>\n",
       "      <td>1998</td>\n",
       "      <td>manual</td>\n",
       "      <td>140</td>\n",
       "      <td>NaN</td>\n",
       "      <td>150000</td>\n",
       "      <td>0</td>\n",
       "      <td>petrol</td>\n",
       "      <td>volvo</td>\n",
       "      <td>NaN</td>\n",
       "      <td>1458604800000000000</td>\n",
       "      <td>49624</td>\n",
       "      <td>1465056960000000000</td>\n",
       "    </tr>\n",
       "    <tr>\n",
       "      <th>333797</th>\n",
       "      <td>1458661080000000000</td>\n",
       "      <td>400</td>\n",
       "      <td>wagon</td>\n",
       "      <td>1998</td>\n",
       "      <td>manual</td>\n",
       "      <td>105</td>\n",
       "      <td>NaN</td>\n",
       "      <td>150000</td>\n",
       "      <td>7</td>\n",
       "      <td>petrol</td>\n",
       "      <td>volvo</td>\n",
       "      <td>NaN</td>\n",
       "      <td>1458604800000000000</td>\n",
       "      <td>25336</td>\n",
       "      <td>1459428240000000000</td>\n",
       "    </tr>\n",
       "    <tr>\n",
       "      <th>3726</th>\n",
       "      <td>1462305060000000000</td>\n",
       "      <td>1299</td>\n",
       "      <td>wagon</td>\n",
       "      <td>1998</td>\n",
       "      <td>auto</td>\n",
       "      <td>140</td>\n",
       "      <td>NaN</td>\n",
       "      <td>150000</td>\n",
       "      <td>0</td>\n",
       "      <td>NaN</td>\n",
       "      <td>volvo</td>\n",
       "      <td>no</td>\n",
       "      <td>1462233600000000000</td>\n",
       "      <td>52156</td>\n",
       "      <td>1459228560000000000</td>\n",
       "    </tr>\n",
       "  </tbody>\n",
       "</table>\n",
       "<p>200 rows × 15 columns</p>\n",
       "</div>"
      ],
      "text/plain": [
       "               date_crawled  price vehicle_type  registration_year gearbox  \\\n",
       "277180  1459385880000000000   6000        wagon               1998  manual   \n",
       "194293  1467642960000000000    270        wagon               1998  manual   \n",
       "276764  1457125020000000000    590        wagon               1998  manual   \n",
       "290487  1459773780000000000    450        wagon               1998  manual   \n",
       "324094  1459360500000000000   1350        wagon               1998  manual   \n",
       "...                     ...    ...          ...                ...     ...   \n",
       "11440   1457992140000000000    500        wagon               1998  manual   \n",
       "74426   1458517860000000000   1700        wagon               1998  manual   \n",
       "76784   1458682620000000000   1750        wagon               1998  manual   \n",
       "333797  1458661080000000000    400        wagon               1998  manual   \n",
       "3726    1462305060000000000   1299        wagon               1998    auto   \n",
       "\n",
       "        power  model  mileage  registration_month fuel_type  brand  \\\n",
       "277180    165  other   150000                   3    petrol  volvo   \n",
       "194293     90    v40   150000                   6  gasoline  volvo   \n",
       "276764     90    v40   150000                   5  gasoline  volvo   \n",
       "290487     90    v40   150000                   6  gasoline  volvo   \n",
       "324094     90    v40   150000                  11  gasoline  volvo   \n",
       "...       ...    ...      ...                 ...       ...    ...   \n",
       "11440     110    NaN   150000                   7    petrol  volvo   \n",
       "74426     144    NaN   150000                   5    petrol  volvo   \n",
       "76784     140    NaN   150000                   0    petrol  volvo   \n",
       "333797    105    NaN   150000                   7    petrol  volvo   \n",
       "3726      140    NaN   150000                   0       NaN  volvo   \n",
       "\n",
       "       not_repaired         date_created  postal_code            last_seen  \n",
       "277180           no  1459296000000000000        90455  1459729020000000000  \n",
       "194293           no  1467590400000000000        44789  1467642960000000000  \n",
       "276764          yes  1457049600000000000        44789  1457125020000000000  \n",
       "290487          yes  1459728000000000000        44789  1465047840000000000  \n",
       "324094           no  1459296000000000000        76297  1467621900000000000  \n",
       "...             ...                  ...          ...                  ...  \n",
       "11440           yes  1457913600000000000        27245  1465047960000000000  \n",
       "74426            no  1458432000000000000        61279  1459016280000000000  \n",
       "76784           NaN  1458604800000000000        49624  1465056960000000000  \n",
       "333797          NaN  1458604800000000000        25336  1459428240000000000  \n",
       "3726             no  1462233600000000000        52156  1459228560000000000  \n",
       "\n",
       "[200 rows x 15 columns]"
      ]
     },
     "execution_count": 40,
     "metadata": {},
     "output_type": "execute_result"
    }
   ],
   "source": [
    "#check if missing values are sorted first or last\n",
    "df_sorted=df.sort_values(by=['brand','vehicle_type','registration_year','model','fuel_type', 'gearbox'])\n",
    "df_sorted[(df_sorted['brand']=='volvo') & (df_sorted['vehicle_type']=='wagon') & (df_sorted['registration_year']==1998)]"
   ]
  },
  {
   "cell_type": "code",
   "execution_count": 41,
   "metadata": {},
   "outputs": [],
   "source": [
    "#sort values by brand, vehicle type, registration year and model (NaN values will be last)\n",
    "df=df.sort_values(by=['brand','vehicle_type','registration_year','model'])\n",
    "\n",
    "#use forward fill method to replace missing values (the previous value will be used)\n",
    "df['model']=df['model'].fillna(method='ffill')\n",
    "\n"
   ]
  },
  {
   "cell_type": "code",
   "execution_count": 42,
   "metadata": {},
   "outputs": [
    {
     "data": {
      "text/plain": [
       "array(['other', 'v40', 'v70'], dtype=object)"
      ]
     },
     "execution_count": 42,
     "metadata": {},
     "output_type": "execute_result"
    }
   ],
   "source": [
    "#check an example where model has been filled out\n",
    "df[(df['brand']=='volvo') & (df['vehicle_type']=='wagon') & (df['registration_year']==1998)]['model'].unique()"
   ]
  },
  {
   "cell_type": "code",
   "execution_count": 43,
   "metadata": {},
   "outputs": [],
   "source": [
    "#sort values by brand, vehicle type, registration year and model (NaN values will be last)\n",
    "df=df.sort_values(by=['brand','vehicle_type','registration_year','model','fuel_type'])\n",
    "\n",
    "#use forward fill method to replace missing values (the previous value will be used)\n",
    "df['fuel_type']=df['fuel_type'].fillna(method='ffill')\n"
   ]
  },
  {
   "cell_type": "code",
   "execution_count": 44,
   "metadata": {},
   "outputs": [],
   "source": [
    "#sort values by brand, vehicle type, registration year and model (NaN values will be last)\n",
    "df=df.sort_values(by=['brand','vehicle_type','registration_year','model','fuel_type','gearbox'])\n",
    "\n",
    "#use forward fill method to replace missing values (the previous value will be used)\n",
    "df['gearbox']=df['gearbox'].fillna(method='ffill')\n"
   ]
  },
  {
   "cell_type": "code",
   "execution_count": 45,
   "metadata": {},
   "outputs": [],
   "source": [
    "#sort back by index\n",
    "df= df.sort_index()\n"
   ]
  },
  {
   "cell_type": "code",
   "execution_count": 46,
   "metadata": {},
   "outputs": [
    {
     "data": {
      "text/plain": [
       "date_crawled              0\n",
       "price                     0\n",
       "vehicle_type              0\n",
       "registration_year         0\n",
       "gearbox                   0\n",
       "power                     0\n",
       "model                     0\n",
       "mileage                   0\n",
       "registration_month        0\n",
       "fuel_type                 0\n",
       "brand                     0\n",
       "not_repaired          60821\n",
       "date_created              0\n",
       "postal_code               0\n",
       "last_seen                 0\n",
       "dtype: int64"
      ]
     },
     "execution_count": 46,
     "metadata": {},
     "output_type": "execute_result"
    }
   ],
   "source": [
    "#check values were filled out\n",
    "df.isna().sum()"
   ]
  },
  {
   "cell_type": "code",
   "execution_count": 47,
   "metadata": {},
   "outputs": [
    {
     "data": {
      "text/plain": [
       "0.9437648327026348"
      ]
     },
     "execution_count": 47,
     "metadata": {},
     "output_type": "execute_result"
    }
   ],
   "source": [
    "#check % of dropped rows\n",
    "len(df)/354369"
   ]
  },
  {
   "cell_type": "markdown",
   "metadata": {},
   "source": [
    "After fixing all missing and odd values, the length of our dataset has only been reduced by a 6%"
   ]
  },
  {
   "cell_type": "markdown",
   "metadata": {},
   "source": [
    "#### 1.e.3) not_repaired"
   ]
  },
  {
   "cell_type": "markdown",
   "metadata": {},
   "source": [
    "We can see in the correlation chart above that not_repaired has a considerable though not decisive degree of correlation to price (-0.28).\n",
    "We will try to fill out missing values without biasing the ML analysis"
   ]
  },
  {
   "cell_type": "code",
   "execution_count": 48,
   "metadata": {
    "scrolled": true
   },
   "outputs": [
    {
     "data": {
      "text/plain": [
       "no     0.879797\n",
       "yes    0.120203\n",
       "Name: not_repaired, dtype: float64"
      ]
     },
     "execution_count": 48,
     "metadata": {},
     "output_type": "execute_result"
    }
   ],
   "source": [
    "#assess class imbalance in non-missing values\n",
    "df['not_repaired'].value_counts()/len(df[df['not_repaired'].isna()==False])"
   ]
  },
  {
   "cell_type": "code",
   "execution_count": 49,
   "metadata": {
    "scrolled": true
   },
   "outputs": [
    {
     "data": {
      "text/plain": [
       "mileage  not_repaired\n",
       "5000     no              0.005753\n",
       "         yes             0.001480\n",
       "10000    no              0.002500\n",
       "         yes             0.000158\n",
       "20000    no              0.008677\n",
       "         yes             0.000721\n",
       "30000    no              0.010698\n",
       "         yes             0.000640\n",
       "40000    no              0.012487\n",
       "         yes             0.000514\n",
       "50000    no              0.015521\n",
       "         yes             0.000804\n",
       "60000    no              0.018658\n",
       "         yes             0.000960\n",
       "70000    no              0.021026\n",
       "         yes             0.001217\n",
       "80000    no              0.024300\n",
       "         yes             0.001630\n",
       "90000    no              0.027239\n",
       "         yes             0.002153\n",
       "100000   no              0.033318\n",
       "         yes             0.002954\n",
       "125000   no              0.081856\n",
       "         yes             0.008118\n",
       "150000   no              0.457764\n",
       "         yes             0.076994\n",
       "Name: not_repaired, dtype: float64"
      ]
     },
     "execution_count": 49,
     "metadata": {},
     "output_type": "execute_result"
    }
   ],
   "source": [
    "#check % of yes/no for each mileage\n",
    "(df.groupby('mileage')['not_repaired'].value_counts()/len(df)).sort_index()"
   ]
  },
  {
   "cell_type": "code",
   "execution_count": 50,
   "metadata": {},
   "outputs": [
    {
     "data": {
      "text/plain": [
       "0.10548988014008319"
      ]
     },
     "execution_count": 50,
     "metadata": {},
     "output_type": "execute_result"
    }
   ],
   "source": [
    "#calculate proportion of cars where mileage is below or equal to 80 k\n",
    "\n",
    "len(df[(df['mileage']<=80000) &( df['not_repaired'].isna())])/len(df[df['not_repaired'].isna()])"
   ]
  },
  {
   "cell_type": "code",
   "execution_count": 51,
   "metadata": {},
   "outputs": [
    {
     "data": {
      "text/plain": [
       "0.8945101198599168"
      ]
     },
     "execution_count": 51,
     "metadata": {},
     "output_type": "execute_result"
    }
   ],
   "source": [
    "#calculate proportion of cars where mileage is above 80 k\n",
    "\n",
    "len(df[(df['mileage']>80000) &( df['not_repaired'].isna())])/len(df[df['not_repaired'].isna()])"
   ]
  },
  {
   "cell_type": "markdown",
   "metadata": {},
   "source": [
    "From the rows not missing values in \"not_repaired\", 87% had a value of \"no\", and 13% of \"yes\".\n",
    "\n",
    "We see that repaired and not repaired cars do not seem to follow an evident pattern when it comes to their mileage, so filling out all of those with a higher mileage with a \"no\", and the rest with a \"yes\" can lead to biasing our future analysis.\n",
    "\n",
    "What we'll do then, is to convert this into a classification regression task by converting the \"yes\" to \"1\" and the \"no\" to 0, applying OHE to the categorical columns in the dataset and using logistic regression to fill missing values based on every other feature."
   ]
  },
  {
   "cell_type": "code",
   "execution_count": 52,
   "metadata": {},
   "outputs": [
    {
     "data": {
      "text/plain": [
       "Int64Index([     0,      2,      7,      8,     11,     14,     29,     34,\n",
       "                38,     39,\n",
       "            ...\n",
       "            334404, 334405, 334412, 334413, 334416, 334421, 334424, 334430,\n",
       "            334431, 334440],\n",
       "           dtype='int64', length=60821)"
      ]
     },
     "execution_count": 52,
     "metadata": {},
     "output_type": "execute_result"
    }
   ],
   "source": [
    "#store index of rows where not repaired is missing\n",
    "idx_missing= df[df['not_repaired'].isna()].index\n",
    "idx_missing"
   ]
  },
  {
   "cell_type": "code",
   "execution_count": 53,
   "metadata": {},
   "outputs": [],
   "source": [
    "#replace yes and no by 1 and 0\n",
    "df['not_repaired']= df['not_repaired'].replace('yes',int(1))\n",
    "df['not_repaired']= df['not_repaired'].replace('no',int(0))"
   ]
  },
  {
   "cell_type": "code",
   "execution_count": 54,
   "metadata": {},
   "outputs": [
    {
     "name": "stdout",
     "output_type": "stream",
     "text": [
      "<class 'pandas.core.frame.DataFrame'>\n",
      "Int64Index: 334441 entries, 0 to 334440\n",
      "Data columns (total 14 columns):\n",
      " #   Column              Non-Null Count   Dtype  \n",
      "---  ------              --------------   -----  \n",
      " 0   date_crawled        334441 non-null  int64  \n",
      " 1   vehicle_type        334441 non-null  object \n",
      " 2   registration_year   334441 non-null  int64  \n",
      " 3   gearbox             334441 non-null  object \n",
      " 4   power               334441 non-null  int64  \n",
      " 5   model               334441 non-null  object \n",
      " 6   mileage             334441 non-null  int64  \n",
      " 7   registration_month  334441 non-null  int64  \n",
      " 8   fuel_type           334441 non-null  object \n",
      " 9   brand               334441 non-null  object \n",
      " 10  not_repaired        273620 non-null  float64\n",
      " 11  date_created        334441 non-null  int64  \n",
      " 12  postal_code         334441 non-null  int64  \n",
      " 13  last_seen           334441 non-null  int64  \n",
      "dtypes: float64(1), int64(8), object(5)\n",
      "memory usage: 38.3+ MB\n"
     ]
    }
   ],
   "source": [
    "#One-hot encode data\n",
    "df_ohe= df.drop('price',axis=1)\n",
    "df_ohe.info()"
   ]
  },
  {
   "cell_type": "code",
   "execution_count": 55,
   "metadata": {},
   "outputs": [
    {
     "data": {
      "text/html": [
       "<div>\n",
       "<style scoped>\n",
       "    .dataframe tbody tr th:only-of-type {\n",
       "        vertical-align: middle;\n",
       "    }\n",
       "\n",
       "    .dataframe tbody tr th {\n",
       "        vertical-align: top;\n",
       "    }\n",
       "\n",
       "    .dataframe thead th {\n",
       "        text-align: right;\n",
       "    }\n",
       "</style>\n",
       "<table border=\"1\" class=\"dataframe\">\n",
       "  <thead>\n",
       "    <tr style=\"text-align: right;\">\n",
       "      <th></th>\n",
       "      <th>date_crawled</th>\n",
       "      <th>registration_year</th>\n",
       "      <th>power</th>\n",
       "      <th>mileage</th>\n",
       "      <th>registration_month</th>\n",
       "      <th>not_repaired</th>\n",
       "      <th>date_created</th>\n",
       "      <th>postal_code</th>\n",
       "      <th>last_seen</th>\n",
       "      <th>vehicle_type_convertible</th>\n",
       "      <th>...</th>\n",
       "      <th>brand_seat</th>\n",
       "      <th>brand_skoda</th>\n",
       "      <th>brand_smart</th>\n",
       "      <th>brand_sonstige_autos</th>\n",
       "      <th>brand_subaru</th>\n",
       "      <th>brand_suzuki</th>\n",
       "      <th>brand_toyota</th>\n",
       "      <th>brand_trabant</th>\n",
       "      <th>brand_volkswagen</th>\n",
       "      <th>brand_volvo</th>\n",
       "    </tr>\n",
       "  </thead>\n",
       "  <tbody>\n",
       "    <tr>\n",
       "      <th>0</th>\n",
       "      <td>1458820320000000000</td>\n",
       "      <td>1993</td>\n",
       "      <td>0</td>\n",
       "      <td>150000</td>\n",
       "      <td>0</td>\n",
       "      <td>NaN</td>\n",
       "      <td>1458777600000000000</td>\n",
       "      <td>70435</td>\n",
       "      <td>1467602160000000000</td>\n",
       "      <td>0</td>\n",
       "      <td>...</td>\n",
       "      <td>0</td>\n",
       "      <td>0</td>\n",
       "      <td>0</td>\n",
       "      <td>0</td>\n",
       "      <td>0</td>\n",
       "      <td>0</td>\n",
       "      <td>0</td>\n",
       "      <td>0</td>\n",
       "      <td>1</td>\n",
       "      <td>0</td>\n",
       "    </tr>\n",
       "    <tr>\n",
       "      <th>1</th>\n",
       "      <td>1458817080000000000</td>\n",
       "      <td>2011</td>\n",
       "      <td>190</td>\n",
       "      <td>125000</td>\n",
       "      <td>5</td>\n",
       "      <td>1.0</td>\n",
       "      <td>1458777600000000000</td>\n",
       "      <td>66954</td>\n",
       "      <td>1467596760000000000</td>\n",
       "      <td>0</td>\n",
       "      <td>...</td>\n",
       "      <td>0</td>\n",
       "      <td>0</td>\n",
       "      <td>0</td>\n",
       "      <td>0</td>\n",
       "      <td>0</td>\n",
       "      <td>0</td>\n",
       "      <td>0</td>\n",
       "      <td>0</td>\n",
       "      <td>0</td>\n",
       "      <td>0</td>\n",
       "    </tr>\n",
       "    <tr>\n",
       "      <th>2</th>\n",
       "      <td>1457959920000000000</td>\n",
       "      <td>2004</td>\n",
       "      <td>163</td>\n",
       "      <td>125000</td>\n",
       "      <td>8</td>\n",
       "      <td>NaN</td>\n",
       "      <td>1457913600000000000</td>\n",
       "      <td>90480</td>\n",
       "      <td>1462366020000000000</td>\n",
       "      <td>0</td>\n",
       "      <td>...</td>\n",
       "      <td>0</td>\n",
       "      <td>0</td>\n",
       "      <td>0</td>\n",
       "      <td>0</td>\n",
       "      <td>0</td>\n",
       "      <td>0</td>\n",
       "      <td>0</td>\n",
       "      <td>0</td>\n",
       "      <td>0</td>\n",
       "      <td>0</td>\n",
       "    </tr>\n",
       "    <tr>\n",
       "      <th>3</th>\n",
       "      <td>1458233640000000000</td>\n",
       "      <td>2001</td>\n",
       "      <td>75</td>\n",
       "      <td>150000</td>\n",
       "      <td>6</td>\n",
       "      <td>0.0</td>\n",
       "      <td>1458172800000000000</td>\n",
       "      <td>91074</td>\n",
       "      <td>1458236400000000000</td>\n",
       "      <td>0</td>\n",
       "      <td>...</td>\n",
       "      <td>0</td>\n",
       "      <td>0</td>\n",
       "      <td>0</td>\n",
       "      <td>0</td>\n",
       "      <td>0</td>\n",
       "      <td>0</td>\n",
       "      <td>0</td>\n",
       "      <td>0</td>\n",
       "      <td>1</td>\n",
       "      <td>0</td>\n",
       "    </tr>\n",
       "    <tr>\n",
       "      <th>4</th>\n",
       "      <td>1459445100000000000</td>\n",
       "      <td>2008</td>\n",
       "      <td>69</td>\n",
       "      <td>90000</td>\n",
       "      <td>7</td>\n",
       "      <td>0.0</td>\n",
       "      <td>1459382400000000000</td>\n",
       "      <td>60437</td>\n",
       "      <td>1465035420000000000</td>\n",
       "      <td>0</td>\n",
       "      <td>...</td>\n",
       "      <td>0</td>\n",
       "      <td>1</td>\n",
       "      <td>0</td>\n",
       "      <td>0</td>\n",
       "      <td>0</td>\n",
       "      <td>0</td>\n",
       "      <td>0</td>\n",
       "      <td>0</td>\n",
       "      <td>0</td>\n",
       "      <td>0</td>\n",
       "    </tr>\n",
       "  </tbody>\n",
       "</table>\n",
       "<p>5 rows × 311 columns</p>\n",
       "</div>"
      ],
      "text/plain": [
       "          date_crawled  registration_year  power  mileage  registration_month  \\\n",
       "0  1458820320000000000               1993      0   150000                   0   \n",
       "1  1458817080000000000               2011    190   125000                   5   \n",
       "2  1457959920000000000               2004    163   125000                   8   \n",
       "3  1458233640000000000               2001     75   150000                   6   \n",
       "4  1459445100000000000               2008     69    90000                   7   \n",
       "\n",
       "   not_repaired         date_created  postal_code            last_seen  \\\n",
       "0           NaN  1458777600000000000        70435  1467602160000000000   \n",
       "1           1.0  1458777600000000000        66954  1467596760000000000   \n",
       "2           NaN  1457913600000000000        90480  1462366020000000000   \n",
       "3           0.0  1458172800000000000        91074  1458236400000000000   \n",
       "4           0.0  1459382400000000000        60437  1465035420000000000   \n",
       "\n",
       "   vehicle_type_convertible  ...  brand_seat  brand_skoda  brand_smart  \\\n",
       "0                         0  ...           0            0            0   \n",
       "1                         0  ...           0            0            0   \n",
       "2                         0  ...           0            0            0   \n",
       "3                         0  ...           0            0            0   \n",
       "4                         0  ...           0            1            0   \n",
       "\n",
       "   brand_sonstige_autos  brand_subaru  brand_suzuki  brand_toyota  \\\n",
       "0                     0             0             0             0   \n",
       "1                     0             0             0             0   \n",
       "2                     0             0             0             0   \n",
       "3                     0             0             0             0   \n",
       "4                     0             0             0             0   \n",
       "\n",
       "   brand_trabant  brand_volkswagen  brand_volvo  \n",
       "0              0                 1            0  \n",
       "1              0                 0            0  \n",
       "2              0                 0            0  \n",
       "3              0                 1            0  \n",
       "4              0                 0            0  \n",
       "\n",
       "[5 rows x 311 columns]"
      ]
     },
     "execution_count": 55,
     "metadata": {},
     "output_type": "execute_result"
    }
   ],
   "source": [
    "#OHE encode numerical variables\n",
    "df_ohe = pd.get_dummies(df_ohe, drop_first=True)\n",
    "df_ohe.head()"
   ]
  },
  {
   "cell_type": "code",
   "execution_count": 56,
   "metadata": {},
   "outputs": [],
   "source": [
    "#Select rows where not repaired is not missing as train set, and where it's missing as test set \n",
    "\n",
    "train= df_ohe[df_ohe['not_repaired'].isna()==False]\n",
    "test=  df_ohe[df_ohe['not_repaired'].isna()]\n",
    "\n",
    "#Separate features and target\n",
    "target_train= train['not_repaired']\n",
    "features_train= train.drop('not_repaired', axis=1)\n",
    "features_valid= test.drop('not_repaired', axis=1)"
   ]
  },
  {
   "cell_type": "code",
   "execution_count": 57,
   "metadata": {},
   "outputs": [
    {
     "name": "stdout",
     "output_type": "stream",
     "text": [
      "<class 'pandas.core.frame.DataFrame'>\n",
      "Int64Index: 273620 entries, 1 to 334439\n",
      "Columns: 310 entries, date_crawled to brand_volvo\n",
      "dtypes: int64(8), uint8(302)\n",
      "memory usage: 97.6 MB\n"
     ]
    }
   ],
   "source": [
    "features_train.info()"
   ]
  },
  {
   "cell_type": "code",
   "execution_count": 58,
   "metadata": {},
   "outputs": [
    {
     "data": {
      "text/plain": [
       "0         0.0\n",
       "2         0.0\n",
       "7         0.0\n",
       "8         0.0\n",
       "11        0.0\n",
       "         ... \n",
       "334421    0.0\n",
       "334424    0.0\n",
       "334430    0.0\n",
       "334431    0.0\n",
       "334440    0.0\n",
       "Length: 60821, dtype: float64"
      ]
     },
     "execution_count": 58,
     "metadata": {},
     "output_type": "execute_result"
    }
   ],
   "source": [
    "#Standarize feature scaling\n",
    "\n",
    "scaler = StandardScaler()\n",
    "scaler.fit(features_train) \n",
    "\n",
    "features_train= scaler.transform(features_train)\n",
    "features_valid= scaler.transform(features_valid)\n",
    "\n",
    "#Create regression model\n",
    "model_regression= LogisticRegression(random_state=12345, solver='liblinear')\n",
    "\n",
    "#Train regression model\n",
    "model_regression.fit(features_train, target_train)\n",
    "\n",
    "#Store predictions\n",
    "predicted_valid = pd.Series(model_regression.predict(features_valid), index= idx_missing)\n",
    "predicted_valid\n",
    "\n",
    "\n",
    "\n"
   ]
  },
  {
   "cell_type": "code",
   "execution_count": 59,
   "metadata": {
    "scrolled": true
   },
   "outputs": [
    {
     "data": {
      "text/plain": [
       "0         0.0\n",
       "2         0.0\n",
       "7         0.0\n",
       "8         0.0\n",
       "11        0.0\n",
       "         ... \n",
       "334421    0.0\n",
       "334424    0.0\n",
       "334430    0.0\n",
       "334431    0.0\n",
       "334440    0.0\n",
       "Length: 60821, dtype: float64"
      ]
     },
     "execution_count": 59,
     "metadata": {},
     "output_type": "execute_result"
    }
   ],
   "source": [
    "#print out predictions filtered by index missing, to make sure the indexes were correctly applied before\n",
    "#using it for filling out missing values in the df\n",
    "predicted_valid[idx_missing]"
   ]
  },
  {
   "cell_type": "code",
   "execution_count": 60,
   "metadata": {},
   "outputs": [],
   "source": [
    "#fill missing values with predictions\n",
    "df.loc[idx_missing,'not_repaired'] = predicted_valid[idx_missing]"
   ]
  },
  {
   "cell_type": "code",
   "execution_count": 61,
   "metadata": {},
   "outputs": [],
   "source": [
    "#convert to integer\n",
    "df['not_repaired'] = df['not_repaired'].astype(int)\n"
   ]
  },
  {
   "cell_type": "code",
   "execution_count": 62,
   "metadata": {
    "scrolled": true
   },
   "outputs": [
    {
     "data": {
      "text/plain": [
       "date_crawled          0\n",
       "price                 0\n",
       "vehicle_type          0\n",
       "registration_year     0\n",
       "gearbox               0\n",
       "power                 0\n",
       "model                 0\n",
       "mileage               0\n",
       "registration_month    0\n",
       "fuel_type             0\n",
       "brand                 0\n",
       "not_repaired          0\n",
       "date_created          0\n",
       "postal_code           0\n",
       "last_seen             0\n",
       "dtype: int64"
      ]
     },
     "execution_count": 62,
     "metadata": {},
     "output_type": "execute_result"
    }
   ],
   "source": [
    "#check that there aren't any missing values left\n",
    "df.isna().sum()"
   ]
  },
  {
   "cell_type": "code",
   "execution_count": 63,
   "metadata": {
    "scrolled": true
   },
   "outputs": [
    {
     "data": {
      "text/plain": [
       "0    0.901361\n",
       "1    0.098639\n",
       "Name: not_repaired, dtype: float64"
      ]
     },
     "execution_count": 63,
     "metadata": {},
     "output_type": "execute_result"
    }
   ],
   "source": [
    "#check percentages\n",
    "df['not_repaired'].value_counts()/len(df)"
   ]
  },
  {
   "cell_type": "markdown",
   "metadata": {},
   "source": [
    "## 3) Model training"
   ]
  },
  {
   "cell_type": "markdown",
   "metadata": {},
   "source": [
    "### 3.1) Linear regression"
   ]
  },
  {
   "cell_type": "markdown",
   "metadata": {},
   "source": [
    "In order to make categorical columns useable we will use One-hot encoding, provided that Label Encoding is a bad idea for regression algorithms. Such algorithms are based on learning weights for each feature in a formula. Hence, if we encode a categorical variable with numbers in a single column, then the algorithm will treat the variable as continuous and assume the values are on a meaningful scale.\n",
    "\n",
    "So in case of regression, the categories have to be encoded in a way that assigns equal importance to all of them, yet still lets them be recognized as distinct and different. That's why OHE (One Hot Encoding) is necessary in the first place. OHE encodes each category as a linearly independent vector in N-dimensional space. All such vectors are initially equidistant from each other, and will learn their separate independent weights during the algorithm's execution. That's why OHE performs well for all machine learning algorithms that look at all the features at the same time during training.\n",
    "\n",
    "To avoid the high correlation between encoded columns confusing our model, we can safely remove any one column, since its values can be easily inferred from the other two columns (it has 1 where the other two columns have zeroes, and it has zeroes everywhere else). This way, we will not fall into the dummy trap. This can be achieved by passing \"drop_first=True\" into the encoding formula."
   ]
  },
  {
   "cell_type": "markdown",
   "metadata": {},
   "source": [
    "#### 3.1.1) Linear regression model: home-made SGD \n",
    "\n",
    "We'll start by defining a self-made model applying Stochastic Gradient Descent to find the weights that most approach the MSE to 0 throughout iteration. To avoid overfitting, we'll also add a regularization factor\n",
    "\n"
   ]
  },
  {
   "cell_type": "code",
   "execution_count": 64,
   "metadata": {},
   "outputs": [],
   "source": [
    "#define function to get the RMSE score of predictions\n",
    "def eval_regressor(y_true, y_pred):\n",
    "    \n",
    "    rmse = round( mean_squared_error(y_true, y_pred)**0.5,2)\n",
    "    return rmse"
   ]
  },
  {
   "cell_type": "code",
   "execution_count": 65,
   "metadata": {},
   "outputs": [],
   "source": [
    "#Define the model\n",
    "\n",
    "class MyLinearRegressor:\n",
    "    \"\"\"\n",
    "    Takes four input hyperparameters: \n",
    "    \n",
    "    - batch size: the size of each batch the dataset will be split into at each epoch (repetition) \n",
    "    [To reduce the time of one iteration.]\n",
    "    \n",
    "    - number of epochs: the amount of times the algorithm will go through the entire df (split into batches) to iterate weights\n",
    "    \n",
    "    - step size: the size of the gradient descent step.\n",
    "    \n",
    "    - reg_weight: regularization weight that will be applied to the loss function formula to control the magnitude of regularization.\n",
    "    \n",
    "    1) Defines the initial values of the model weights as 0.\n",
    "    2) Splits the training set into batches for each epoch.\n",
    "    3) For each batch:\n",
    "        3.1. Calculates the loss function gradient;\n",
    "        3.2. Updates the model weights (add the negative gradient multiplied by the step size to the current weights).\n",
    "\n",
    "    Returns a prediction obtained as a product between the adjusted weights and the input features.\n",
    "    \n",
    "    \"\"\"\n",
    "    \n",
    "    def __init__ (self, step_size, epochs, batch_size, reg_weight):\n",
    "        self.step_size= step_size\n",
    "        self.epochs = epochs\n",
    "        self.batch_size=batch_size\n",
    "        self.reg_weight = reg_weight\n",
    "        \n",
    "    def fit(self, train_features, train_target):\n",
    "        \n",
    "        \"\"\"\n",
    "        Takes train features and target, and iterates through them splitting the train features into batches\n",
    "        of the size defined for the class (batch_size) as many times as the \"epochs\" parameter indicates, or until\n",
    "        the loss function is = 0.\n",
    "        \n",
    "        At each iteration, the weights are adjusted to approach the loss function minimum at a pace determined by\n",
    "        the loss function gradient * step_size + reg_weight * 2 * weights\n",
    "        \n",
    "        Returns the adjusted weights.\n",
    "        \n",
    "        \"\"\"\n",
    "        #define a numpy array with a column of ones (rows x 1) and the train features (rowsxcolumns)\n",
    "        X= np.concatenate((np.ones((train_features.shape[0],1)), train_features ), axis= 1)\n",
    "        \n",
    "        #train target = y\n",
    "        y= train_target\n",
    "        \n",
    "        #array of zeros with shape (X.rows x 1)\n",
    "        w= np.zeros(X.shape[1])\n",
    "        \n",
    "        #for loop with index = epochs\n",
    "        \n",
    "        for _ in range(self.epochs):\n",
    "            \n",
    "            #define count of batches as X/batch size\n",
    "            batches_count= X.shape[0]//self.batch_size\n",
    "            \n",
    "            #iterate through every batch\n",
    "            for i in range(batches_count):\n",
    "                #define start and end index for batch\n",
    "                begin= i*self.batch_size\n",
    "                end=(i+1)*self.batch_size\n",
    "                \n",
    "                #Define x and y batch\n",
    "                X_batch= X[begin:end,:]\n",
    "                y_batch = y[begin:end]\n",
    "                \n",
    "                #gradient function (partial derivative of the MSE function for parameter w [weights] )\n",
    "                \n",
    "                gradient= ( 2 * X_batch.T.dot(X_batch.dot(w)- y_batch ) / X_batch.shape[0] )\n",
    "                \n",
    "                # copy weights for adding to the regularization factor \n",
    "                reg = 2*w.copy()\n",
    "                \n",
    "                #equate the element with the zero index in the reg vector to zero \n",
    "                #(usually the shift is not included in the regularization);\n",
    "                reg[0]=0\n",
    "                \n",
    "                #add the regularization factor to the gradient \n",
    "                gradient += reg*self.reg_weight\n",
    "                \n",
    "                #adjust the weights by the negative gradient adjusted by the step size\n",
    "                \n",
    "                w -= self.step_size*gradient\n",
    "                \n",
    "            self.w= w[1:]\n",
    "            self.w0=w[0]\n",
    "            \n",
    "    def predict(self, test_features):\n",
    "        \n",
    "        return test_features.dot(self.w)+self.w0\n",
    "                \n",
    "                "
   ]
  },
  {
   "cell_type": "code",
   "execution_count": 66,
   "metadata": {},
   "outputs": [
    {
     "data": {
      "text/html": [
       "<div>\n",
       "<style scoped>\n",
       "    .dataframe tbody tr th:only-of-type {\n",
       "        vertical-align: middle;\n",
       "    }\n",
       "\n",
       "    .dataframe tbody tr th {\n",
       "        vertical-align: top;\n",
       "    }\n",
       "\n",
       "    .dataframe thead th {\n",
       "        text-align: right;\n",
       "    }\n",
       "</style>\n",
       "<table border=\"1\" class=\"dataframe\">\n",
       "  <thead>\n",
       "    <tr style=\"text-align: right;\">\n",
       "      <th></th>\n",
       "      <th>date_crawled</th>\n",
       "      <th>price</th>\n",
       "      <th>registration_year</th>\n",
       "      <th>power</th>\n",
       "      <th>mileage</th>\n",
       "      <th>registration_month</th>\n",
       "      <th>not_repaired</th>\n",
       "      <th>date_created</th>\n",
       "      <th>postal_code</th>\n",
       "      <th>last_seen</th>\n",
       "      <th>...</th>\n",
       "      <th>brand_seat</th>\n",
       "      <th>brand_skoda</th>\n",
       "      <th>brand_smart</th>\n",
       "      <th>brand_sonstige_autos</th>\n",
       "      <th>brand_subaru</th>\n",
       "      <th>brand_suzuki</th>\n",
       "      <th>brand_toyota</th>\n",
       "      <th>brand_trabant</th>\n",
       "      <th>brand_volkswagen</th>\n",
       "      <th>brand_volvo</th>\n",
       "    </tr>\n",
       "  </thead>\n",
       "  <tbody>\n",
       "    <tr>\n",
       "      <th>0</th>\n",
       "      <td>1458820320000000000</td>\n",
       "      <td>480</td>\n",
       "      <td>1993</td>\n",
       "      <td>0</td>\n",
       "      <td>150000</td>\n",
       "      <td>0</td>\n",
       "      <td>0</td>\n",
       "      <td>1458777600000000000</td>\n",
       "      <td>70435</td>\n",
       "      <td>1467602160000000000</td>\n",
       "      <td>...</td>\n",
       "      <td>0</td>\n",
       "      <td>0</td>\n",
       "      <td>0</td>\n",
       "      <td>0</td>\n",
       "      <td>0</td>\n",
       "      <td>0</td>\n",
       "      <td>0</td>\n",
       "      <td>0</td>\n",
       "      <td>1</td>\n",
       "      <td>0</td>\n",
       "    </tr>\n",
       "    <tr>\n",
       "      <th>1</th>\n",
       "      <td>1458817080000000000</td>\n",
       "      <td>18300</td>\n",
       "      <td>2011</td>\n",
       "      <td>190</td>\n",
       "      <td>125000</td>\n",
       "      <td>5</td>\n",
       "      <td>1</td>\n",
       "      <td>1458777600000000000</td>\n",
       "      <td>66954</td>\n",
       "      <td>1467596760000000000</td>\n",
       "      <td>...</td>\n",
       "      <td>0</td>\n",
       "      <td>0</td>\n",
       "      <td>0</td>\n",
       "      <td>0</td>\n",
       "      <td>0</td>\n",
       "      <td>0</td>\n",
       "      <td>0</td>\n",
       "      <td>0</td>\n",
       "      <td>0</td>\n",
       "      <td>0</td>\n",
       "    </tr>\n",
       "    <tr>\n",
       "      <th>2</th>\n",
       "      <td>1457959920000000000</td>\n",
       "      <td>9800</td>\n",
       "      <td>2004</td>\n",
       "      <td>163</td>\n",
       "      <td>125000</td>\n",
       "      <td>8</td>\n",
       "      <td>0</td>\n",
       "      <td>1457913600000000000</td>\n",
       "      <td>90480</td>\n",
       "      <td>1462366020000000000</td>\n",
       "      <td>...</td>\n",
       "      <td>0</td>\n",
       "      <td>0</td>\n",
       "      <td>0</td>\n",
       "      <td>0</td>\n",
       "      <td>0</td>\n",
       "      <td>0</td>\n",
       "      <td>0</td>\n",
       "      <td>0</td>\n",
       "      <td>0</td>\n",
       "      <td>0</td>\n",
       "    </tr>\n",
       "    <tr>\n",
       "      <th>3</th>\n",
       "      <td>1458233640000000000</td>\n",
       "      <td>1500</td>\n",
       "      <td>2001</td>\n",
       "      <td>75</td>\n",
       "      <td>150000</td>\n",
       "      <td>6</td>\n",
       "      <td>0</td>\n",
       "      <td>1458172800000000000</td>\n",
       "      <td>91074</td>\n",
       "      <td>1458236400000000000</td>\n",
       "      <td>...</td>\n",
       "      <td>0</td>\n",
       "      <td>0</td>\n",
       "      <td>0</td>\n",
       "      <td>0</td>\n",
       "      <td>0</td>\n",
       "      <td>0</td>\n",
       "      <td>0</td>\n",
       "      <td>0</td>\n",
       "      <td>1</td>\n",
       "      <td>0</td>\n",
       "    </tr>\n",
       "    <tr>\n",
       "      <th>4</th>\n",
       "      <td>1459445100000000000</td>\n",
       "      <td>3600</td>\n",
       "      <td>2008</td>\n",
       "      <td>69</td>\n",
       "      <td>90000</td>\n",
       "      <td>7</td>\n",
       "      <td>0</td>\n",
       "      <td>1459382400000000000</td>\n",
       "      <td>60437</td>\n",
       "      <td>1465035420000000000</td>\n",
       "      <td>...</td>\n",
       "      <td>0</td>\n",
       "      <td>1</td>\n",
       "      <td>0</td>\n",
       "      <td>0</td>\n",
       "      <td>0</td>\n",
       "      <td>0</td>\n",
       "      <td>0</td>\n",
       "      <td>0</td>\n",
       "      <td>0</td>\n",
       "      <td>0</td>\n",
       "    </tr>\n",
       "  </tbody>\n",
       "</table>\n",
       "<p>5 rows × 312 columns</p>\n",
       "</div>"
      ],
      "text/plain": [
       "          date_crawled  price  registration_year  power  mileage  \\\n",
       "0  1458820320000000000    480               1993      0   150000   \n",
       "1  1458817080000000000  18300               2011    190   125000   \n",
       "2  1457959920000000000   9800               2004    163   125000   \n",
       "3  1458233640000000000   1500               2001     75   150000   \n",
       "4  1459445100000000000   3600               2008     69    90000   \n",
       "\n",
       "   registration_month  not_repaired         date_created  postal_code  \\\n",
       "0                   0             0  1458777600000000000        70435   \n",
       "1                   5             1  1458777600000000000        66954   \n",
       "2                   8             0  1457913600000000000        90480   \n",
       "3                   6             0  1458172800000000000        91074   \n",
       "4                   7             0  1459382400000000000        60437   \n",
       "\n",
       "             last_seen  ...  brand_seat  brand_skoda  brand_smart  \\\n",
       "0  1467602160000000000  ...           0            0            0   \n",
       "1  1467596760000000000  ...           0            0            0   \n",
       "2  1462366020000000000  ...           0            0            0   \n",
       "3  1458236400000000000  ...           0            0            0   \n",
       "4  1465035420000000000  ...           0            1            0   \n",
       "\n",
       "   brand_sonstige_autos  brand_subaru  brand_suzuki  brand_toyota  \\\n",
       "0                     0             0             0             0   \n",
       "1                     0             0             0             0   \n",
       "2                     0             0             0             0   \n",
       "3                     0             0             0             0   \n",
       "4                     0             0             0             0   \n",
       "\n",
       "   brand_trabant  brand_volkswagen  brand_volvo  \n",
       "0              0                 1            0  \n",
       "1              0                 0            0  \n",
       "2              0                 0            0  \n",
       "3              0                 1            0  \n",
       "4              0                 0            0  \n",
       "\n",
       "[5 rows x 312 columns]"
      ]
     },
     "execution_count": 66,
     "metadata": {},
     "output_type": "execute_result"
    }
   ],
   "source": [
    "#encode categorical variables using OHE (most suitable apporach for regression)\n",
    "df_ohe = pd.get_dummies(df, drop_first=True)\n",
    "df_ohe.head()"
   ]
  },
  {
   "cell_type": "code",
   "execution_count": 67,
   "metadata": {},
   "outputs": [],
   "source": [
    "#Separate features and target\n",
    "features_ohe= df_ohe.drop('price', axis=1)\n",
    "target_ohe = df_ohe['price']\n",
    "\n",
    "#split into train and test sets\n",
    "X_train_ohe, X_test_ohe, y_train_ohe, y_test_ohe = train_test_split(features_ohe,target_ohe, test_size=0.25, random_state=12345)\n",
    "\n",
    "#fit train df (excluding target) to the scaler\n",
    "transformer_mas = MaxAbsScaler().fit(X_train_ohe)\n",
    "\n",
    "#scale the features and store in separate array\n",
    "X_train_scaled_ohe = transformer_mas.transform(X_train_ohe)\n",
    "X_test_scaled_ohe= transformer_mas.transform(X_test_ohe)"
   ]
  },
  {
   "cell_type": "code",
   "execution_count": 68,
   "metadata": {},
   "outputs": [
    {
     "data": {
      "text/plain": [
       "5.91"
      ]
     },
     "execution_count": 68,
     "metadata": {},
     "output_type": "execute_result"
    }
   ],
   "source": [
    "time_in= time.time()\n",
    "\n",
    "#define model\n",
    "my_linear_regression= MyLinearRegressor(0.02, 10 ,100, 0.0)\n",
    "\n",
    "#fit train set\n",
    "my_linear_regression.fit(X_train_scaled_ohe , y_train_ohe)\n",
    "\n",
    "#make predictions\n",
    "my_linear_reg_predictions = my_linear_regression.predict(X_test_scaled_ohe)\n",
    "\n",
    "time_out= time.time()\n",
    "\n",
    "my_linear_pred_sec= round(time_out-time_in,2)\n",
    "my_linear_pred_sec"
   ]
  },
  {
   "cell_type": "code",
   "execution_count": 69,
   "metadata": {},
   "outputs": [
    {
     "data": {
      "text/plain": [
       "3105.87"
      ]
     },
     "execution_count": 69,
     "metadata": {},
     "output_type": "execute_result"
    }
   ],
   "source": [
    "#print RMSE of our home-made linear regression predictions\n",
    "my_linear_reg_rmse= eval_regressor(y_test_ohe, my_linear_reg_predictions )\n",
    "my_linear_reg_rmse"
   ]
  },
  {
   "cell_type": "code",
   "execution_count": 70,
   "metadata": {
    "scrolled": false
   },
   "outputs": [
    {
     "data": {
      "text/plain": [
       "4619.13241080719"
      ]
     },
     "execution_count": 70,
     "metadata": {},
     "output_type": "execute_result"
    }
   ],
   "source": [
    "#print mean of real target values\n",
    "y_test_ohe.mean()"
   ]
  },
  {
   "cell_type": "code",
   "execution_count": 71,
   "metadata": {},
   "outputs": [
    {
     "data": {
      "text/plain": [
       "4674.168689768709"
      ]
     },
     "execution_count": 71,
     "metadata": {},
     "output_type": "execute_result"
    }
   ],
   "source": [
    "#print mean of predictions\n",
    "my_linear_reg_predictions.mean()"
   ]
  },
  {
   "cell_type": "code",
   "execution_count": 72,
   "metadata": {},
   "outputs": [
    {
     "data": {
      "text/plain": [
       "2950.0"
      ]
     },
     "execution_count": 72,
     "metadata": {},
     "output_type": "execute_result"
    }
   ],
   "source": [
    "#print median of real target values\n",
    "y_test_ohe.median()"
   ]
  },
  {
   "cell_type": "markdown",
   "metadata": {},
   "source": [
    "#### 3.1.2) Linear regression model: ready-implementation\n",
    "\n",
    "Now, we'll use a linear regression model from sckit learn library and compare the results achieved"
   ]
  },
  {
   "cell_type": "code",
   "execution_count": 73,
   "metadata": {},
   "outputs": [
    {
     "data": {
      "text/plain": [
       "3.34"
      ]
     },
     "execution_count": 73,
     "metadata": {},
     "output_type": "execute_result"
    }
   ],
   "source": [
    "time_in= time.time()\n",
    "#define model\n",
    "pre_made_linear_reg= LinearRegression()\n",
    "\n",
    "#fit train set\n",
    "pre_made_linear_reg.fit(X_train_scaled_ohe , y_train_ohe)\n",
    "\n",
    "#make predictions\n",
    "pre_made_linear_predictions = pre_made_linear_reg.predict(X_test_scaled_ohe)\n",
    "\n",
    "\n",
    "time_out= time.time()\n",
    "\n",
    "pre_made_linear_pred_sec= round(time_out-time_in,2)\n",
    "pre_made_linear_pred_sec"
   ]
  },
  {
   "cell_type": "code",
   "execution_count": 74,
   "metadata": {},
   "outputs": [
    {
     "data": {
      "text/plain": [
       "2842.7"
      ]
     },
     "execution_count": 74,
     "metadata": {},
     "output_type": "execute_result"
    }
   ],
   "source": [
    "#print RMSE of ready implementation\n",
    "pre_made_linear_rmse= eval_regressor(y_test_ohe, pre_made_linear_predictions )\n",
    "pre_made_linear_rmse"
   ]
  },
  {
   "cell_type": "code",
   "execution_count": 75,
   "metadata": {},
   "outputs": [
    {
     "data": {
      "text/plain": [
       "4612.856726041633"
      ]
     },
     "execution_count": 75,
     "metadata": {},
     "output_type": "execute_result"
    }
   ],
   "source": [
    "#print ready implementation predictions mean\n",
    "pre_made_linear_predictions.mean()"
   ]
  },
  {
   "cell_type": "markdown",
   "metadata": {},
   "source": [
    "The training and prediction making time of the ready-implementation from sckit learn was more than one second shorter than that of our self-made regressor, and the predictions' RMSE was lower. However, none of both models achieved a good result as compared to the test target real mean. \n",
    "\n",
    "Self-made Linear regressor: 5.28 seconds to train and issue predictions. RMSE= 3,106€\n",
    "\n",
    "Ready-implementation of Linear regressor: 3.17 seconds to train and issue predictions. RMSE= 2,950€\n",
    "\n",
    "\n",
    "Test population mean: 4,619€\n",
    "Test population median: 2,950€\n",
    "\n",
    "The mean is almost twice as high as the median. This means that there are a few cars sold at a very high price pulling the average up. \n",
    "\n",
    "Self-made regressor mean: 4,674€\n",
    "Ready-implementation regression mean:4,612€\n",
    "\n",
    "\n",
    "If we take a look at the mean of both sets of predictions, we can see that they are really close to each other. But the root of the sum of the squared individual distances at each datapoint is lower for the predictions from the ready implementation.\n",
    "\n"
   ]
  },
  {
   "cell_type": "markdown",
   "metadata": {},
   "source": [
    "### 3.2) Tree based models\n",
    "\n"
   ]
  },
  {
   "cell_type": "markdown",
   "metadata": {},
   "source": [
    "For categorical columns, we'll change the encoding method.\n",
    "\n",
    "One-hot encoding is not the best option for tree-based models for a few reasons. The primary reason is that unlike regression models that have access to the whole spectrum of features at once, the tree-based model can process only one feature at a time. As a result, it doesn't have complete information about the original categorical variable. Instead, its importance is dispersed across many dummy variables, so these dummy variables are almost never chosen as splitting variables near the root of the tree, even if they were a good predictor.\n",
    "\n",
    "The best approach for trees is making splits by raw categoricals, but since scikit-learn does not currently support this option, in many cases, the second best approach turns out to be Label Encoding.\n",
    "\n",
    "The drawbacks of Label Encoding are mitigated by the fact that for trees, while the order of labels still matters, the scale of labels doesn't. In other words, there's no real difference between labels [0, 1, 2, 3] and labels [0, 2, 5, 40]. And thanks to that, even though Label Encoding still creates information that does not reflect any real facts and sometimes results in splits that don't make any sense, practical applications show that it still often results in useful splits, especially when several random permutations of numeric labels are tried.\n",
    "\n",
    "For that same reason, we don't need to standarize data neither.\n"
   ]
  },
  {
   "cell_type": "markdown",
   "metadata": {},
   "source": [
    "#### 3.2.1) Decision tree\n",
    "\n",
    "Now, we'll use a Decision tree, tunning hypermarameters to store the ones achieving the lowest RMSE"
   ]
  },
  {
   "cell_type": "code",
   "execution_count": 76,
   "metadata": {},
   "outputs": [
    {
     "data": {
      "text/html": [
       "<div>\n",
       "<style scoped>\n",
       "    .dataframe tbody tr th:only-of-type {\n",
       "        vertical-align: middle;\n",
       "    }\n",
       "\n",
       "    .dataframe tbody tr th {\n",
       "        vertical-align: top;\n",
       "    }\n",
       "\n",
       "    .dataframe thead th {\n",
       "        text-align: right;\n",
       "    }\n",
       "</style>\n",
       "<table border=\"1\" class=\"dataframe\">\n",
       "  <thead>\n",
       "    <tr style=\"text-align: right;\">\n",
       "      <th></th>\n",
       "      <th>vehicle_type</th>\n",
       "      <th>gearbox</th>\n",
       "      <th>model</th>\n",
       "      <th>fuel_type</th>\n",
       "      <th>brand</th>\n",
       "    </tr>\n",
       "  </thead>\n",
       "  <tbody>\n",
       "    <tr>\n",
       "      <th>0</th>\n",
       "      <td>5.0</td>\n",
       "      <td>1.0</td>\n",
       "      <td>116.0</td>\n",
       "      <td>6.0</td>\n",
       "      <td>38.0</td>\n",
       "    </tr>\n",
       "    <tr>\n",
       "      <th>1</th>\n",
       "      <td>2.0</td>\n",
       "      <td>1.0</td>\n",
       "      <td>225.0</td>\n",
       "      <td>2.0</td>\n",
       "      <td>1.0</td>\n",
       "    </tr>\n",
       "    <tr>\n",
       "      <th>2</th>\n",
       "      <td>6.0</td>\n",
       "      <td>0.0</td>\n",
       "      <td>117.0</td>\n",
       "      <td>2.0</td>\n",
       "      <td>14.0</td>\n",
       "    </tr>\n",
       "    <tr>\n",
       "      <th>3</th>\n",
       "      <td>5.0</td>\n",
       "      <td>1.0</td>\n",
       "      <td>116.0</td>\n",
       "      <td>6.0</td>\n",
       "      <td>38.0</td>\n",
       "    </tr>\n",
       "    <tr>\n",
       "      <th>4</th>\n",
       "      <td>5.0</td>\n",
       "      <td>1.0</td>\n",
       "      <td>101.0</td>\n",
       "      <td>2.0</td>\n",
       "      <td>31.0</td>\n",
       "    </tr>\n",
       "  </tbody>\n",
       "</table>\n",
       "</div>"
      ],
      "text/plain": [
       "   vehicle_type  gearbox  model  fuel_type  brand\n",
       "0           5.0      1.0  116.0        6.0   38.0\n",
       "1           2.0      1.0  225.0        2.0    1.0\n",
       "2           6.0      0.0  117.0        2.0   14.0\n",
       "3           5.0      1.0  116.0        6.0   38.0\n",
       "4           5.0      1.0  101.0        2.0   31.0"
      ]
     },
     "execution_count": 76,
     "metadata": {},
     "output_type": "execute_result"
    }
   ],
   "source": [
    "#Label-encode categorical data\n",
    "\n",
    "#list with categorical columns\n",
    "cat_col=[col for col in df.columns if df[col].dtype=='object' ]\n",
    "\n",
    "encoder = OrdinalEncoder() \n",
    "encoder.fit(df[cat_col]) \n",
    "df_ordinal = pd.DataFrame(encoder.transform(df[cat_col]),columns=cat_col) \n",
    "df_ordinal.head()"
   ]
  },
  {
   "cell_type": "code",
   "execution_count": 77,
   "metadata": {},
   "outputs": [],
   "source": [
    "#list with non categorical columns\n",
    "non_cat_col=[col for col in df.columns if df[col].dtype!='object' ]"
   ]
  },
  {
   "cell_type": "code",
   "execution_count": 78,
   "metadata": {},
   "outputs": [
    {
     "data": {
      "text/html": [
       "<div>\n",
       "<style scoped>\n",
       "    .dataframe tbody tr th:only-of-type {\n",
       "        vertical-align: middle;\n",
       "    }\n",
       "\n",
       "    .dataframe tbody tr th {\n",
       "        vertical-align: top;\n",
       "    }\n",
       "\n",
       "    .dataframe thead th {\n",
       "        text-align: right;\n",
       "    }\n",
       "</style>\n",
       "<table border=\"1\" class=\"dataframe\">\n",
       "  <thead>\n",
       "    <tr style=\"text-align: right;\">\n",
       "      <th></th>\n",
       "      <th>date_crawled</th>\n",
       "      <th>price</th>\n",
       "      <th>registration_year</th>\n",
       "      <th>power</th>\n",
       "      <th>mileage</th>\n",
       "      <th>registration_month</th>\n",
       "      <th>not_repaired</th>\n",
       "      <th>date_created</th>\n",
       "      <th>postal_code</th>\n",
       "      <th>last_seen</th>\n",
       "      <th>vehicle_type</th>\n",
       "      <th>gearbox</th>\n",
       "      <th>model</th>\n",
       "      <th>fuel_type</th>\n",
       "      <th>brand</th>\n",
       "    </tr>\n",
       "  </thead>\n",
       "  <tbody>\n",
       "    <tr>\n",
       "      <th>0</th>\n",
       "      <td>1458820320000000000</td>\n",
       "      <td>480</td>\n",
       "      <td>1993</td>\n",
       "      <td>0</td>\n",
       "      <td>150000</td>\n",
       "      <td>0</td>\n",
       "      <td>0</td>\n",
       "      <td>1458777600000000000</td>\n",
       "      <td>70435</td>\n",
       "      <td>1467602160000000000</td>\n",
       "      <td>5.0</td>\n",
       "      <td>1.0</td>\n",
       "      <td>116.0</td>\n",
       "      <td>6.0</td>\n",
       "      <td>38.0</td>\n",
       "    </tr>\n",
       "    <tr>\n",
       "      <th>1</th>\n",
       "      <td>1458817080000000000</td>\n",
       "      <td>18300</td>\n",
       "      <td>2011</td>\n",
       "      <td>190</td>\n",
       "      <td>125000</td>\n",
       "      <td>5</td>\n",
       "      <td>1</td>\n",
       "      <td>1458777600000000000</td>\n",
       "      <td>66954</td>\n",
       "      <td>1467596760000000000</td>\n",
       "      <td>2.0</td>\n",
       "      <td>1.0</td>\n",
       "      <td>225.0</td>\n",
       "      <td>2.0</td>\n",
       "      <td>1.0</td>\n",
       "    </tr>\n",
       "    <tr>\n",
       "      <th>2</th>\n",
       "      <td>1457959920000000000</td>\n",
       "      <td>9800</td>\n",
       "      <td>2004</td>\n",
       "      <td>163</td>\n",
       "      <td>125000</td>\n",
       "      <td>8</td>\n",
       "      <td>0</td>\n",
       "      <td>1457913600000000000</td>\n",
       "      <td>90480</td>\n",
       "      <td>1462366020000000000</td>\n",
       "      <td>6.0</td>\n",
       "      <td>0.0</td>\n",
       "      <td>117.0</td>\n",
       "      <td>2.0</td>\n",
       "      <td>14.0</td>\n",
       "    </tr>\n",
       "    <tr>\n",
       "      <th>3</th>\n",
       "      <td>1458233640000000000</td>\n",
       "      <td>1500</td>\n",
       "      <td>2001</td>\n",
       "      <td>75</td>\n",
       "      <td>150000</td>\n",
       "      <td>6</td>\n",
       "      <td>0</td>\n",
       "      <td>1458172800000000000</td>\n",
       "      <td>91074</td>\n",
       "      <td>1458236400000000000</td>\n",
       "      <td>5.0</td>\n",
       "      <td>1.0</td>\n",
       "      <td>116.0</td>\n",
       "      <td>6.0</td>\n",
       "      <td>38.0</td>\n",
       "    </tr>\n",
       "    <tr>\n",
       "      <th>4</th>\n",
       "      <td>1459445100000000000</td>\n",
       "      <td>3600</td>\n",
       "      <td>2008</td>\n",
       "      <td>69</td>\n",
       "      <td>90000</td>\n",
       "      <td>7</td>\n",
       "      <td>0</td>\n",
       "      <td>1459382400000000000</td>\n",
       "      <td>60437</td>\n",
       "      <td>1465035420000000000</td>\n",
       "      <td>5.0</td>\n",
       "      <td>1.0</td>\n",
       "      <td>101.0</td>\n",
       "      <td>2.0</td>\n",
       "      <td>31.0</td>\n",
       "    </tr>\n",
       "    <tr>\n",
       "      <th>...</th>\n",
       "      <td>...</td>\n",
       "      <td>...</td>\n",
       "      <td>...</td>\n",
       "      <td>...</td>\n",
       "      <td>...</td>\n",
       "      <td>...</td>\n",
       "      <td>...</td>\n",
       "      <td>...</td>\n",
       "      <td>...</td>\n",
       "      <td>...</td>\n",
       "      <td>...</td>\n",
       "      <td>...</td>\n",
       "      <td>...</td>\n",
       "      <td>...</td>\n",
       "      <td>...</td>\n",
       "    </tr>\n",
       "    <tr>\n",
       "      <th>334436</th>\n",
       "      <td>1458417180000000000</td>\n",
       "      <td>3200</td>\n",
       "      <td>2004</td>\n",
       "      <td>225</td>\n",
       "      <td>150000</td>\n",
       "      <td>5</td>\n",
       "      <td>1</td>\n",
       "      <td>1458345600000000000</td>\n",
       "      <td>96465</td>\n",
       "      <td>1458420240000000000</td>\n",
       "      <td>4.0</td>\n",
       "      <td>1.0</td>\n",
       "      <td>140.0</td>\n",
       "      <td>6.0</td>\n",
       "      <td>30.0</td>\n",
       "    </tr>\n",
       "    <tr>\n",
       "      <th>334437</th>\n",
       "      <td>1459110960000000000</td>\n",
       "      <td>1150</td>\n",
       "      <td>2000</td>\n",
       "      <td>0</td>\n",
       "      <td>150000</td>\n",
       "      <td>3</td>\n",
       "      <td>0</td>\n",
       "      <td>1459036800000000000</td>\n",
       "      <td>26624</td>\n",
       "      <td>1459246620000000000</td>\n",
       "      <td>0.0</td>\n",
       "      <td>1.0</td>\n",
       "      <td>249.0</td>\n",
       "      <td>6.0</td>\n",
       "      <td>24.0</td>\n",
       "    </tr>\n",
       "    <tr>\n",
       "      <th>334438</th>\n",
       "      <td>1462305360000000000</td>\n",
       "      <td>1199</td>\n",
       "      <td>2000</td>\n",
       "      <td>101</td>\n",
       "      <td>125000</td>\n",
       "      <td>3</td>\n",
       "      <td>0</td>\n",
       "      <td>1462233600000000000</td>\n",
       "      <td>26135</td>\n",
       "      <td>1478197020000000000</td>\n",
       "      <td>1.0</td>\n",
       "      <td>0.0</td>\n",
       "      <td>106.0</td>\n",
       "      <td>6.0</td>\n",
       "      <td>32.0</td>\n",
       "    </tr>\n",
       "    <tr>\n",
       "      <th>334439</th>\n",
       "      <td>1458413820000000000</td>\n",
       "      <td>9200</td>\n",
       "      <td>1996</td>\n",
       "      <td>102</td>\n",
       "      <td>150000</td>\n",
       "      <td>3</td>\n",
       "      <td>0</td>\n",
       "      <td>1458345600000000000</td>\n",
       "      <td>87439</td>\n",
       "      <td>1467616500000000000</td>\n",
       "      <td>0.0</td>\n",
       "      <td>1.0</td>\n",
       "      <td>224.0</td>\n",
       "      <td>2.0</td>\n",
       "      <td>38.0</td>\n",
       "    </tr>\n",
       "    <tr>\n",
       "      <th>334440</th>\n",
       "      <td>1458502860000000000</td>\n",
       "      <td>3400</td>\n",
       "      <td>2002</td>\n",
       "      <td>100</td>\n",
       "      <td>150000</td>\n",
       "      <td>6</td>\n",
       "      <td>0</td>\n",
       "      <td>1458432000000000000</td>\n",
       "      <td>40764</td>\n",
       "      <td>1458823500000000000</td>\n",
       "      <td>7.0</td>\n",
       "      <td>1.0</td>\n",
       "      <td>116.0</td>\n",
       "      <td>2.0</td>\n",
       "      <td>38.0</td>\n",
       "    </tr>\n",
       "  </tbody>\n",
       "</table>\n",
       "<p>334441 rows × 15 columns</p>\n",
       "</div>"
      ],
      "text/plain": [
       "               date_crawled  price  registration_year  power  mileage  \\\n",
       "0       1458820320000000000    480               1993      0   150000   \n",
       "1       1458817080000000000  18300               2011    190   125000   \n",
       "2       1457959920000000000   9800               2004    163   125000   \n",
       "3       1458233640000000000   1500               2001     75   150000   \n",
       "4       1459445100000000000   3600               2008     69    90000   \n",
       "...                     ...    ...                ...    ...      ...   \n",
       "334436  1458417180000000000   3200               2004    225   150000   \n",
       "334437  1459110960000000000   1150               2000      0   150000   \n",
       "334438  1462305360000000000   1199               2000    101   125000   \n",
       "334439  1458413820000000000   9200               1996    102   150000   \n",
       "334440  1458502860000000000   3400               2002    100   150000   \n",
       "\n",
       "        registration_month  not_repaired         date_created  postal_code  \\\n",
       "0                        0             0  1458777600000000000        70435   \n",
       "1                        5             1  1458777600000000000        66954   \n",
       "2                        8             0  1457913600000000000        90480   \n",
       "3                        6             0  1458172800000000000        91074   \n",
       "4                        7             0  1459382400000000000        60437   \n",
       "...                    ...           ...                  ...          ...   \n",
       "334436                   5             1  1458345600000000000        96465   \n",
       "334437                   3             0  1459036800000000000        26624   \n",
       "334438                   3             0  1462233600000000000        26135   \n",
       "334439                   3             0  1458345600000000000        87439   \n",
       "334440                   6             0  1458432000000000000        40764   \n",
       "\n",
       "                  last_seen  vehicle_type  gearbox  model  fuel_type  brand  \n",
       "0       1467602160000000000           5.0      1.0  116.0        6.0   38.0  \n",
       "1       1467596760000000000           2.0      1.0  225.0        2.0    1.0  \n",
       "2       1462366020000000000           6.0      0.0  117.0        2.0   14.0  \n",
       "3       1458236400000000000           5.0      1.0  116.0        6.0   38.0  \n",
       "4       1465035420000000000           5.0      1.0  101.0        2.0   31.0  \n",
       "...                     ...           ...      ...    ...        ...    ...  \n",
       "334436  1458420240000000000           4.0      1.0  140.0        6.0   30.0  \n",
       "334437  1459246620000000000           0.0      1.0  249.0        6.0   24.0  \n",
       "334438  1478197020000000000           1.0      0.0  106.0        6.0   32.0  \n",
       "334439  1467616500000000000           0.0      1.0  224.0        2.0   38.0  \n",
       "334440  1458823500000000000           7.0      1.0  116.0        2.0   38.0  \n",
       "\n",
       "[334441 rows x 15 columns]"
      ]
     },
     "execution_count": 78,
     "metadata": {},
     "output_type": "execute_result"
    }
   ],
   "source": [
    "#join with non categorical columns\n",
    "df_ordinal=df[non_cat_col].join( df_ordinal).copy()\n",
    "df_ordinal"
   ]
  },
  {
   "cell_type": "code",
   "execution_count": 79,
   "metadata": {},
   "outputs": [],
   "source": [
    "#split ordinal encoded data into features and target\n",
    "features_le= df_ordinal.drop('price', axis=1)\n",
    "target_le = df_ordinal['price']\n",
    "\n",
    "#split into train and test sets\n",
    "X_train_le, X_test_le, y_train_le, y_test_le = train_test_split(features_le,target_le, test_size=0.25, random_state=12345)\n"
   ]
  },
  {
   "cell_type": "code",
   "execution_count": null,
   "metadata": {},
   "outputs": [],
   "source": []
  },
  {
   "cell_type": "code",
   "execution_count": 80,
   "metadata": {},
   "outputs": [
    {
     "name": "stdout",
     "output_type": "stream",
     "text": [
      "Best tree:DecisionTreeRegressor(max_depth=9, random_state=12345)\n",
      "Lowest RMSE: 2195.97\n",
      "Wall time: 4.1 s\n"
     ]
    }
   ],
   "source": [
    "\n",
    "%%time\n",
    "\n",
    "#Iterate thorugh different hyperparameters and store the model achieving the lowest RMSE\n",
    "best_tree = None\n",
    "best_result_tree = 2842\n",
    "\n",
    "\n",
    "\n",
    "for depth in range(1,10): # choose hyperparameter range\n",
    "    model = DecisionTreeRegressor(random_state=12345, max_depth= depth) # train model on training set\n",
    "    model.fit(X_train_le, y_train_le) # train model on training set\n",
    "    predictions_tree = model.predict(X_test_le) # get model predictions on test set\n",
    "    \n",
    "    rmse_tree= eval_regressor(y_test_le, predictions_tree)\n",
    "    \n",
    "    if rmse_tree < best_result_tree:\n",
    "        best_tree = model\n",
    "        best_result_tree = rmse_tree\n",
    "        \n",
    "print(f'Best tree:{best_tree}')\n",
    "print(f'Lowest RMSE: {best_result_tree}')"
   ]
  },
  {
   "cell_type": "code",
   "execution_count": 81,
   "metadata": {},
   "outputs": [
    {
     "data": {
      "text/plain": [
       "0.79"
      ]
     },
     "execution_count": 81,
     "metadata": {},
     "output_type": "execute_result"
    }
   ],
   "source": [
    "#Take time to fit and predict for the best tree model\n",
    "time_in= time.time()\n",
    "\n",
    "#define the model again\n",
    "best_tree = DecisionTreeRegressor(max_depth=9, random_state=12345)\n",
    "\n",
    "#fit train set\n",
    "best_tree.fit(X_train_le, y_train_le) # train model on training set\n",
    "\n",
    "predictions_tree = best_tree.predict(X_test_le) # get model predictions on test set\n",
    "\n",
    "time_out= time.time()\n",
    "\n",
    "tree_regressor_pred_sec= round(time_out-time_in,2)\n",
    "tree_regressor_pred_sec"
   ]
  },
  {
   "cell_type": "code",
   "execution_count": 82,
   "metadata": {},
   "outputs": [
    {
     "data": {
      "text/plain": [
       "2195.97"
      ]
     },
     "execution_count": 82,
     "metadata": {},
     "output_type": "execute_result"
    }
   ],
   "source": [
    "#make sure rmse hasn't changed\n",
    "rmse_tree= eval_regressor(y_test_le, predictions_tree)\n",
    "rmse_tree"
   ]
  },
  {
   "cell_type": "markdown",
   "metadata": {},
   "source": [
    "#### 3.2.2) Random Forest\n",
    "\n",
    "Now, we'll use a Random Forest, tunning hypermarameters to store the ones achieving the lowest RMSE"
   ]
  },
  {
   "cell_type": "code",
   "execution_count": 83,
   "metadata": {},
   "outputs": [
    {
     "name": "stdout",
     "output_type": "stream",
     "text": [
      "Best Randome forest:RandomForestRegressor(max_depth=9, n_estimators=50, random_state=12345)\n",
      "Lowest RMSE: 2117.82\n",
      "Wall time: 4min 2s\n"
     ]
    }
   ],
   "source": [
    "%%time\n",
    "\n",
    "best_forest = None\n",
    "best_result_forest = best_result_tree\n",
    "\n",
    "\n",
    "\n",
    "for est in range(40, 51, 10):\n",
    "    for depth in range(1,10): # choose hyperparameter range\n",
    "        model = RandomForestRegressor(random_state=12345, max_depth= depth,n_estimators=est) # train model on training set\n",
    "        model.fit(X_train_le, y_train_le) # train model on training set\n",
    "        predictions_forest = model.predict(X_test_le) # get model predictions on test set\n",
    "\n",
    "        rmse_forest= eval_regressor(y_test_le, predictions_forest)\n",
    "\n",
    "        if rmse_forest < best_result_forest:\n",
    "            best_forest = model\n",
    "            best_result_forest= rmse_forest\n",
    "        \n",
    "    \n",
    "        \n",
    "print(f'Best Randome forest:{best_forest}')\n",
    "print(f'Lowest RMSE: {best_result_forest}')"
   ]
  },
  {
   "cell_type": "code",
   "execution_count": 84,
   "metadata": {},
   "outputs": [
    {
     "data": {
      "text/plain": [
       "26.18"
      ]
     },
     "execution_count": 84,
     "metadata": {},
     "output_type": "execute_result"
    }
   ],
   "source": [
    "\n",
    "#Take time to fit and predict for the best random forest model\n",
    "time_in= time.time()\n",
    "#define the model again\n",
    "best_forest = RandomForestRegressor(max_depth=9, n_estimators=50, random_state=12345)\n",
    "\n",
    "#fit train set\n",
    "best_forest.fit(X_train_le, y_train_le) # train model on training set\n",
    "\n",
    "predictions_forest= best_forest.predict(X_test_le) # get model predictions on test set\n",
    "\n",
    "time_out= time.time()\n",
    "\n",
    "random_forest_pred_sec= round(time_out-time_in,2)\n",
    "random_forest_pred_sec"
   ]
  },
  {
   "cell_type": "code",
   "execution_count": 85,
   "metadata": {},
   "outputs": [
    {
     "data": {
      "text/plain": [
       "2117.82"
      ]
     },
     "execution_count": 85,
     "metadata": {},
     "output_type": "execute_result"
    }
   ],
   "source": [
    "#make sure rmse hasn't changed\n",
    "rmse_forest= eval_regressor(y_test_le,predictions_forest)\n",
    "rmse_forest"
   ]
  },
  {
   "cell_type": "markdown",
   "metadata": {},
   "source": [
    "### 3.3) Gradient boosting\n",
    "\n"
   ]
  },
  {
   "cell_type": "markdown",
   "metadata": {},
   "source": [
    "#### 3.3.1) LightGBM"
   ]
  },
  {
   "cell_type": "markdown",
   "metadata": {},
   "source": [
    "LightGBM allows one to specify directly categorical features and handles those internally in a smart way.\n",
    "\n",
    "However, as warned by this Kaggle article: https://www.kaggle.com/code/mlisovyi/beware-of-categorical-features-in-lgbm/notebook\n",
    "\n",
    "categorical features can be better handled by label encoding.\n",
    "\n",
    "\n",
    "We will try out both approaches and assess the differences in the rmse achieved."
   ]
  },
  {
   "cell_type": "code",
   "execution_count": 86,
   "metadata": {},
   "outputs": [],
   "source": [
    "#Separate features and target\n",
    "features= df.drop(['price'], axis=1)\n",
    "target = df['price']\n"
   ]
  },
  {
   "cell_type": "code",
   "execution_count": 87,
   "metadata": {},
   "outputs": [],
   "source": [
    "#Transform categorical features into the appropriate type that is expected by LightGBM.\n",
    "for col in features.columns:\n",
    "    col_type = features[col].dtype\n",
    "    if col_type == 'object':\n",
    "        features[col] = features[col].astype('category')\n",
    "\n",
    "#split into train and test sets\n",
    "X_train, X_test, y_train, y_test = train_test_split(features,target, test_size=0.25, random_state=12345)\n",
    "\n"
   ]
  },
  {
   "cell_type": "code",
   "execution_count": 88,
   "metadata": {},
   "outputs": [
    {
     "name": "stdout",
     "output_type": "stream",
     "text": [
      "Best parameters: LGBMRegressor(colsample_bytree=0.9, learning_rate=0.5, max_depth=50,\n",
      "              n_estimators=300, num_leaves=30, random_state=12345,\n",
      "              subsample=0.9)\n",
      "Best rmse: 1654.32\n",
      "Wall time: 19.8 s\n"
     ]
    }
   ],
   "source": [
    "%%time\n",
    "best_lgbm = None\n",
    "best_rmse_lgbm= 2000\n",
    "\n",
    "#Iterate through different hyperparameters\n",
    "\n",
    "for est in range(100,500,100):\n",
    "    for depth in range(50,100,50):\n",
    "        for rate in [0.1, 0.3,0.5]:\n",
    "            \n",
    "            #define model\n",
    "            clf = lgb.LGBMRegressor(num_leaves= 30, max_depth=depth, \n",
    "                            random_state=12345, \n",
    "                            n_estimators=est,\n",
    "                            colsample_bytree=0.9,\n",
    "                            subsample=0.9,\n",
    "                            learning_rate=0.5,\n",
    "                            )\n",
    "\n",
    "            # fit train set\n",
    "            clf.fit(X_train, y_train)\n",
    "            \n",
    "            #make predictions\n",
    "            predictions= clf.predict(X_test)\n",
    "            rmse_lgbm= eval_regressor(predictions, y_test)\n",
    "            \n",
    "            #store the model with the lowest RMSE\n",
    "            if rmse_lgbm < best_rmse_lgbm:\n",
    "                best_lgbm = clf\n",
    "                best_rmse_lgbm= rmse_lgbm\n",
    "            \n",
    "print(f'Best parameters: {best_lgbm}')\n",
    "print(f'Best rmse: {best_rmse_lgbm}')"
   ]
  },
  {
   "cell_type": "code",
   "execution_count": 89,
   "metadata": {},
   "outputs": [
    {
     "data": {
      "text/plain": [
       "2.0"
      ]
     },
     "execution_count": 89,
     "metadata": {},
     "output_type": "execute_result"
    }
   ],
   "source": [
    "\n",
    "#Take time to fit and predict for the best LGBM model auto-handling categorical columns\n",
    "time_in= time.time()\n",
    "\n",
    "#define model\n",
    "best_lgbm_auto=  lgb.LGBMRegressor(colsample_bytree=0.9, learning_rate=0.5, max_depth=50,\n",
    "              n_estimators=300, num_leaves=30, random_state=12345,\n",
    "              subsample=0.9)\n",
    "\n",
    "#train model\n",
    "best_lgbm_auto.fit(X_train, y_train)\n",
    " \n",
    "#make pred   \n",
    "lgbm_auto_encode_predictions= best_lgbm_auto.predict(X_test)\n",
    "              \n",
    "time_out= time.time()\n",
    "\n",
    "lgbm_auto_pred_sec= round(time_out-time_in,2)\n",
    "lgbm_auto_pred_sec"
   ]
  },
  {
   "cell_type": "code",
   "execution_count": 90,
   "metadata": {},
   "outputs": [
    {
     "data": {
      "text/plain": [
       "1654.32"
      ]
     },
     "execution_count": 90,
     "metadata": {},
     "output_type": "execute_result"
    }
   ],
   "source": [
    "#re-calculate rmse and make sure it hasn't changed\n",
    "best_lgbm_auto_rmse= eval_regressor(lgbm_auto_encode_predictions, y_test)\n",
    "              \n",
    "best_lgbm_auto_rmse "
   ]
  },
  {
   "cell_type": "code",
   "execution_count": 91,
   "metadata": {},
   "outputs": [
    {
     "data": {
      "image/png": "[encoded data removed]",
      "text/plain": [
       "<Figure size 576x720 with 1 Axes>"
      ]
     },
     "metadata": {
      "needs_background": "light"
     },
     "output_type": "display_data"
    }
   ],
   "source": [
    "#Plot feature importance assigned by the model\n",
    "feat_imp = pd.Series(best_lgbm.feature_importances_, index=features.columns)\n",
    "feat_imp.nlargest(30).plot(kind='barh', figsize=(8,10))\n",
    "plt.show()"
   ]
  },
  {
   "cell_type": "markdown",
   "metadata": {},
   "source": [
    "Next, we'll evaluate the performance of the LGBM model using label encoding (we are using an ensemble of tree-based models)."
   ]
  },
  {
   "cell_type": "code",
   "execution_count": 92,
   "metadata": {},
   "outputs": [
    {
     "data": {
      "text/plain": [
       "2.17"
      ]
     },
     "execution_count": 92,
     "metadata": {},
     "output_type": "execute_result"
    }
   ],
   "source": [
    "\n",
    "#Take time to fit and predict for the best LGBM model with Label encoded categorical data\n",
    "time_in= time.time()\n",
    "#define model\n",
    "best_lgbm_le=  lgb.LGBMRegressor(colsample_bytree=0.9, learning_rate=0.5, max_depth=50,\n",
    "              n_estimators=400, num_leaves=30, random_state=12345,\n",
    "              subsample=0.9)\n",
    "#train model\n",
    "best_lgbm_le.fit(X_train_le, y_train_le)\n",
    "\n",
    "#make predictions\n",
    "predictions_lgbm_le= best_lgbm_le.predict(X_test_le)\n",
    "\n",
    "#store time spent\n",
    "time_out= time.time()\n",
    "lgbm_le_pred_sec= round(time_out-time_in,2)\n",
    "lgbm_le_pred_sec\n",
    "\n"
   ]
  },
  {
   "cell_type": "code",
   "execution_count": 93,
   "metadata": {},
   "outputs": [
    {
     "data": {
      "text/plain": [
       "1663.73"
      ]
     },
     "execution_count": 93,
     "metadata": {},
     "output_type": "execute_result"
    }
   ],
   "source": [
    "#Calculate rmse for LightLGBM\n",
    "best_lgbm_le_rmse= eval_regressor(predictions_lgbm_le, y_test_le)\n",
    "\n",
    "best_lgbm_le_rmse"
   ]
  },
  {
   "cell_type": "code",
   "execution_count": 94,
   "metadata": {},
   "outputs": [
    {
     "data": {
      "image/png": "[encoded data removed]",
      "text/plain": [
       "<Figure size 576x720 with 1 Axes>"
      ]
     },
     "metadata": {
      "needs_background": "light"
     },
     "output_type": "display_data"
    }
   ],
   "source": [
    "#Plot feature importance using label encoding\n",
    "feat_imp = pd.Series(best_lgbm_le.feature_importances_, index=features.columns)\n",
    "feat_imp.nlargest(30).plot(kind='barh', figsize=(8,10))\n",
    "plt.show()"
   ]
  },
  {
   "cell_type": "markdown",
   "metadata": {},
   "source": [
    "#### 3.3.2) CatBoost Regressor\n",
    "\n",
    "The catboost mudel contains a warning not to use one-hot encoding during preprocessing. This affects both the training speed and the resulting quality.\n",
    "\n",
    "We will pass a list with categorical features to the pool class in order for catboost to handle them internally.\n",
    "\n",
    "Then, we will try it also with label encoding."
   ]
  },
  {
   "cell_type": "code",
   "execution_count": 95,
   "metadata": {
    "scrolled": true
   },
   "outputs": [
    {
     "name": "stdout",
     "output_type": "stream",
     "text": [
      "0:\tlearn: 6194.8799686\ttest: 6187.8177171\tbest: 6187.8177171 (0)\ttotal: 180ms\tremaining: 8.81s\n",
      "1:\tlearn: 5957.5633991\ttest: 5949.5787838\tbest: 5949.5787838 (1)\ttotal: 212ms\tremaining: 5.08s\n",
      "2:\tlearn: 5731.2007410\ttest: 5723.8265771\tbest: 5723.8265771 (2)\ttotal: 242ms\tremaining: 3.79s\n",
      "3:\tlearn: 5519.8676597\ttest: 5512.3725699\tbest: 5512.3725699 (3)\ttotal: 282ms\tremaining: 3.25s\n",
      "4:\tlearn: 5320.2844918\ttest: 5312.4105896\tbest: 5312.4105896 (4)\ttotal: 312ms\tremaining: 2.81s\n",
      "5:\tlearn: 5132.2318555\ttest: 5124.2595673\tbest: 5124.2595673 (5)\ttotal: 343ms\tremaining: 2.52s\n",
      "6:\tlearn: 4952.1324943\ttest: 4944.8540128\tbest: 4944.8540128 (6)\ttotal: 378ms\tremaining: 2.32s\n",
      "7:\tlearn: 4787.6268603\ttest: 4779.9431293\tbest: 4779.9431293 (7)\ttotal: 413ms\tremaining: 2.17s\n",
      "8:\tlearn: 4628.3991871\ttest: 4621.4124062\tbest: 4621.4124062 (8)\ttotal: 444ms\tremaining: 2.02s\n",
      "9:\tlearn: 4483.4121759\ttest: 4476.6216449\tbest: 4476.6216449 (9)\ttotal: 479ms\tremaining: 1.92s\n",
      "10:\tlearn: 4342.9763070\ttest: 4336.2496783\tbest: 4336.2496783 (10)\ttotal: 516ms\tremaining: 1.83s\n",
      "11:\tlearn: 4213.1659376\ttest: 4206.3796254\tbest: 4206.3796254 (11)\ttotal: 547ms\tremaining: 1.73s\n",
      "12:\tlearn: 4089.0231104\ttest: 4082.5825605\tbest: 4082.5825605 (12)\ttotal: 582ms\tremaining: 1.66s\n",
      "13:\tlearn: 3973.8640286\ttest: 3967.2454773\tbest: 3967.2454773 (13)\ttotal: 619ms\tremaining: 1.59s\n",
      "14:\tlearn: 3867.9774115\ttest: 3861.3759315\tbest: 3861.3759315 (14)\ttotal: 651ms\tremaining: 1.52s\n",
      "15:\tlearn: 3769.3651570\ttest: 3762.5333409\tbest: 3762.5333409 (15)\ttotal: 686ms\tremaining: 1.46s\n",
      "16:\tlearn: 3675.7001537\ttest: 3669.0121832\tbest: 3669.0121832 (16)\ttotal: 720ms\tremaining: 1.4s\n",
      "17:\tlearn: 3586.0164459\ttest: 3579.7971452\tbest: 3579.7971452 (17)\ttotal: 752ms\tremaining: 1.34s\n",
      "18:\tlearn: 3502.1443707\ttest: 3496.6083598\tbest: 3496.6083598 (18)\ttotal: 789ms\tremaining: 1.29s\n",
      "19:\tlearn: 3422.3514526\ttest: 3417.6628433\tbest: 3417.6628433 (19)\ttotal: 831ms\tremaining: 1.25s\n",
      "20:\tlearn: 3349.4699897\ttest: 3345.7154330\tbest: 3345.7154330 (20)\ttotal: 872ms\tremaining: 1.2s\n",
      "21:\tlearn: 3284.0880968\ttest: 3280.7408969\tbest: 3280.7408969 (21)\ttotal: 915ms\tremaining: 1.16s\n",
      "22:\tlearn: 3221.0063143\ttest: 3218.3268107\tbest: 3218.3268107 (22)\ttotal: 952ms\tremaining: 1.12s\n",
      "23:\tlearn: 3161.0110810\ttest: 3158.3276366\tbest: 3158.3276366 (23)\ttotal: 992ms\tremaining: 1.07s\n",
      "24:\tlearn: 3107.2861469\ttest: 3104.5133982\tbest: 3104.5133982 (24)\ttotal: 1.03s\tremaining: 1.03s\n",
      "25:\tlearn: 3054.6000439\ttest: 3052.1378325\tbest: 3052.1378325 (25)\ttotal: 1.07s\tremaining: 991ms\n",
      "26:\tlearn: 2999.3808192\ttest: 2997.1486202\tbest: 2997.1486202 (26)\ttotal: 1.12s\tremaining: 952ms\n",
      "27:\tlearn: 2948.9693436\ttest: 2947.1831959\tbest: 2947.1831959 (27)\ttotal: 1.15s\tremaining: 905ms\n",
      "28:\tlearn: 2901.1596578\ttest: 2899.3764128\tbest: 2899.3764128 (28)\ttotal: 1.19s\tremaining: 859ms\n",
      "29:\tlearn: 2857.7120018\ttest: 2856.3295185\tbest: 2856.3295185 (29)\ttotal: 1.23s\tremaining: 818ms\n",
      "30:\tlearn: 2816.6764577\ttest: 2815.3810426\tbest: 2815.3810426 (30)\ttotal: 1.26s\tremaining: 772ms\n",
      "31:\tlearn: 2777.1542662\ttest: 2775.8743179\tbest: 2775.8743179 (31)\ttotal: 1.29s\tremaining: 729ms\n",
      "32:\tlearn: 2741.8606742\ttest: 2741.0168154\tbest: 2741.0168154 (32)\ttotal: 1.33s\tremaining: 686ms\n",
      "33:\tlearn: 2706.6627398\ttest: 2706.1043816\tbest: 2706.1043816 (33)\ttotal: 1.36s\tremaining: 642ms\n",
      "34:\tlearn: 2675.9687117\ttest: 2675.5493782\tbest: 2675.5493782 (34)\ttotal: 1.4s\tremaining: 600ms\n",
      "35:\tlearn: 2647.3592600\ttest: 2647.3419633\tbest: 2647.3419633 (35)\ttotal: 1.44s\tremaining: 559ms\n",
      "36:\tlearn: 2616.7086558\ttest: 2617.0814429\tbest: 2617.0814429 (36)\ttotal: 1.47s\tremaining: 517ms\n",
      "37:\tlearn: 2589.3468444\ttest: 2590.2147858\tbest: 2590.2147858 (37)\ttotal: 1.5s\tremaining: 475ms\n",
      "38:\tlearn: 2566.6746297\ttest: 2567.4859944\tbest: 2567.4859944 (38)\ttotal: 1.54s\tremaining: 435ms\n",
      "39:\tlearn: 2544.1293220\ttest: 2545.3310550\tbest: 2545.3310550 (39)\ttotal: 1.57s\tremaining: 394ms\n",
      "40:\tlearn: 2523.8183366\ttest: 2525.2540774\tbest: 2525.2540774 (40)\ttotal: 1.61s\tremaining: 354ms\n",
      "41:\tlearn: 2501.5506341\ttest: 2503.2736901\tbest: 2503.2736901 (41)\ttotal: 1.65s\tremaining: 314ms\n",
      "42:\tlearn: 2481.9085418\ttest: 2484.1288841\tbest: 2484.1288841 (42)\ttotal: 1.68s\tremaining: 274ms\n",
      "43:\tlearn: 2461.5708216\ttest: 2463.8176286\tbest: 2463.8176286 (43)\ttotal: 1.72s\tremaining: 234ms\n",
      "44:\tlearn: 2445.4968320\ttest: 2448.0419009\tbest: 2448.0419009 (44)\ttotal: 1.75s\tremaining: 195ms\n",
      "45:\tlearn: 2428.4413230\ttest: 2431.6799484\tbest: 2431.6799484 (45)\ttotal: 1.79s\tremaining: 156ms\n",
      "46:\tlearn: 2412.8628522\ttest: 2416.5110963\tbest: 2416.5110963 (46)\ttotal: 1.83s\tremaining: 117ms\n",
      "47:\tlearn: 2399.1214597\ttest: 2402.9691029\tbest: 2402.9691029 (47)\ttotal: 1.87s\tremaining: 77.8ms\n",
      "48:\tlearn: 2384.1857768\ttest: 2387.8402626\tbest: 2387.8402626 (48)\ttotal: 1.9s\tremaining: 38.8ms\n",
      "49:\tlearn: 2367.9731947\ttest: 2371.6615936\tbest: 2371.6615936 (49)\ttotal: 1.94s\tremaining: 0us\n",
      "\n",
      "bestTest = 2371.661594\n",
      "bestIteration = 49\n",
      "\n",
      "0:\tloss: 2371.6615936\tbest: 2371.6615936 (0)\ttotal: 2.08s\tremaining: 22.9s\n",
      "0:\tlearn: 4134.5949007\ttest: 4124.3209823\tbest: 4124.3209823 (0)\ttotal: 39.5ms\tremaining: 1.93s\n",
      "1:\tlearn: 3130.4639635\ttest: 3118.4672320\tbest: 3118.4672320 (1)\ttotal: 86.2ms\tremaining: 2.07s\n",
      "2:\tlearn: 2714.8595956\ttest: 2702.3597742\tbest: 2702.3597742 (2)\ttotal: 128ms\tremaining: 2s\n",
      "3:\tlearn: 2477.3863106\ttest: 2467.9588100\tbest: 2467.9588100 (3)\ttotal: 175ms\tremaining: 2.02s\n",
      "4:\tlearn: 2346.1117910\ttest: 2340.3851592\tbest: 2340.3851592 (4)\ttotal: 212ms\tremaining: 1.91s\n",
      "5:\tlearn: 2263.7842002\ttest: 2257.8742051\tbest: 2257.8742051 (5)\ttotal: 247ms\tremaining: 1.81s\n",
      "6:\tlearn: 2198.2461376\ttest: 2195.1694006\tbest: 2195.1694006 (6)\ttotal: 288ms\tremaining: 1.77s\n",
      "7:\tlearn: 2169.3645655\ttest: 2165.2458305\tbest: 2165.2458305 (7)\ttotal: 330ms\tremaining: 1.73s\n",
      "8:\tlearn: 2142.9557962\ttest: 2139.3397369\tbest: 2139.3397369 (8)\ttotal: 365ms\tremaining: 1.66s\n",
      "9:\tlearn: 2115.3438783\ttest: 2114.2763708\tbest: 2114.2763708 (9)\ttotal: 404ms\tremaining: 1.61s\n",
      "10:\tlearn: 2093.0625153\ttest: 2091.4117002\tbest: 2091.4117002 (10)\ttotal: 439ms\tremaining: 1.56s\n",
      "11:\tlearn: 2078.7219179\ttest: 2079.4672434\tbest: 2079.4672434 (11)\ttotal: 475ms\tremaining: 1.5s\n",
      "12:\tlearn: 2056.1050377\ttest: 2058.4170723\tbest: 2058.4170723 (12)\ttotal: 512ms\tremaining: 1.46s\n",
      "13:\tlearn: 2038.3391100\ttest: 2038.3230603\tbest: 2038.3230603 (13)\ttotal: 549ms\tremaining: 1.41s\n",
      "14:\tlearn: 2030.2089316\ttest: 2030.8855197\tbest: 2030.8855197 (14)\ttotal: 584ms\tremaining: 1.36s\n",
      "15:\tlearn: 2021.4115418\ttest: 2022.9540800\tbest: 2022.9540800 (15)\ttotal: 620ms\tremaining: 1.32s\n",
      "16:\tlearn: 2006.5100264\ttest: 2010.1267627\tbest: 2010.1267627 (16)\ttotal: 656ms\tremaining: 1.27s\n",
      "17:\tlearn: 1990.9109392\ttest: 1995.5746096\tbest: 1995.5746096 (17)\ttotal: 691ms\tremaining: 1.23s\n",
      "18:\tlearn: 1973.3393434\ttest: 1979.7932103\tbest: 1979.7932103 (18)\ttotal: 728ms\tremaining: 1.19s\n",
      "19:\tlearn: 1962.7702715\ttest: 1968.7573947\tbest: 1968.7573947 (19)\ttotal: 767ms\tremaining: 1.15s\n",
      "20:\tlearn: 1955.5684345\ttest: 1962.1545469\tbest: 1962.1545469 (20)\ttotal: 803ms\tremaining: 1.11s\n",
      "21:\tlearn: 1949.1063096\ttest: 1957.1014672\tbest: 1957.1014672 (21)\ttotal: 840ms\tremaining: 1.07s\n",
      "22:\tlearn: 1942.3112044\ttest: 1950.4014834\tbest: 1950.4014834 (22)\ttotal: 875ms\tremaining: 1.03s\n",
      "23:\tlearn: 1931.5676677\ttest: 1939.4799859\tbest: 1939.4799859 (23)\ttotal: 911ms\tremaining: 987ms\n",
      "24:\tlearn: 1924.7347377\ttest: 1933.6773489\tbest: 1933.6773489 (24)\ttotal: 947ms\tremaining: 947ms\n",
      "25:\tlearn: 1918.0001620\ttest: 1925.5975332\tbest: 1925.5975332 (25)\ttotal: 983ms\tremaining: 907ms\n",
      "26:\tlearn: 1911.9451518\ttest: 1919.5921482\tbest: 1919.5921482 (26)\ttotal: 1.02s\tremaining: 868ms\n",
      "27:\tlearn: 1905.2439657\ttest: 1912.7331079\tbest: 1912.7331079 (27)\ttotal: 1.05s\tremaining: 829ms\n",
      "28:\tlearn: 1898.3462087\ttest: 1905.5917068\tbest: 1905.5917068 (28)\ttotal: 1.09s\tremaining: 788ms\n",
      "29:\tlearn: 1881.7361492\ttest: 1891.9418890\tbest: 1891.9418890 (29)\ttotal: 1.13s\tremaining: 750ms\n",
      "30:\tlearn: 1876.7741024\ttest: 1888.6278313\tbest: 1888.6278313 (30)\ttotal: 1.16s\tremaining: 712ms\n",
      "31:\tlearn: 1869.9976143\ttest: 1883.6995216\tbest: 1883.6995216 (31)\ttotal: 1.2s\tremaining: 674ms\n",
      "32:\tlearn: 1865.5937480\ttest: 1880.0952361\tbest: 1880.0952361 (32)\ttotal: 1.23s\tremaining: 636ms\n",
      "33:\tlearn: 1861.9889422\ttest: 1877.5591471\tbest: 1877.5591471 (33)\ttotal: 1.27s\tremaining: 598ms\n",
      "34:\tlearn: 1858.1907353\ttest: 1873.7952649\tbest: 1873.7952649 (34)\ttotal: 1.31s\tremaining: 561ms\n",
      "35:\tlearn: 1855.3894247\ttest: 1871.6561484\tbest: 1871.6561484 (35)\ttotal: 1.35s\tremaining: 523ms\n",
      "36:\tlearn: 1851.4277082\ttest: 1867.2688254\tbest: 1867.2688254 (36)\ttotal: 1.38s\tremaining: 485ms\n",
      "37:\tlearn: 1848.3075942\ttest: 1864.9572497\tbest: 1864.9572497 (37)\ttotal: 1.42s\tremaining: 448ms\n",
      "38:\tlearn: 1845.5355829\ttest: 1862.7515553\tbest: 1862.7515553 (38)\ttotal: 1.46s\tremaining: 411ms\n",
      "39:\tlearn: 1843.1431452\ttest: 1861.0714192\tbest: 1861.0714192 (39)\ttotal: 1.49s\tremaining: 373ms\n",
      "40:\tlearn: 1839.5429110\ttest: 1857.6567426\tbest: 1857.6567426 (40)\ttotal: 1.52s\tremaining: 335ms\n",
      "41:\tlearn: 1836.0536795\ttest: 1853.7362918\tbest: 1853.7362918 (41)\ttotal: 1.56s\tremaining: 297ms\n",
      "42:\tlearn: 1833.5230546\ttest: 1850.4580482\tbest: 1850.4580482 (42)\ttotal: 1.6s\tremaining: 260ms\n",
      "43:\tlearn: 1830.9374693\ttest: 1847.6272178\tbest: 1847.6272178 (43)\ttotal: 1.65s\tremaining: 224ms\n",
      "44:\tlearn: 1828.2037942\ttest: 1845.5335837\tbest: 1845.5335837 (44)\ttotal: 1.68s\tremaining: 187ms\n",
      "45:\tlearn: 1822.9308851\ttest: 1843.1433547\tbest: 1843.1433547 (45)\ttotal: 1.72s\tremaining: 149ms\n",
      "46:\tlearn: 1820.4551412\ttest: 1841.2529375\tbest: 1841.2529375 (46)\ttotal: 1.75s\tremaining: 112ms\n",
      "47:\tlearn: 1817.0814906\ttest: 1838.0415686\tbest: 1838.0415686 (47)\ttotal: 1.79s\tremaining: 74.4ms\n",
      "48:\tlearn: 1814.1245009\ttest: 1835.1336580\tbest: 1835.1336580 (48)\ttotal: 1.82s\tremaining: 37.2ms\n",
      "49:\tlearn: 1811.9491960\ttest: 1833.1635726\tbest: 1833.1635726 (49)\ttotal: 1.86s\tremaining: 0us\n",
      "\n",
      "bestTest = 1833.163573\n",
      "bestIteration = 49\n",
      "\n",
      "1:\tloss: 1833.1635726\tbest: 1833.1635726 (1)\ttotal: 3.97s\tremaining: 19.9s\n",
      "0:\tlearn: 6195.0724179\ttest: 6188.0142070\tbest: 6188.0142070 (0)\ttotal: 41.7ms\tremaining: 2.04s\n",
      "1:\tlearn: 5957.9143328\ttest: 5949.9346396\tbest: 5949.9346396 (1)\ttotal: 84.9ms\tremaining: 2.04s\n",
      "2:\tlearn: 5731.7040013\ttest: 5724.3359221\tbest: 5724.3359221 (2)\ttotal: 121ms\tremaining: 1.89s\n",
      "3:\tlearn: 5520.4854920\ttest: 5512.9963840\tbest: 5512.9963840 (3)\ttotal: 161ms\tremaining: 1.85s\n",
      "4:\tlearn: 5320.9967073\ttest: 5313.1299449\tbest: 5313.1299449 (4)\ttotal: 204ms\tremaining: 1.84s\n",
      "5:\tlearn: 5133.0807870\ttest: 5125.1168136\tbest: 5125.1168136 (5)\ttotal: 240ms\tremaining: 1.76s\n",
      "6:\tlearn: 4953.0228648\ttest: 4945.7528871\tbest: 4945.7528871 (6)\ttotal: 284ms\tremaining: 1.74s\n",
      "7:\tlearn: 4788.5956612\ttest: 4780.9210039\tbest: 4780.9210039 (7)\ttotal: 328ms\tremaining: 1.72s\n",
      "8:\tlearn: 4629.3708615\ttest: 4622.3934413\tbest: 4622.3934413 (8)\ttotal: 368ms\tremaining: 1.68s\n",
      "9:\tlearn: 4484.3874780\ttest: 4477.6064986\tbest: 4477.6064986 (9)\ttotal: 409ms\tremaining: 1.64s\n",
      "10:\tlearn: 4344.0103996\ttest: 4337.2951867\tbest: 4337.2951867 (10)\ttotal: 453ms\tremaining: 1.61s\n",
      "11:\tlearn: 4214.2399847\ttest: 4207.4682371\tbest: 4207.4682371 (11)\ttotal: 491ms\tremaining: 1.55s\n",
      "12:\tlearn: 4090.1372127\ttest: 4083.7093096\tbest: 4083.7093096 (12)\ttotal: 530ms\tremaining: 1.51s\n",
      "13:\tlearn: 3975.0028551\ttest: 3968.3973911\tbest: 3968.3973911 (13)\ttotal: 566ms\tremaining: 1.45s\n",
      "14:\tlearn: 3869.1812646\ttest: 3862.5967893\tbest: 3862.5967893 (14)\ttotal: 603ms\tremaining: 1.41s\n",
      "15:\tlearn: 3770.6142925\ttest: 3763.8024171\tbest: 3763.8024171 (15)\ttotal: 640ms\tremaining: 1.36s\n",
      "16:\tlearn: 3676.9246779\ttest: 3670.2574380\tbest: 3670.2574380 (16)\ttotal: 675ms\tremaining: 1.31s\n",
      "17:\tlearn: 3587.1059589\ttest: 3580.7246389\tbest: 3580.7246389 (17)\ttotal: 712ms\tremaining: 1.26s\n",
      "18:\tlearn: 3501.9490603\ttest: 3496.3862222\tbest: 3496.3862222 (18)\ttotal: 748ms\tremaining: 1.22s\n",
      "19:\tlearn: 3423.8834847\ttest: 3419.0011343\tbest: 3419.0011343 (19)\ttotal: 780ms\tremaining: 1.17s\n",
      "20:\tlearn: 3350.3667386\ttest: 3346.0104318\tbest: 3346.0104318 (20)\ttotal: 816ms\tremaining: 1.13s\n",
      "21:\tlearn: 3285.1345308\ttest: 3281.1797565\tbest: 3281.1797565 (21)\ttotal: 853ms\tremaining: 1.08s\n",
      "22:\tlearn: 3222.2756673\ttest: 3218.4519511\tbest: 3218.4519511 (22)\ttotal: 886ms\tremaining: 1.04s\n",
      "23:\tlearn: 3164.5434039\ttest: 3161.1506398\tbest: 3161.1506398 (23)\ttotal: 924ms\tremaining: 1s\n",
      "24:\tlearn: 3102.4430625\ttest: 3098.9263870\tbest: 3098.9263870 (24)\ttotal: 964ms\tremaining: 964ms\n",
      "25:\tlearn: 3045.7044592\ttest: 3042.4010873\tbest: 3042.4010873 (25)\ttotal: 997ms\tremaining: 920ms\n",
      "26:\tlearn: 2991.5555909\ttest: 2988.9540285\tbest: 2988.9540285 (26)\ttotal: 1.03s\tremaining: 880ms\n",
      "27:\tlearn: 2941.3382419\ttest: 2939.6160902\tbest: 2939.6160902 (27)\ttotal: 1.07s\tremaining: 840ms\n",
      "28:\tlearn: 2896.0195166\ttest: 2894.7881686\tbest: 2894.7881686 (28)\ttotal: 1.1s\tremaining: 798ms\n",
      "29:\tlearn: 2852.3546759\ttest: 2851.3711057\tbest: 2851.3711057 (29)\ttotal: 1.14s\tremaining: 761ms\n",
      "30:\tlearn: 2812.9360254\ttest: 2812.3933079\tbest: 2812.3933079 (30)\ttotal: 1.18s\tremaining: 721ms\n",
      "31:\tlearn: 2772.7557718\ttest: 2772.0637531\tbest: 2772.0637531 (31)\ttotal: 1.21s\tremaining: 681ms\n",
      "32:\tlearn: 2736.4579292\ttest: 2736.1022195\tbest: 2736.1022195 (32)\ttotal: 1.25s\tremaining: 643ms\n",
      "33:\tlearn: 2702.8264588\ttest: 2702.9358912\tbest: 2702.9358912 (33)\ttotal: 1.28s\tremaining: 604ms\n",
      "34:\tlearn: 2672.2563060\ttest: 2672.7253435\tbest: 2672.7253435 (34)\ttotal: 1.32s\tremaining: 565ms\n",
      "35:\tlearn: 2643.8318417\ttest: 2644.4350661\tbest: 2644.4350661 (35)\ttotal: 1.36s\tremaining: 528ms\n",
      "36:\tlearn: 2613.9713921\ttest: 2614.8816126\tbest: 2614.8816126 (36)\ttotal: 1.4s\tremaining: 492ms\n",
      "37:\tlearn: 2587.6485069\ttest: 2588.5792076\tbest: 2588.5792076 (37)\ttotal: 1.44s\tremaining: 456ms\n",
      "38:\tlearn: 2562.0662877\ttest: 2563.2360369\tbest: 2563.2360369 (38)\ttotal: 1.48s\tremaining: 419ms\n",
      "39:\tlearn: 2539.4881244\ttest: 2541.0618789\tbest: 2541.0618789 (39)\ttotal: 1.52s\tremaining: 381ms\n",
      "40:\tlearn: 2518.8826875\ttest: 2520.7820528\tbest: 2520.7820528 (40)\ttotal: 1.56s\tremaining: 344ms\n",
      "41:\tlearn: 2498.5068896\ttest: 2501.0174297\tbest: 2501.0174297 (41)\ttotal: 1.6s\tremaining: 305ms\n",
      "42:\tlearn: 2479.0200346\ttest: 2481.9778136\tbest: 2481.9778136 (42)\ttotal: 1.64s\tremaining: 267ms\n",
      "43:\tlearn: 2461.7452344\ttest: 2465.0533918\tbest: 2465.0533918 (43)\ttotal: 1.68s\tremaining: 229ms\n",
      "44:\tlearn: 2443.4831671\ttest: 2447.4722247\tbest: 2447.4722247 (44)\ttotal: 1.72s\tremaining: 191ms\n",
      "45:\tlearn: 2426.1075135\ttest: 2430.0613274\tbest: 2430.0613274 (45)\ttotal: 1.75s\tremaining: 153ms\n",
      "46:\tlearn: 2408.7989902\ttest: 2412.5968417\tbest: 2412.5968417 (46)\ttotal: 1.79s\tremaining: 114ms\n",
      "47:\tlearn: 2393.0588706\ttest: 2396.8975135\tbest: 2396.8975135 (47)\ttotal: 1.82s\tremaining: 76ms\n",
      "48:\tlearn: 2376.6699063\ttest: 2380.5234100\tbest: 2380.5234100 (48)\ttotal: 1.86s\tremaining: 38ms\n",
      "49:\tlearn: 2362.2512422\ttest: 2366.1894365\tbest: 2366.1894365 (49)\ttotal: 1.9s\tremaining: 0us\n",
      "\n",
      "bestTest = 2366.189437\n",
      "bestIteration = 49\n",
      "\n",
      "2:\tloss: 2366.1894365\tbest: 1833.1635726 (1)\ttotal: 5.91s\tremaining: 17.7s\n",
      "0:\tlearn: 4136.1171446\ttest: 4125.8967516\tbest: 4125.8967516 (0)\ttotal: 42.2ms\tremaining: 2.07s\n",
      "1:\tlearn: 3131.7215511\ttest: 3119.7946120\tbest: 3119.7946120 (1)\ttotal: 84.4ms\tremaining: 2.02s\n",
      "2:\tlearn: 2715.4890999\ttest: 2703.0557206\tbest: 2703.0557206 (2)\ttotal: 123ms\tremaining: 1.93s\n",
      "3:\tlearn: 2477.7052316\ttest: 2468.3432392\tbest: 2468.3432392 (3)\ttotal: 170ms\tremaining: 1.95s\n",
      "4:\tlearn: 2346.3022845\ttest: 2340.6382268\tbest: 2340.6382268 (4)\ttotal: 203ms\tremaining: 1.82s\n",
      "5:\tlearn: 2264.0312283\ttest: 2258.1706667\tbest: 2258.1706667 (5)\ttotal: 236ms\tremaining: 1.73s\n",
      "6:\tlearn: 2198.5310033\ttest: 2195.4947320\tbest: 2195.4947320 (6)\ttotal: 277ms\tremaining: 1.7s\n",
      "7:\tlearn: 2169.6607227\ttest: 2166.3488615\tbest: 2166.3488615 (7)\ttotal: 313ms\tremaining: 1.64s\n",
      "8:\tlearn: 2144.3814920\ttest: 2141.5823640\tbest: 2141.5823640 (8)\ttotal: 347ms\tremaining: 1.58s\n",
      "9:\tlearn: 2117.0156815\ttest: 2116.7636270\tbest: 2116.7636270 (9)\ttotal: 385ms\tremaining: 1.54s\n",
      "10:\tlearn: 2087.7426706\ttest: 2086.5930219\tbest: 2086.5930219 (10)\ttotal: 423ms\tremaining: 1.5s\n",
      "11:\tlearn: 2073.2035753\ttest: 2072.7841686\tbest: 2072.7841686 (11)\ttotal: 459ms\tremaining: 1.45s\n",
      "12:\tlearn: 2057.7826528\ttest: 2056.5426526\tbest: 2056.5426526 (12)\ttotal: 494ms\tremaining: 1.41s\n",
      "13:\tlearn: 2041.7529720\ttest: 2042.4009662\tbest: 2042.4009662 (13)\ttotal: 529ms\tremaining: 1.36s\n",
      "14:\tlearn: 2028.5112432\ttest: 2027.4841011\tbest: 2027.4841011 (14)\ttotal: 564ms\tremaining: 1.32s\n",
      "15:\tlearn: 2019.8293933\ttest: 2020.2118922\tbest: 2020.2118922 (15)\ttotal: 601ms\tremaining: 1.28s\n",
      "16:\tlearn: 2006.4513932\ttest: 2009.3174233\tbest: 2009.3174233 (16)\ttotal: 635ms\tremaining: 1.23s\n",
      "17:\tlearn: 1991.3739874\ttest: 1996.2696091\tbest: 1996.2696091 (17)\ttotal: 673ms\tremaining: 1.2s\n",
      "18:\tlearn: 1981.0829119\ttest: 1986.3213078\tbest: 1986.3213078 (18)\ttotal: 709ms\tremaining: 1.16s\n",
      "19:\tlearn: 1964.8963752\ttest: 1971.1666964\tbest: 1971.1666964 (19)\ttotal: 744ms\tremaining: 1.11s\n",
      "20:\tlearn: 1957.0050220\ttest: 1963.1065394\tbest: 1963.1065394 (20)\ttotal: 788ms\tremaining: 1.09s\n",
      "21:\tlearn: 1949.6756547\ttest: 1957.9031333\tbest: 1957.9031333 (21)\ttotal: 824ms\tremaining: 1.05s\n",
      "22:\tlearn: 1942.1879310\ttest: 1950.5885477\tbest: 1950.5885477 (22)\ttotal: 859ms\tremaining: 1.01s\n",
      "23:\tlearn: 1936.8745043\ttest: 1945.7845805\tbest: 1945.7845805 (23)\ttotal: 896ms\tremaining: 971ms\n",
      "24:\tlearn: 1925.1753510\ttest: 1934.8328740\tbest: 1934.8328740 (24)\ttotal: 929ms\tremaining: 929ms\n",
      "25:\tlearn: 1918.2695762\ttest: 1927.9387266\tbest: 1927.9387266 (25)\ttotal: 966ms\tremaining: 892ms\n",
      "26:\tlearn: 1913.1941623\ttest: 1922.1129002\tbest: 1922.1129002 (26)\ttotal: 1.01s\tremaining: 859ms\n",
      "27:\tlearn: 1905.6950414\ttest: 1913.2585380\tbest: 1913.2585380 (27)\ttotal: 1.05s\tremaining: 823ms\n",
      "28:\tlearn: 1901.6118856\ttest: 1909.6190970\tbest: 1909.6190970 (28)\ttotal: 1.08s\tremaining: 786ms\n",
      "29:\tlearn: 1895.9227201\ttest: 1904.4503923\tbest: 1904.4503923 (29)\ttotal: 1.12s\tremaining: 748ms\n",
      "30:\tlearn: 1891.2207434\ttest: 1901.4141214\tbest: 1901.4141214 (30)\ttotal: 1.16s\tremaining: 709ms\n",
      "31:\tlearn: 1878.7030070\ttest: 1890.3728255\tbest: 1890.3728255 (31)\ttotal: 1.2s\tremaining: 673ms\n",
      "32:\tlearn: 1870.7569991\ttest: 1881.8607176\tbest: 1881.8607176 (32)\ttotal: 1.23s\tremaining: 636ms\n",
      "33:\tlearn: 1867.6458033\ttest: 1880.2858626\tbest: 1880.2858626 (33)\ttotal: 1.27s\tremaining: 597ms\n",
      "34:\tlearn: 1862.4234046\ttest: 1875.4260272\tbest: 1875.4260272 (34)\ttotal: 1.3s\tremaining: 559ms\n",
      "35:\tlearn: 1858.0101176\ttest: 1870.3280307\tbest: 1870.3280307 (35)\ttotal: 1.34s\tremaining: 521ms\n",
      "36:\tlearn: 1854.1949336\ttest: 1866.8053215\tbest: 1866.8053215 (36)\ttotal: 1.38s\tremaining: 483ms\n",
      "37:\tlearn: 1852.1260667\ttest: 1864.6817219\tbest: 1864.6817219 (37)\ttotal: 1.41s\tremaining: 446ms\n",
      "38:\tlearn: 1848.3333750\ttest: 1861.3844221\tbest: 1861.3844221 (38)\ttotal: 1.45s\tremaining: 409ms\n",
      "39:\tlearn: 1846.1902766\ttest: 1859.7709411\tbest: 1859.7709411 (39)\ttotal: 1.49s\tremaining: 372ms\n",
      "40:\tlearn: 1842.9721394\ttest: 1855.8236116\tbest: 1855.8236116 (40)\ttotal: 1.53s\tremaining: 335ms\n",
      "41:\tlearn: 1839.8676506\ttest: 1853.0873159\tbest: 1853.0873159 (41)\ttotal: 1.57s\tremaining: 299ms\n",
      "42:\tlearn: 1836.1228235\ttest: 1850.4103656\tbest: 1850.4103656 (42)\ttotal: 1.61s\tremaining: 263ms\n",
      "43:\tlearn: 1833.2909529\ttest: 1848.1576621\tbest: 1848.1576621 (43)\ttotal: 1.67s\tremaining: 228ms\n",
      "44:\tlearn: 1830.9745463\ttest: 1846.0153037\tbest: 1846.0153037 (44)\ttotal: 1.72s\tremaining: 191ms\n",
      "45:\tlearn: 1826.3497272\ttest: 1839.8159483\tbest: 1839.8159483 (45)\ttotal: 1.77s\tremaining: 154ms\n",
      "46:\tlearn: 1823.8306587\ttest: 1837.5920237\tbest: 1837.5920237 (46)\ttotal: 1.81s\tremaining: 116ms\n",
      "47:\tlearn: 1821.3680571\ttest: 1835.9117977\tbest: 1835.9117977 (47)\ttotal: 1.85s\tremaining: 77.1ms\n",
      "48:\tlearn: 1817.4437648\ttest: 1832.9225084\tbest: 1832.9225084 (48)\ttotal: 1.89s\tremaining: 38.5ms\n",
      "49:\tlearn: 1814.6946477\ttest: 1830.3006169\tbest: 1830.3006169 (49)\ttotal: 1.93s\tremaining: 0us\n",
      "\n",
      "bestTest = 1830.300617\n",
      "bestIteration = 49\n",
      "\n",
      "3:\tloss: 1830.3006169\tbest: 1830.3006169 (3)\ttotal: 7.88s\tremaining: 15.8s\n",
      "0:\tlearn: 6195.1682609\ttest: 6188.1120424\tbest: 6188.1120424 (0)\ttotal: 48.7ms\tremaining: 2.39s\n",
      "1:\tlearn: 5958.0892569\ttest: 5950.1119976\tbest: 5950.1119976 (1)\ttotal: 97.8ms\tremaining: 2.35s\n",
      "2:\tlearn: 5731.9549034\ttest: 5724.5898277\tbest: 5724.5898277 (2)\ttotal: 139ms\tremaining: 2.18s\n",
      "3:\tlearn: 5520.7936547\ttest: 5513.3074987\tbest: 5513.3074987 (3)\ttotal: 193ms\tremaining: 2.22s\n",
      "4:\tlearn: 5321.3519147\ttest: 5313.4886750\tbest: 5313.4886750 (4)\ttotal: 236ms\tremaining: 2.12s\n",
      "5:\tlearn: 5133.5041098\ttest: 5125.5442458\tbest: 5125.5442458 (5)\ttotal: 282ms\tremaining: 2.06s\n",
      "6:\tlearn: 4953.4669305\ttest: 4946.2011551\tbest: 4946.2011551 (6)\ttotal: 326ms\tremaining: 2s\n",
      "7:\tlearn: 4789.0789495\ttest: 4781.4087804\tbest: 4781.4087804 (7)\ttotal: 368ms\tremaining: 1.93s\n",
      "8:\tlearn: 4629.8556361\ttest: 4622.8828471\tbest: 4622.8828471 (8)\ttotal: 409ms\tremaining: 1.86s\n",
      "9:\tlearn: 4484.8741216\ttest: 4478.0978687\tbest: 4478.0978687 (9)\ttotal: 449ms\tremaining: 1.79s\n",
      "10:\tlearn: 4344.5260054\ttest: 4337.8163711\tbest: 4337.8163711 (10)\ttotal: 492ms\tremaining: 1.74s\n",
      "11:\tlearn: 4214.7749996\ttest: 4208.0103067\tbest: 4208.0103067 (11)\ttotal: 529ms\tremaining: 1.68s\n",
      "12:\tlearn: 4090.6922223\ttest: 4084.2704139\tbest: 4084.2704139 (12)\ttotal: 565ms\tremaining: 1.61s\n",
      "13:\tlearn: 3975.5703531\ttest: 3968.9712110\tbest: 3968.9712110 (13)\ttotal: 603ms\tremaining: 1.55s\n",
      "14:\tlearn: 3869.7807787\ttest: 3863.2046008\tbest: 3863.2046008 (14)\ttotal: 641ms\tremaining: 1.5s\n",
      "15:\tlearn: 3771.2364743\ttest: 3764.4343603\tbest: 3764.4343603 (15)\ttotal: 678ms\tremaining: 1.44s\n",
      "16:\tlearn: 3677.5345044\ttest: 3670.8774815\tbest: 3670.8774815 (16)\ttotal: 715ms\tremaining: 1.39s\n",
      "17:\tlearn: 3587.7144667\ttest: 3581.3428945\tbest: 3581.3428945 (17)\ttotal: 752ms\tremaining: 1.34s\n",
      "18:\tlearn: 3502.5477793\ttest: 3496.9944373\tbest: 3496.9944373 (18)\ttotal: 788ms\tremaining: 1.28s\n",
      "19:\tlearn: 3424.4859841\ttest: 3419.6123402\tbest: 3419.6123402 (19)\ttotal: 824ms\tremaining: 1.24s\n",
      "20:\tlearn: 3350.9536639\ttest: 3346.6063374\tbest: 3346.6063374 (20)\ttotal: 862ms\tremaining: 1.19s\n",
      "21:\tlearn: 3285.7108448\ttest: 3281.7647708\tbest: 3281.7647708 (21)\ttotal: 898ms\tremaining: 1.14s\n",
      "22:\tlearn: 3222.8463343\ttest: 3219.0311926\tbest: 3219.0311926 (22)\ttotal: 936ms\tremaining: 1.1s\n",
      "23:\tlearn: 3165.1157239\ttest: 3161.7330263\tbest: 3161.7330263 (23)\ttotal: 972ms\tremaining: 1.05s\n",
      "24:\tlearn: 3103.0065241\ttest: 3099.4995640\tbest: 3099.4995640 (24)\ttotal: 1.01s\tremaining: 1.01s\n",
      "25:\tlearn: 3046.2606687\ttest: 3042.9668459\tbest: 3042.9668459 (25)\ttotal: 1.05s\tremaining: 971ms\n",
      "26:\tlearn: 2992.1015562\ttest: 2989.5089383\tbest: 2989.5089383 (26)\ttotal: 1.09s\tremaining: 929ms\n",
      "27:\tlearn: 2941.8811336\ttest: 2940.1659778\tbest: 2940.1659778 (27)\ttotal: 1.13s\tremaining: 886ms\n",
      "28:\tlearn: 2896.5457106\ttest: 2895.3211712\tbest: 2895.3211712 (28)\ttotal: 1.16s\tremaining: 842ms\n",
      "29:\tlearn: 2852.8612854\ttest: 2851.8842838\tbest: 2851.8842838 (29)\ttotal: 1.2s\tremaining: 800ms\n",
      "30:\tlearn: 2813.4266707\ttest: 2812.8902477\tbest: 2812.8902477 (30)\ttotal: 1.24s\tremaining: 757ms\n",
      "31:\tlearn: 2773.2451485\ttest: 2772.5592487\tbest: 2772.5592487 (31)\ttotal: 1.27s\tremaining: 715ms\n",
      "32:\tlearn: 2736.9453217\ttest: 2736.5955886\tbest: 2736.5955886 (32)\ttotal: 1.31s\tremaining: 674ms\n",
      "33:\tlearn: 2703.3024888\ttest: 2703.4178251\tbest: 2703.4178251 (33)\ttotal: 1.35s\tremaining: 633ms\n",
      "34:\tlearn: 2672.7168681\ttest: 2673.1914722\tbest: 2673.1914722 (34)\ttotal: 1.38s\tremaining: 592ms\n",
      "35:\tlearn: 2644.2937612\ttest: 2644.9002831\tbest: 2644.9002831 (35)\ttotal: 1.42s\tremaining: 552ms\n",
      "36:\tlearn: 2614.4267520\ttest: 2615.3400577\tbest: 2615.3400577 (36)\ttotal: 1.45s\tremaining: 511ms\n",
      "37:\tlearn: 2588.0982942\ttest: 2589.0320676\tbest: 2589.0320676 (37)\ttotal: 1.49s\tremaining: 471ms\n",
      "38:\tlearn: 2562.5128944\ttest: 2563.6850582\tbest: 2563.6850582 (38)\ttotal: 1.53s\tremaining: 431ms\n",
      "39:\tlearn: 2539.9311298\ttest: 2541.5075579\tbest: 2541.5075579 (39)\ttotal: 1.57s\tremaining: 392ms\n",
      "40:\tlearn: 2519.3270143\ttest: 2521.2283765\tbest: 2521.2283765 (40)\ttotal: 1.61s\tremaining: 353ms\n",
      "41:\tlearn: 2498.9442122\ttest: 2501.4548946\tbest: 2501.4548946 (41)\ttotal: 1.65s\tremaining: 313ms\n",
      "42:\tlearn: 2479.4543999\ttest: 2482.4097412\tbest: 2482.4097412 (42)\ttotal: 1.68s\tremaining: 274ms\n",
      "43:\tlearn: 2462.1775079\ttest: 2465.4815367\tbest: 2465.4815367 (43)\ttotal: 1.72s\tremaining: 234ms\n",
      "44:\tlearn: 2443.9249558\ttest: 2447.9068347\tbest: 2447.9068347 (44)\ttotal: 1.76s\tremaining: 196ms\n",
      "45:\tlearn: 2426.5529140\ttest: 2430.4969648\tbest: 2430.4969648 (45)\ttotal: 1.8s\tremaining: 156ms\n",
      "46:\tlearn: 2409.2445461\ttest: 2413.0329238\tbest: 2413.0329238 (46)\ttotal: 1.83s\tremaining: 117ms\n",
      "47:\tlearn: 2393.5008973\ttest: 2397.3293348\tbest: 2397.3293348 (47)\ttotal: 1.87s\tremaining: 77.9ms\n",
      "48:\tlearn: 2377.1066968\ttest: 2380.9497676\tbest: 2380.9497676 (48)\ttotal: 1.9s\tremaining: 38.9ms\n",
      "49:\tlearn: 2362.6861455\ttest: 2366.6129650\tbest: 2366.6129650 (49)\ttotal: 1.94s\tremaining: 0us\n",
      "\n",
      "bestTest = 2366.612965\n",
      "bestIteration = 49\n",
      "\n",
      "4:\tloss: 2366.6129650\tbest: 1830.3006169 (3)\ttotal: 9.86s\tremaining: 13.8s\n",
      "0:\tlearn: 4136.8764581\ttest: 4126.6824240\tbest: 4126.6824240 (0)\ttotal: 44.2ms\tremaining: 2.16s\n",
      "1:\tlearn: 3132.3509567\ttest: 3120.4584303\tbest: 3120.4584303 (1)\ttotal: 87.9ms\tremaining: 2.11s\n",
      "2:\tlearn: 2715.8059290\ttest: 2703.4052454\tbest: 2703.4052454 (2)\ttotal: 129ms\tremaining: 2.03s\n",
      "3:\tlearn: 2477.8669942\ttest: 2468.5371408\tbest: 2468.5371408 (3)\ttotal: 177ms\tremaining: 2.03s\n",
      "4:\tlearn: 2346.3993423\ttest: 2340.7662275\tbest: 2340.7662275 (4)\ttotal: 213ms\tremaining: 1.91s\n",
      "5:\tlearn: 2264.1562188\ttest: 2258.3200577\tbest: 2258.3200577 (5)\ttotal: 250ms\tremaining: 1.83s\n",
      "6:\tlearn: 2198.6738971\ttest: 2195.6576666\tbest: 2195.6576666 (6)\ttotal: 292ms\tremaining: 1.79s\n",
      "7:\tlearn: 2169.7979466\ttest: 2166.5337675\tbest: 2166.5337675 (7)\ttotal: 327ms\tremaining: 1.72s\n",
      "8:\tlearn: 2144.5687272\ttest: 2141.7940287\tbest: 2141.7940287 (8)\ttotal: 362ms\tremaining: 1.65s\n",
      "9:\tlearn: 2117.2018375\ttest: 2116.9746427\tbest: 2116.9746427 (9)\ttotal: 400ms\tremaining: 1.6s\n",
      "10:\tlearn: 2087.8810812\ttest: 2086.7546174\tbest: 2086.7546174 (10)\ttotal: 442ms\tremaining: 1.57s\n",
      "11:\tlearn: 2073.3339329\ttest: 2072.9339290\tbest: 2072.9339290 (11)\ttotal: 479ms\tremaining: 1.52s\n",
      "12:\tlearn: 2057.9460855\ttest: 2056.7221661\tbest: 2056.7221661 (12)\ttotal: 516ms\tremaining: 1.47s\n",
      "13:\tlearn: 2041.9071825\ttest: 2042.5717551\tbest: 2042.5717551 (13)\ttotal: 552ms\tremaining: 1.42s\n",
      "14:\tlearn: 2028.6792136\ttest: 2027.6668603\tbest: 2027.6668603 (14)\ttotal: 588ms\tremaining: 1.37s\n",
      "15:\tlearn: 2021.1876568\ttest: 2021.1750327\tbest: 2021.1750327 (15)\ttotal: 625ms\tremaining: 1.33s\n",
      "16:\tlearn: 2008.0149421\ttest: 2010.6534038\tbest: 2010.6534038 (16)\ttotal: 661ms\tremaining: 1.28s\n",
      "17:\tlearn: 1992.7784366\ttest: 1997.4042938\tbest: 1997.4042938 (17)\ttotal: 700ms\tremaining: 1.24s\n",
      "18:\tlearn: 1980.8747159\ttest: 1985.1957686\tbest: 1985.1957686 (18)\ttotal: 739ms\tremaining: 1.21s\n",
      "19:\tlearn: 1973.2204932\ttest: 1977.8591162\tbest: 1977.8591162 (19)\ttotal: 775ms\tremaining: 1.16s\n",
      "20:\tlearn: 1964.8525723\ttest: 1968.6156203\tbest: 1968.6156203 (20)\ttotal: 810ms\tremaining: 1.12s\n",
      "21:\tlearn: 1958.7602018\ttest: 1961.8457591\tbest: 1961.8457591 (21)\ttotal: 846ms\tremaining: 1.08s\n",
      "22:\tlearn: 1949.2946242\ttest: 1952.3387322\tbest: 1952.3387322 (22)\ttotal: 882ms\tremaining: 1.03s\n",
      "23:\tlearn: 1929.3808950\ttest: 1935.5331149\tbest: 1935.5331149 (23)\ttotal: 919ms\tremaining: 996ms\n",
      "24:\tlearn: 1920.3373951\ttest: 1927.3887115\tbest: 1927.3887115 (24)\ttotal: 956ms\tremaining: 956ms\n",
      "25:\tlearn: 1911.9389207\ttest: 1922.6483132\tbest: 1922.6483132 (25)\ttotal: 991ms\tremaining: 915ms\n",
      "26:\tlearn: 1907.8234716\ttest: 1917.7375349\tbest: 1917.7375349 (26)\ttotal: 1.03s\tremaining: 874ms\n",
      "27:\tlearn: 1898.6831887\ttest: 1908.3890314\tbest: 1908.3890314 (27)\ttotal: 1.06s\tremaining: 837ms\n",
      "28:\tlearn: 1894.7551349\ttest: 1904.5590990\tbest: 1904.5590990 (28)\ttotal: 1.1s\tremaining: 796ms\n",
      "29:\tlearn: 1889.1348045\ttest: 1899.2740306\tbest: 1899.2740306 (29)\ttotal: 1.14s\tremaining: 758ms\n",
      "30:\tlearn: 1884.0246708\ttest: 1895.3145008\tbest: 1895.3145008 (30)\ttotal: 1.17s\tremaining: 720ms\n",
      "31:\tlearn: 1879.9570647\ttest: 1891.5479052\tbest: 1891.5479052 (31)\ttotal: 1.21s\tremaining: 680ms\n",
      "32:\tlearn: 1873.4170316\ttest: 1887.2465000\tbest: 1887.2465000 (32)\ttotal: 1.25s\tremaining: 642ms\n",
      "33:\tlearn: 1869.2297319\ttest: 1882.9905950\tbest: 1882.9905950 (33)\ttotal: 1.28s\tremaining: 604ms\n",
      "34:\tlearn: 1865.4907710\ttest: 1879.3059415\tbest: 1879.3059415 (34)\ttotal: 1.32s\tremaining: 565ms\n",
      "35:\tlearn: 1861.8881330\ttest: 1876.4917467\tbest: 1876.4917467 (35)\ttotal: 1.36s\tremaining: 528ms\n",
      "36:\tlearn: 1859.6293467\ttest: 1875.0736065\tbest: 1875.0736065 (36)\ttotal: 1.39s\tremaining: 489ms\n",
      "37:\tlearn: 1855.1267747\ttest: 1870.8613337\tbest: 1870.8613337 (37)\ttotal: 1.43s\tremaining: 451ms\n",
      "38:\tlearn: 1851.8556975\ttest: 1867.8339570\tbest: 1867.8339570 (38)\ttotal: 1.46s\tremaining: 413ms\n",
      "39:\tlearn: 1849.3481214\ttest: 1865.9069091\tbest: 1865.9069091 (39)\ttotal: 1.5s\tremaining: 375ms\n",
      "40:\tlearn: 1846.2709299\ttest: 1863.5014250\tbest: 1863.5014250 (40)\ttotal: 1.53s\tremaining: 336ms\n",
      "41:\tlearn: 1843.0013593\ttest: 1862.1414234\tbest: 1862.1414234 (41)\ttotal: 1.57s\tremaining: 299ms\n",
      "42:\tlearn: 1840.6246872\ttest: 1859.8987249\tbest: 1859.8987249 (42)\ttotal: 1.61s\tremaining: 262ms\n",
      "43:\tlearn: 1838.5494441\ttest: 1857.9362072\tbest: 1857.9362072 (43)\ttotal: 1.64s\tremaining: 224ms\n",
      "44:\tlearn: 1836.5979335\ttest: 1856.6751594\tbest: 1856.6751594 (44)\ttotal: 1.69s\tremaining: 187ms\n",
      "45:\tlearn: 1833.1931621\ttest: 1852.7420121\tbest: 1852.7420121 (45)\ttotal: 1.72s\tremaining: 150ms\n",
      "46:\tlearn: 1830.5137649\ttest: 1850.8766377\tbest: 1850.8766377 (46)\ttotal: 1.76s\tremaining: 112ms\n",
      "47:\tlearn: 1824.8472630\ttest: 1846.6330373\tbest: 1846.6330373 (47)\ttotal: 1.8s\tremaining: 74.8ms\n",
      "48:\tlearn: 1821.2842242\ttest: 1843.3242686\tbest: 1843.3242686 (48)\ttotal: 1.83s\tremaining: 37.4ms\n",
      "49:\tlearn: 1819.2532366\ttest: 1841.7686802\tbest: 1841.7686802 (49)\ttotal: 1.87s\tremaining: 0us\n",
      "\n",
      "bestTest = 1841.76868\n",
      "bestIteration = 49\n",
      "\n",
      "5:\tloss: 1841.7686802\tbest: 1830.3006169 (3)\ttotal: 11.8s\tremaining: 11.8s\n",
      "0:\tlearn: 6182.6842187\ttest: 6175.8360055\tbest: 6175.8360055 (0)\ttotal: 85.7ms\tremaining: 4.2s\n",
      "1:\tlearn: 5930.1751633\ttest: 5923.4867822\tbest: 5923.4867822 (1)\ttotal: 179ms\tremaining: 4.3s\n",
      "2:\tlearn: 5693.4849657\ttest: 5686.6039011\tbest: 5686.6039011 (2)\ttotal: 267ms\tremaining: 4.19s\n",
      "3:\tlearn: 5470.4708574\ttest: 5464.0554194\tbest: 5464.0554194 (3)\ttotal: 351ms\tremaining: 4.03s\n",
      "4:\tlearn: 5258.5420394\ttest: 5251.7262161\tbest: 5251.7262161 (4)\ttotal: 434ms\tremaining: 3.91s\n",
      "5:\tlearn: 5060.0433390\ttest: 5053.6207261\tbest: 5053.6207261 (5)\ttotal: 516ms\tremaining: 3.79s\n",
      "6:\tlearn: 4869.8473088\ttest: 4863.7668562\tbest: 4863.7668562 (6)\ttotal: 598ms\tremaining: 3.68s\n",
      "7:\tlearn: 4693.0185342\ttest: 4686.9235873\tbest: 4686.9235873 (7)\ttotal: 686ms\tremaining: 3.6s\n",
      "8:\tlearn: 4526.0059763\ttest: 4520.3277164\tbest: 4520.3277164 (8)\ttotal: 771ms\tremaining: 3.51s\n",
      "9:\tlearn: 4367.6031008\ttest: 4362.4972939\tbest: 4362.4972939 (9)\ttotal: 858ms\tremaining: 3.43s\n",
      "10:\tlearn: 4220.0409943\ttest: 4215.0185569\tbest: 4215.0185569 (10)\ttotal: 946ms\tremaining: 3.35s\n",
      "11:\tlearn: 4082.9962405\ttest: 4077.7419419\tbest: 4077.7419419 (11)\ttotal: 1.03s\tremaining: 3.26s\n",
      "12:\tlearn: 3949.0539000\ttest: 3944.0333605\tbest: 3944.0333605 (12)\ttotal: 1.12s\tremaining: 3.18s\n",
      "13:\tlearn: 3823.9957207\ttest: 3819.7635059\tbest: 3819.7635059 (13)\ttotal: 1.2s\tremaining: 3.09s\n",
      "14:\tlearn: 3705.6116507\ttest: 3701.9336628\tbest: 3701.9336628 (14)\ttotal: 1.28s\tremaining: 3s\n",
      "15:\tlearn: 3594.0952693\ttest: 3591.1804183\tbest: 3591.1804183 (15)\ttotal: 1.37s\tremaining: 2.9s\n",
      "16:\tlearn: 3489.4559774\ttest: 3487.1878393\tbest: 3487.1878393 (16)\ttotal: 1.45s\tremaining: 2.82s\n",
      "17:\tlearn: 3392.6630593\ttest: 3391.0252332\tbest: 3391.0252332 (17)\ttotal: 1.53s\tremaining: 2.73s\n",
      "18:\tlearn: 3302.9230298\ttest: 3301.6827011\tbest: 3301.6827011 (18)\ttotal: 1.61s\tremaining: 2.63s\n",
      "19:\tlearn: 3220.4523283\ttest: 3219.5832658\tbest: 3219.5832658 (19)\ttotal: 1.7s\tremaining: 2.55s\n",
      "20:\tlearn: 3143.8984329\ttest: 3143.2007176\tbest: 3143.2007176 (20)\ttotal: 1.78s\tremaining: 2.46s\n",
      "21:\tlearn: 3069.4652293\ttest: 3069.3999597\tbest: 3069.3999597 (21)\ttotal: 1.86s\tremaining: 2.37s\n",
      "22:\tlearn: 2997.8826167\ttest: 2998.0069420\tbest: 2998.0069420 (22)\ttotal: 1.95s\tremaining: 2.29s\n",
      "23:\tlearn: 2932.4184356\ttest: 2933.2568200\tbest: 2933.2568200 (23)\ttotal: 2.04s\tremaining: 2.21s\n",
      "24:\tlearn: 2871.8287946\ttest: 2873.3477442\tbest: 2873.3477442 (24)\ttotal: 2.12s\tremaining: 2.12s\n",
      "25:\tlearn: 2814.8212879\ttest: 2816.1969998\tbest: 2816.1969998 (25)\ttotal: 2.21s\tremaining: 2.04s\n",
      "26:\tlearn: 2762.4552341\ttest: 2763.8411724\tbest: 2763.8411724 (26)\ttotal: 2.29s\tremaining: 1.96s\n",
      "27:\tlearn: 2704.6189343\ttest: 2706.9327144\tbest: 2706.9327144 (27)\ttotal: 2.38s\tremaining: 1.87s\n",
      "28:\tlearn: 2650.0959644\ttest: 2653.1721375\tbest: 2653.1721375 (28)\ttotal: 2.47s\tremaining: 1.79s\n",
      "29:\tlearn: 2599.4700055\ttest: 2603.0915848\tbest: 2603.0915848 (29)\ttotal: 2.56s\tremaining: 1.7s\n",
      "30:\tlearn: 2552.3859034\ttest: 2556.6864938\tbest: 2556.6864938 (30)\ttotal: 2.64s\tremaining: 1.62s\n",
      "31:\tlearn: 2508.8029672\ttest: 2513.4455410\tbest: 2513.4455410 (31)\ttotal: 2.73s\tremaining: 1.53s\n",
      "32:\tlearn: 2468.5994481\ttest: 2473.9191988\tbest: 2473.9191988 (32)\ttotal: 2.81s\tremaining: 1.45s\n",
      "33:\tlearn: 2430.5785175\ttest: 2436.6923839\tbest: 2436.6923839 (33)\ttotal: 2.89s\tremaining: 1.36s\n",
      "34:\tlearn: 2395.8064816\ttest: 2402.4693775\tbest: 2402.4693775 (34)\ttotal: 2.98s\tremaining: 1.27s\n",
      "35:\tlearn: 2363.4933138\ttest: 2370.8434863\tbest: 2370.8434863 (35)\ttotal: 3.06s\tremaining: 1.19s\n",
      "36:\tlearn: 2334.3720975\ttest: 2342.0671315\tbest: 2342.0671315 (36)\ttotal: 3.14s\tremaining: 1.1s\n",
      "37:\tlearn: 2306.8836089\ttest: 2315.1130659\tbest: 2315.1130659 (37)\ttotal: 3.22s\tremaining: 1.02s\n",
      "38:\tlearn: 2281.6365798\ttest: 2290.4237826\tbest: 2290.4237826 (38)\ttotal: 3.31s\tremaining: 933ms\n",
      "39:\tlearn: 2258.6850983\ttest: 2267.9840906\tbest: 2267.9840906 (39)\ttotal: 3.39s\tremaining: 848ms\n",
      "40:\tlearn: 2236.1372174\ttest: 2246.1654431\tbest: 2246.1654431 (40)\ttotal: 3.48s\tremaining: 763ms\n",
      "41:\tlearn: 2211.0386624\ttest: 2221.0303370\tbest: 2221.0303370 (41)\ttotal: 3.55s\tremaining: 677ms\n",
      "42:\tlearn: 2188.3101351\ttest: 2198.1743619\tbest: 2198.1743619 (42)\ttotal: 3.63s\tremaining: 592ms\n",
      "43:\tlearn: 2166.8657823\ttest: 2176.9676891\tbest: 2176.9676891 (43)\ttotal: 3.72s\tremaining: 507ms\n",
      "44:\tlearn: 2147.8761161\ttest: 2158.0360477\tbest: 2158.0360477 (44)\ttotal: 3.8s\tremaining: 423ms\n",
      "45:\tlearn: 2129.8092477\ttest: 2139.9984399\tbest: 2139.9984399 (45)\ttotal: 3.89s\tremaining: 338ms\n",
      "46:\tlearn: 2112.2293453\ttest: 2122.8013711\tbest: 2122.8013711 (46)\ttotal: 3.97s\tremaining: 254ms\n",
      "47:\tlearn: 2096.4888575\ttest: 2107.1845509\tbest: 2107.1845509 (47)\ttotal: 4.05s\tremaining: 169ms\n",
      "48:\tlearn: 2081.8864846\ttest: 2092.7776213\tbest: 2092.7776213 (48)\ttotal: 4.13s\tremaining: 84.3ms\n",
      "49:\tlearn: 2068.4018878\ttest: 2079.6183099\tbest: 2079.6183099 (49)\ttotal: 4.22s\tremaining: 0us\n",
      "\n",
      "bestTest = 2079.61831\n",
      "bestIteration = 49\n",
      "\n",
      "6:\tloss: 2079.6183099\tbest: 1830.3006169 (3)\ttotal: 16s\tremaining: 11.4s\n",
      "0:\tlearn: 3987.3689530\ttest: 3980.0759930\tbest: 3980.0759930 (0)\ttotal: 90.9ms\tremaining: 4.46s\n",
      "1:\tlearn: 2865.0251838\ttest: 2865.1433672\tbest: 2865.1433672 (1)\ttotal: 183ms\tremaining: 4.38s\n",
      "2:\tlearn: 2416.3462930\ttest: 2424.3800636\tbest: 2424.3800636 (2)\ttotal: 276ms\tremaining: 4.33s\n",
      "3:\tlearn: 2164.8735248\ttest: 2179.1615280\tbest: 2179.1615280 (3)\ttotal: 362ms\tremaining: 4.17s\n",
      "4:\tlearn: 2035.9006208\ttest: 2048.5294751\tbest: 2048.5294751 (4)\ttotal: 443ms\tremaining: 3.99s\n",
      "5:\tlearn: 1968.8588545\ttest: 1986.5214094\tbest: 1986.5214094 (5)\ttotal: 532ms\tremaining: 3.9s\n",
      "6:\tlearn: 1905.9392725\ttest: 1932.4436690\tbest: 1932.4436690 (6)\ttotal: 612ms\tremaining: 3.76s\n",
      "7:\tlearn: 1879.1991976\ttest: 1908.1277423\tbest: 1908.1277423 (7)\ttotal: 696ms\tremaining: 3.65s\n",
      "8:\tlearn: 1857.3342566\ttest: 1888.3683950\tbest: 1888.3683950 (8)\ttotal: 784ms\tremaining: 3.57s\n",
      "9:\tlearn: 1839.2394747\ttest: 1873.3504319\tbest: 1873.3504319 (9)\ttotal: 867ms\tremaining: 3.47s\n",
      "10:\tlearn: 1821.7239015\ttest: 1861.0815887\tbest: 1861.0815887 (10)\ttotal: 950ms\tremaining: 3.37s\n",
      "11:\tlearn: 1806.8001635\ttest: 1850.7054009\tbest: 1850.7054009 (11)\ttotal: 1.03s\tremaining: 3.26s\n",
      "12:\tlearn: 1798.1502410\ttest: 1844.5652269\tbest: 1844.5652269 (12)\ttotal: 1.11s\tremaining: 3.16s\n",
      "13:\tlearn: 1785.3249682\ttest: 1833.8195342\tbest: 1833.8195342 (13)\ttotal: 1.2s\tremaining: 3.07s\n",
      "14:\tlearn: 1775.3516809\ttest: 1827.1648051\tbest: 1827.1648051 (14)\ttotal: 1.28s\tremaining: 2.98s\n",
      "15:\tlearn: 1763.6749724\ttest: 1817.8968822\tbest: 1817.8968822 (15)\ttotal: 1.36s\tremaining: 2.89s\n",
      "16:\tlearn: 1755.8980690\ttest: 1812.9305675\tbest: 1812.9305675 (16)\ttotal: 1.44s\tremaining: 2.8s\n",
      "17:\tlearn: 1746.3493832\ttest: 1805.4267962\tbest: 1805.4267962 (17)\ttotal: 1.53s\tremaining: 2.72s\n",
      "18:\tlearn: 1739.0639332\ttest: 1799.7579820\tbest: 1799.7579820 (18)\ttotal: 1.61s\tremaining: 2.63s\n",
      "19:\tlearn: 1732.1257681\ttest: 1796.5093303\tbest: 1796.5093303 (19)\ttotal: 1.71s\tremaining: 2.56s\n",
      "20:\tlearn: 1711.0835553\ttest: 1779.9304568\tbest: 1779.9304568 (20)\ttotal: 1.8s\tremaining: 2.48s\n",
      "21:\tlearn: 1704.1490119\ttest: 1775.7140433\tbest: 1775.7140433 (21)\ttotal: 1.88s\tremaining: 2.4s\n",
      "22:\tlearn: 1700.4121728\ttest: 1773.2628406\tbest: 1773.2628406 (22)\ttotal: 1.97s\tremaining: 2.31s\n",
      "23:\tlearn: 1692.6808310\ttest: 1768.8888163\tbest: 1768.8888163 (23)\ttotal: 2.05s\tremaining: 2.22s\n",
      "24:\tlearn: 1684.6276711\ttest: 1764.5466765\tbest: 1764.5466765 (24)\ttotal: 2.14s\tremaining: 2.14s\n",
      "25:\tlearn: 1676.5947151\ttest: 1760.5389232\tbest: 1760.5389232 (25)\ttotal: 2.22s\tremaining: 2.05s\n",
      "26:\tlearn: 1668.3123877\ttest: 1754.0551369\tbest: 1754.0551369 (26)\ttotal: 2.31s\tremaining: 1.97s\n",
      "27:\tlearn: 1661.2777194\ttest: 1751.4317458\tbest: 1751.4317458 (27)\ttotal: 2.39s\tremaining: 1.88s\n",
      "28:\tlearn: 1652.4539223\ttest: 1744.3650321\tbest: 1744.3650321 (28)\ttotal: 2.48s\tremaining: 1.79s\n",
      "29:\tlearn: 1644.7432290\ttest: 1739.5692491\tbest: 1739.5692491 (29)\ttotal: 2.56s\tremaining: 1.71s\n",
      "30:\tlearn: 1641.2166790\ttest: 1736.9435689\tbest: 1736.9435689 (30)\ttotal: 2.64s\tremaining: 1.62s\n",
      "31:\tlearn: 1636.7480552\ttest: 1734.3078554\tbest: 1734.3078554 (31)\ttotal: 2.73s\tremaining: 1.53s\n",
      "32:\tlearn: 1631.2221994\ttest: 1732.3588119\tbest: 1732.3588119 (32)\ttotal: 2.81s\tremaining: 1.45s\n",
      "33:\tlearn: 1627.6417680\ttest: 1731.1260564\tbest: 1731.1260564 (33)\ttotal: 2.89s\tremaining: 1.36s\n",
      "34:\tlearn: 1620.4100303\ttest: 1726.0139577\tbest: 1726.0139577 (34)\ttotal: 2.97s\tremaining: 1.27s\n",
      "35:\tlearn: 1615.4935841\ttest: 1723.9444631\tbest: 1723.9444631 (35)\ttotal: 3.05s\tremaining: 1.19s\n",
      "36:\tlearn: 1610.9787958\ttest: 1720.9566393\tbest: 1720.9566393 (36)\ttotal: 3.13s\tremaining: 1.1s\n",
      "37:\tlearn: 1607.3975420\ttest: 1717.8712848\tbest: 1717.8712848 (37)\ttotal: 3.22s\tremaining: 1.02s\n",
      "38:\tlearn: 1604.0675045\ttest: 1716.8082269\tbest: 1716.8082269 (38)\ttotal: 3.3s\tremaining: 931ms\n",
      "39:\tlearn: 1599.3895606\ttest: 1714.2318083\tbest: 1714.2318083 (39)\ttotal: 3.38s\tremaining: 845ms\n",
      "40:\tlearn: 1595.7835004\ttest: 1713.2737281\tbest: 1713.2737281 (40)\ttotal: 3.46s\tremaining: 760ms\n",
      "41:\tlearn: 1591.6944084\ttest: 1711.0724408\tbest: 1711.0724408 (41)\ttotal: 3.55s\tremaining: 676ms\n",
      "42:\tlearn: 1588.2751067\ttest: 1710.4918046\tbest: 1710.4918046 (42)\ttotal: 3.63s\tremaining: 591ms\n",
      "43:\tlearn: 1583.5557811\ttest: 1709.0628250\tbest: 1709.0628250 (43)\ttotal: 3.72s\tremaining: 507ms\n",
      "44:\tlearn: 1579.0732848\ttest: 1705.9862236\tbest: 1705.9862236 (44)\ttotal: 3.8s\tremaining: 422ms\n",
      "45:\tlearn: 1576.0803940\ttest: 1705.3205095\tbest: 1705.3205095 (45)\ttotal: 3.88s\tremaining: 337ms\n",
      "46:\tlearn: 1573.3884065\ttest: 1703.2952694\tbest: 1703.2952694 (46)\ttotal: 3.96s\tremaining: 253ms\n",
      "47:\tlearn: 1570.7710427\ttest: 1701.9105837\tbest: 1701.9105837 (47)\ttotal: 4.05s\tremaining: 169ms\n",
      "48:\tlearn: 1567.4194461\ttest: 1700.6100593\tbest: 1700.6100593 (48)\ttotal: 4.13s\tremaining: 84.2ms\n",
      "49:\tlearn: 1565.7403459\ttest: 1700.6718565\tbest: 1700.6100593 (48)\ttotal: 4.21s\tremaining: 0us\n",
      "\n",
      "bestTest = 1700.610059\n",
      "bestIteration = 48\n",
      "\n",
      "7:\tloss: 1700.6100593\tbest: 1700.6100593 (7)\ttotal: 20.3s\tremaining: 10.1s\n",
      "0:\tlearn: 6184.3148695\ttest: 6177.4790850\tbest: 6177.4790850 (0)\ttotal: 86.4ms\tremaining: 4.23s\n",
      "1:\tlearn: 5933.8664912\ttest: 5927.3976411\tbest: 5927.3976411 (1)\ttotal: 177ms\tremaining: 4.24s\n",
      "2:\tlearn: 5695.4892453\ttest: 5688.9335843\tbest: 5688.9335843 (2)\ttotal: 265ms\tremaining: 4.15s\n",
      "3:\tlearn: 5473.7138261\ttest: 5467.6214683\tbest: 5467.6214683 (3)\ttotal: 348ms\tremaining: 4s\n",
      "4:\tlearn: 5263.8108395\ttest: 5257.3685861\tbest: 5257.3685861 (4)\ttotal: 431ms\tremaining: 3.88s\n",
      "5:\tlearn: 5063.9852232\ttest: 5057.7854836\tbest: 5057.7854836 (5)\ttotal: 511ms\tremaining: 3.75s\n",
      "6:\tlearn: 4874.6037856\ttest: 4868.5562747\tbest: 4868.5562747 (6)\ttotal: 590ms\tremaining: 3.62s\n",
      "7:\tlearn: 4697.1269311\ttest: 4691.0381587\tbest: 4691.0381587 (7)\ttotal: 673ms\tremaining: 3.54s\n",
      "8:\tlearn: 4530.4796713\ttest: 4524.8081165\tbest: 4524.8081165 (8)\ttotal: 754ms\tremaining: 3.43s\n",
      "9:\tlearn: 4372.9083195\ttest: 4367.8775616\tbest: 4367.8775616 (9)\ttotal: 833ms\tremaining: 3.33s\n",
      "10:\tlearn: 4225.5629686\ttest: 4220.6407650\tbest: 4220.6407650 (10)\ttotal: 914ms\tremaining: 3.24s\n",
      "11:\tlearn: 4088.7916104\ttest: 4083.6972301\tbest: 4083.6972301 (11)\ttotal: 994ms\tremaining: 3.15s\n",
      "12:\tlearn: 3955.1983905\ttest: 3950.3349770\tbest: 3950.3349770 (12)\ttotal: 1.08s\tremaining: 3.08s\n",
      "13:\tlearn: 3833.7920504\ttest: 3829.1508812\tbest: 3829.1508812 (13)\ttotal: 1.16s\tremaining: 3s\n",
      "14:\tlearn: 3714.0359436\ttest: 3710.1693800\tbest: 3710.1693800 (14)\ttotal: 1.25s\tremaining: 2.91s\n",
      "15:\tlearn: 3603.5653428\ttest: 3600.6089081\tbest: 3600.6089081 (15)\ttotal: 1.33s\tremaining: 2.82s\n",
      "16:\tlearn: 3498.8440470\ttest: 3496.5344092\tbest: 3496.5344092 (16)\ttotal: 1.41s\tremaining: 2.74s\n",
      "17:\tlearn: 3402.5880265\ttest: 3400.7653433\tbest: 3400.7653433 (17)\ttotal: 1.49s\tremaining: 2.66s\n",
      "18:\tlearn: 3312.7606801\ttest: 3311.3464550\tbest: 3311.3464550 (18)\ttotal: 1.57s\tremaining: 2.57s\n",
      "19:\tlearn: 3228.8110504\ttest: 3227.7929487\tbest: 3227.7929487 (19)\ttotal: 1.66s\tremaining: 2.48s\n",
      "20:\tlearn: 3151.2025784\ttest: 3150.9943181\tbest: 3150.9943181 (20)\ttotal: 1.74s\tremaining: 2.4s\n",
      "21:\tlearn: 3077.3730583\ttest: 3077.3126606\tbest: 3077.3126606 (21)\ttotal: 1.82s\tremaining: 2.32s\n",
      "22:\tlearn: 3007.3488191\ttest: 3007.8102475\tbest: 3007.8102475 (22)\ttotal: 1.9s\tremaining: 2.23s\n",
      "23:\tlearn: 2941.9597584\ttest: 2943.1679669\tbest: 2943.1679669 (23)\ttotal: 1.99s\tremaining: 2.15s\n",
      "24:\tlearn: 2880.3381877\ttest: 2881.9635263\tbest: 2881.9635263 (24)\ttotal: 2.07s\tremaining: 2.07s\n",
      "25:\tlearn: 2824.0359057\ttest: 2825.9769284\tbest: 2825.9769284 (25)\ttotal: 2.15s\tremaining: 1.99s\n",
      "26:\tlearn: 2771.6679537\ttest: 2773.5670021\tbest: 2773.5670021 (26)\ttotal: 2.23s\tremaining: 1.9s\n",
      "27:\tlearn: 2713.3595377\ttest: 2715.6143233\tbest: 2715.6143233 (27)\ttotal: 2.32s\tremaining: 1.82s\n",
      "28:\tlearn: 2660.3679490\ttest: 2663.2707087\tbest: 2663.2707087 (28)\ttotal: 2.4s\tremaining: 1.74s\n",
      "29:\tlearn: 2609.4595058\ttest: 2612.8394455\tbest: 2612.8394455 (29)\ttotal: 2.49s\tremaining: 1.66s\n",
      "30:\tlearn: 2561.9716253\ttest: 2565.8297006\tbest: 2565.8297006 (30)\ttotal: 2.57s\tremaining: 1.58s\n",
      "31:\tlearn: 2518.4841873\ttest: 2522.6988397\tbest: 2522.6988397 (31)\ttotal: 2.65s\tremaining: 1.49s\n",
      "32:\tlearn: 2477.6641058\ttest: 2482.3722480\tbest: 2482.3722480 (32)\ttotal: 2.74s\tremaining: 1.41s\n",
      "33:\tlearn: 2441.7209330\ttest: 2446.8789724\tbest: 2446.8789724 (33)\ttotal: 2.82s\tremaining: 1.33s\n",
      "34:\tlearn: 2408.5367958\ttest: 2414.2063174\tbest: 2414.2063174 (34)\ttotal: 2.91s\tremaining: 1.25s\n",
      "35:\tlearn: 2376.3120550\ttest: 2382.4137727\tbest: 2382.4137727 (35)\ttotal: 3s\tremaining: 1.17s\n",
      "36:\tlearn: 2345.4282324\ttest: 2351.9500889\tbest: 2351.9500889 (36)\ttotal: 3.09s\tremaining: 1.08s\n",
      "37:\tlearn: 2316.9882962\ttest: 2323.9506326\tbest: 2323.9506326 (37)\ttotal: 3.18s\tremaining: 1s\n",
      "38:\tlearn: 2291.2756462\ttest: 2299.0160734\tbest: 2299.0160734 (38)\ttotal: 3.27s\tremaining: 921ms\n",
      "39:\tlearn: 2267.3000061\ttest: 2275.4651080\tbest: 2275.4651080 (39)\ttotal: 3.36s\tremaining: 841ms\n",
      "40:\tlearn: 2244.7682178\ttest: 2253.1017583\tbest: 2253.1017583 (40)\ttotal: 3.45s\tremaining: 758ms\n",
      "41:\tlearn: 2224.4841526\ttest: 2233.4003197\tbest: 2233.4003197 (41)\ttotal: 3.54s\tremaining: 674ms\n",
      "42:\tlearn: 2201.4452330\ttest: 2210.5391956\tbest: 2210.5391956 (42)\ttotal: 3.63s\tremaining: 590ms\n",
      "43:\tlearn: 2179.8758434\ttest: 2188.9751764\tbest: 2188.9751764 (43)\ttotal: 3.71s\tremaining: 507ms\n",
      "44:\tlearn: 2159.7559997\ttest: 2168.8810119\tbest: 2168.8810119 (44)\ttotal: 3.8s\tremaining: 422ms\n",
      "45:\tlearn: 2140.3160798\ttest: 2149.6762473\tbest: 2149.6762473 (45)\ttotal: 3.89s\tremaining: 339ms\n",
      "46:\tlearn: 2123.3470727\ttest: 2132.8374617\tbest: 2132.8374617 (46)\ttotal: 4s\tremaining: 255ms\n",
      "47:\tlearn: 2107.5964542\ttest: 2117.2482573\tbest: 2117.2482573 (47)\ttotal: 4.12s\tremaining: 172ms\n",
      "48:\tlearn: 2092.5697235\ttest: 2102.3644200\tbest: 2102.3644200 (48)\ttotal: 4.21s\tremaining: 86ms\n",
      "49:\tlearn: 2078.3652529\ttest: 2088.3767228\tbest: 2088.3767228 (49)\ttotal: 4.3s\tremaining: 0us\n",
      "\n",
      "bestTest = 2088.376723\n",
      "bestIteration = 49\n",
      "\n",
      "8:\tloss: 2088.3767228\tbest: 1700.6100593 (7)\ttotal: 24.6s\tremaining: 8.2s\n",
      "0:\tlearn: 4001.5229243\ttest: 3994.3614485\tbest: 3994.3614485 (0)\ttotal: 85.9ms\tremaining: 4.21s\n",
      "1:\tlearn: 2874.3096900\ttest: 2874.3423761\tbest: 2874.3423761 (1)\ttotal: 176ms\tremaining: 4.22s\n",
      "2:\tlearn: 2429.4962661\ttest: 2438.6967992\tbest: 2438.6967992 (2)\ttotal: 268ms\tremaining: 4.2s\n",
      "3:\tlearn: 2173.4996579\ttest: 2186.0982891\tbest: 2186.0982891 (3)\ttotal: 359ms\tremaining: 4.13s\n",
      "4:\tlearn: 2053.7191227\ttest: 2067.9149961\tbest: 2067.9149961 (4)\ttotal: 453ms\tremaining: 4.08s\n",
      "5:\tlearn: 1997.0088604\ttest: 2011.4197361\tbest: 2011.4197361 (5)\ttotal: 540ms\tremaining: 3.96s\n",
      "6:\tlearn: 1929.6273705\ttest: 1950.5230932\tbest: 1950.5230932 (6)\ttotal: 626ms\tremaining: 3.84s\n",
      "7:\tlearn: 1895.6993833\ttest: 1924.1183546\tbest: 1924.1183546 (7)\ttotal: 721ms\tremaining: 3.78s\n",
      "8:\tlearn: 1873.7169031\ttest: 1903.4946963\tbest: 1903.4946963 (8)\ttotal: 824ms\tremaining: 3.75s\n",
      "9:\tlearn: 1857.2662121\ttest: 1891.6054290\tbest: 1891.6054290 (9)\ttotal: 912ms\tremaining: 3.65s\n",
      "10:\tlearn: 1841.1659750\ttest: 1880.8352261\tbest: 1880.8352261 (10)\ttotal: 996ms\tremaining: 3.53s\n",
      "11:\tlearn: 1824.9767019\ttest: 1866.6649165\tbest: 1866.6649165 (11)\ttotal: 1.08s\tremaining: 3.41s\n",
      "12:\tlearn: 1805.8872754\ttest: 1848.3940236\tbest: 1848.3940236 (12)\ttotal: 1.18s\tremaining: 3.37s\n",
      "13:\tlearn: 1796.6974110\ttest: 1842.1186234\tbest: 1842.1186234 (13)\ttotal: 1.28s\tremaining: 3.31s\n",
      "14:\tlearn: 1787.6628407\ttest: 1834.8022347\tbest: 1834.8022347 (14)\ttotal: 1.37s\tremaining: 3.21s\n",
      "15:\tlearn: 1769.4798037\ttest: 1819.8125782\tbest: 1819.8125782 (15)\ttotal: 1.46s\tremaining: 3.11s\n",
      "16:\tlearn: 1762.9639736\ttest: 1816.9392818\tbest: 1816.9392818 (16)\ttotal: 1.54s\tremaining: 3s\n",
      "17:\tlearn: 1754.7319625\ttest: 1810.1419617\tbest: 1810.1419617 (17)\ttotal: 1.63s\tremaining: 2.89s\n",
      "18:\tlearn: 1748.2678531\ttest: 1804.3463983\tbest: 1804.3463983 (18)\ttotal: 1.7s\tremaining: 2.78s\n",
      "19:\tlearn: 1739.6139076\ttest: 1798.1190424\tbest: 1798.1190424 (19)\ttotal: 1.79s\tremaining: 2.68s\n",
      "20:\tlearn: 1730.9731088\ttest: 1792.9090023\tbest: 1792.9090023 (20)\ttotal: 1.87s\tremaining: 2.58s\n",
      "21:\tlearn: 1724.1096596\ttest: 1787.0707377\tbest: 1787.0707377 (21)\ttotal: 1.94s\tremaining: 2.47s\n",
      "22:\tlearn: 1716.2446605\ttest: 1781.0405129\tbest: 1781.0405129 (22)\ttotal: 2.02s\tremaining: 2.38s\n",
      "23:\tlearn: 1710.0190986\ttest: 1779.6190100\tbest: 1779.6190100 (23)\ttotal: 2.1s\tremaining: 2.28s\n",
      "24:\tlearn: 1708.2908056\ttest: 1779.4399443\tbest: 1779.4399443 (24)\ttotal: 2.18s\tremaining: 2.18s\n",
      "25:\tlearn: 1699.2490570\ttest: 1772.6442183\tbest: 1772.6442183 (25)\ttotal: 2.26s\tremaining: 2.09s\n",
      "26:\tlearn: 1692.4498078\ttest: 1769.0620831\tbest: 1769.0620831 (26)\ttotal: 2.35s\tremaining: 2s\n",
      "27:\tlearn: 1687.5858390\ttest: 1766.6039069\tbest: 1766.6039069 (27)\ttotal: 2.44s\tremaining: 1.92s\n",
      "28:\tlearn: 1680.4826783\ttest: 1759.8106058\tbest: 1759.8106058 (28)\ttotal: 2.52s\tremaining: 1.83s\n",
      "29:\tlearn: 1673.3311399\ttest: 1755.2535810\tbest: 1755.2535810 (29)\ttotal: 2.61s\tremaining: 1.74s\n",
      "30:\tlearn: 1667.5205488\ttest: 1753.8866631\tbest: 1753.8866631 (30)\ttotal: 2.69s\tremaining: 1.65s\n",
      "31:\tlearn: 1661.4886196\ttest: 1751.5107408\tbest: 1751.5107408 (31)\ttotal: 2.77s\tremaining: 1.56s\n",
      "32:\tlearn: 1656.8670943\ttest: 1749.9247951\tbest: 1749.9247951 (32)\ttotal: 2.85s\tremaining: 1.47s\n",
      "33:\tlearn: 1651.7431452\ttest: 1745.9545373\tbest: 1745.9545373 (33)\ttotal: 2.93s\tremaining: 1.38s\n",
      "34:\tlearn: 1649.3356243\ttest: 1744.3311124\tbest: 1744.3311124 (34)\ttotal: 3.01s\tremaining: 1.29s\n",
      "35:\tlearn: 1640.1872985\ttest: 1740.6971074\tbest: 1740.6971074 (35)\ttotal: 3.09s\tremaining: 1.2s\n",
      "36:\tlearn: 1637.3064361\ttest: 1740.1537015\tbest: 1740.1537015 (36)\ttotal: 3.16s\tremaining: 1.11s\n",
      "37:\tlearn: 1629.9552592\ttest: 1735.4353011\tbest: 1735.4353011 (37)\ttotal: 3.25s\tremaining: 1.02s\n",
      "38:\tlearn: 1626.9773064\ttest: 1734.4868319\tbest: 1734.4868319 (38)\ttotal: 3.33s\tremaining: 938ms\n",
      "39:\tlearn: 1617.6963985\ttest: 1725.2097767\tbest: 1725.2097767 (39)\ttotal: 3.41s\tremaining: 852ms\n",
      "40:\tlearn: 1611.5425981\ttest: 1720.6131452\tbest: 1720.6131452 (40)\ttotal: 3.49s\tremaining: 766ms\n",
      "41:\tlearn: 1607.1858325\ttest: 1717.7570884\tbest: 1717.7570884 (41)\ttotal: 3.57s\tremaining: 680ms\n",
      "42:\tlearn: 1603.6602548\ttest: 1716.8957564\tbest: 1716.8957564 (42)\ttotal: 3.66s\tremaining: 595ms\n",
      "43:\tlearn: 1599.9917183\ttest: 1715.5028595\tbest: 1715.5028595 (43)\ttotal: 3.74s\tremaining: 510ms\n",
      "44:\tlearn: 1595.3842725\ttest: 1712.4069220\tbest: 1712.4069220 (44)\ttotal: 3.82s\tremaining: 425ms\n",
      "45:\tlearn: 1592.8689243\ttest: 1711.0932564\tbest: 1711.0932564 (45)\ttotal: 3.9s\tremaining: 339ms\n",
      "46:\tlearn: 1589.9752642\ttest: 1708.3520266\tbest: 1708.3520266 (46)\ttotal: 3.99s\tremaining: 255ms\n",
      "47:\tlearn: 1587.1182231\ttest: 1707.9521014\tbest: 1707.9521014 (47)\ttotal: 4.07s\tremaining: 170ms\n",
      "48:\tlearn: 1584.2609895\ttest: 1708.1831848\tbest: 1707.9521014 (47)\ttotal: 4.15s\tremaining: 84.7ms\n",
      "49:\tlearn: 1580.2886427\ttest: 1706.1526177\tbest: 1706.1526177 (49)\ttotal: 4.23s\tremaining: 0us\n",
      "\n",
      "bestTest = 1706.152618\n",
      "bestIteration = 49\n",
      "\n",
      "9:\tloss: 1706.1526177\tbest: 1700.6100593 (7)\ttotal: 28.9s\tremaining: 5.77s\n",
      "0:\tlearn: 6185.0719499\ttest: 6178.2419956\tbest: 6178.2419956 (0)\ttotal: 86.2ms\tremaining: 4.22s\n",
      "1:\tlearn: 5935.1615268\ttest: 5928.6977857\tbest: 5928.6977857 (1)\ttotal: 174ms\tremaining: 4.18s\n",
      "2:\tlearn: 5697.2756682\ttest: 5690.7348376\tbest: 5690.7348376 (2)\ttotal: 260ms\tremaining: 4.07s\n",
      "3:\tlearn: 5476.1044261\ttest: 5470.0298738\tbest: 5470.0298738 (3)\ttotal: 340ms\tremaining: 3.9s\n",
      "4:\tlearn: 5266.5777457\ttest: 5260.1592281\tbest: 5260.1592281 (4)\ttotal: 419ms\tremaining: 3.77s\n",
      "5:\tlearn: 5066.9563086\ttest: 5060.7837603\tbest: 5060.7837603 (5)\ttotal: 503ms\tremaining: 3.69s\n",
      "6:\tlearn: 4877.6783178\ttest: 4871.6635528\tbest: 4871.6635528 (6)\ttotal: 585ms\tremaining: 3.59s\n",
      "7:\tlearn: 4700.4576610\ttest: 4694.4278764\tbest: 4694.4278764 (7)\ttotal: 666ms\tremaining: 3.5s\n",
      "8:\tlearn: 4533.7985779\ttest: 4528.1912083\tbest: 4528.1912083 (8)\ttotal: 743ms\tremaining: 3.38s\n",
      "9:\tlearn: 4376.4142827\ttest: 4371.4484764\tbest: 4371.4484764 (9)\ttotal: 822ms\tremaining: 3.29s\n",
      "10:\tlearn: 4228.9351237\ttest: 4224.0865489\tbest: 4224.0865489 (10)\ttotal: 904ms\tremaining: 3.21s\n",
      "11:\tlearn: 4092.1947401\ttest: 4087.1743148\tbest: 4087.1743148 (11)\ttotal: 986ms\tremaining: 3.12s\n",
      "12:\tlearn: 3958.6159201\ttest: 3953.8240050\tbest: 3953.8240050 (12)\ttotal: 1.07s\tremaining: 3.04s\n",
      "13:\tlearn: 3837.6961687\ttest: 3833.1355433\tbest: 3833.1355433 (13)\ttotal: 1.15s\tremaining: 2.96s\n",
      "14:\tlearn: 3717.9894280\ttest: 3714.1966915\tbest: 3714.1966915 (14)\ttotal: 1.23s\tremaining: 2.87s\n",
      "15:\tlearn: 3607.4572630\ttest: 3604.5826545\tbest: 3604.5826545 (15)\ttotal: 1.31s\tremaining: 2.8s\n",
      "16:\tlearn: 3502.7273243\ttest: 3500.5015014\tbest: 3500.5015014 (16)\ttotal: 1.4s\tremaining: 2.71s\n",
      "17:\tlearn: 3406.6788562\ttest: 3405.0494621\tbest: 3405.0494621 (17)\ttotal: 1.48s\tremaining: 2.63s\n",
      "18:\tlearn: 3317.0240985\ttest: 3315.7447176\tbest: 3315.7447176 (18)\ttotal: 1.56s\tremaining: 2.54s\n",
      "19:\tlearn: 3232.9311435\ttest: 3232.0412358\tbest: 3232.0412358 (19)\ttotal: 1.64s\tremaining: 2.46s\n",
      "20:\tlearn: 3155.4772481\ttest: 3155.3818610\tbest: 3155.3818610 (20)\ttotal: 1.73s\tremaining: 2.38s\n",
      "21:\tlearn: 3081.5305854\ttest: 3081.5781183\tbest: 3081.5781183 (21)\ttotal: 1.81s\tremaining: 2.3s\n",
      "22:\tlearn: 3011.4966605\ttest: 3012.0565784\tbest: 3012.0565784 (22)\ttotal: 1.89s\tremaining: 2.22s\n",
      "23:\tlearn: 2946.1921163\ttest: 2947.4707303\tbest: 2947.4707303 (23)\ttotal: 1.98s\tremaining: 2.14s\n",
      "24:\tlearn: 2884.5048832\ttest: 2886.1927783\tbest: 2886.1927783 (24)\ttotal: 2.06s\tremaining: 2.06s\n",
      "25:\tlearn: 2828.3473270\ttest: 2830.3320316\tbest: 2830.3320316 (25)\ttotal: 2.15s\tremaining: 1.98s\n",
      "26:\tlearn: 2775.9674902\ttest: 2777.8934182\tbest: 2777.8934182 (26)\ttotal: 2.23s\tremaining: 1.9s\n",
      "27:\tlearn: 2717.7442523\ttest: 2720.0052998\tbest: 2720.0052998 (27)\ttotal: 2.31s\tremaining: 1.82s\n",
      "28:\tlearn: 2664.8263064\ttest: 2667.7320227\tbest: 2667.7320227 (28)\ttotal: 2.4s\tremaining: 1.74s\n",
      "29:\tlearn: 2613.9154314\ttest: 2617.2781868\tbest: 2617.2781868 (29)\ttotal: 2.48s\tremaining: 1.65s\n",
      "30:\tlearn: 2566.5092696\ttest: 2570.3224276\tbest: 2570.3224276 (30)\ttotal: 2.56s\tremaining: 1.57s\n",
      "31:\tlearn: 2522.9334588\ttest: 2527.0874597\tbest: 2527.0874597 (31)\ttotal: 2.64s\tremaining: 1.49s\n",
      "32:\tlearn: 2481.9237208\ttest: 2486.5596776\tbest: 2486.5596776 (32)\ttotal: 2.72s\tremaining: 1.4s\n",
      "33:\tlearn: 2445.0214826\ttest: 2450.1110557\tbest: 2450.1110557 (33)\ttotal: 2.81s\tremaining: 1.32s\n",
      "34:\tlearn: 2411.8630152\ttest: 2417.3449844\tbest: 2417.3449844 (34)\ttotal: 2.89s\tremaining: 1.24s\n",
      "35:\tlearn: 2379.7018992\ttest: 2385.7029435\tbest: 2385.7029435 (35)\ttotal: 2.97s\tremaining: 1.15s\n",
      "36:\tlearn: 2351.2161006\ttest: 2357.4059399\tbest: 2357.4059399 (36)\ttotal: 3.05s\tremaining: 1.07s\n",
      "37:\tlearn: 2323.1323711\ttest: 2329.7554835\tbest: 2329.7554835 (37)\ttotal: 3.13s\tremaining: 988ms\n",
      "38:\tlearn: 2297.5679266\ttest: 2304.7499439\tbest: 2304.7499439 (38)\ttotal: 3.21s\tremaining: 905ms\n",
      "39:\tlearn: 2270.2901847\ttest: 2277.8539926\tbest: 2277.8539926 (39)\ttotal: 3.29s\tremaining: 822ms\n",
      "40:\tlearn: 2245.2182606\ttest: 2252.7785106\tbest: 2252.7785106 (40)\ttotal: 3.37s\tremaining: 741ms\n",
      "41:\tlearn: 2220.6272691\ttest: 2228.0395814\tbest: 2228.0395814 (41)\ttotal: 3.45s\tremaining: 658ms\n",
      "42:\tlearn: 2198.2870564\ttest: 2205.8360246\tbest: 2205.8360246 (42)\ttotal: 3.53s\tremaining: 575ms\n",
      "43:\tlearn: 2177.1521814\ttest: 2184.8433347\tbest: 2184.8433347 (43)\ttotal: 3.62s\tremaining: 493ms\n",
      "44:\tlearn: 2157.2400683\ttest: 2164.9852791\tbest: 2164.9852791 (44)\ttotal: 3.69s\tremaining: 410ms\n",
      "45:\tlearn: 2138.9439774\ttest: 2146.6659639\tbest: 2146.6659639 (45)\ttotal: 3.77s\tremaining: 328ms\n",
      "46:\tlearn: 2122.7992319\ttest: 2130.6175178\tbest: 2130.6175178 (46)\ttotal: 3.85s\tremaining: 246ms\n",
      "47:\tlearn: 2107.0388672\ttest: 2114.9888955\tbest: 2114.9888955 (47)\ttotal: 3.93s\tremaining: 164ms\n",
      "48:\tlearn: 2092.8160053\ttest: 2100.9605061\tbest: 2100.9605061 (48)\ttotal: 4.01s\tremaining: 81.8ms\n",
      "49:\tlearn: 2079.8019650\ttest: 2088.2820706\tbest: 2088.2820706 (49)\ttotal: 4.09s\tremaining: 0us\n",
      "\n",
      "bestTest = 2088.282071\n",
      "bestIteration = 49\n",
      "\n",
      "10:\tloss: 2088.2820706\tbest: 1700.6100593 (7)\ttotal: 33s\tremaining: 3s\n",
      "0:\tlearn: 4008.1607414\ttest: 4001.0768254\tbest: 4001.0768254 (0)\ttotal: 86.8ms\tremaining: 4.25s\n",
      "1:\tlearn: 2878.8406919\ttest: 2878.8638770\tbest: 2878.8638770 (1)\ttotal: 182ms\tremaining: 4.37s\n",
      "2:\tlearn: 2421.9657326\ttest: 2427.1534610\tbest: 2427.1534610 (2)\ttotal: 278ms\tremaining: 4.35s\n",
      "3:\tlearn: 2165.5691892\ttest: 2176.7529707\tbest: 2176.7529707 (3)\ttotal: 364ms\tremaining: 4.19s\n",
      "4:\tlearn: 2034.5369438\ttest: 2046.6195231\tbest: 2046.6195231 (4)\ttotal: 445ms\tremaining: 4.01s\n",
      "5:\tlearn: 1978.6600544\ttest: 1993.5291872\tbest: 1993.5291872 (5)\ttotal: 530ms\tremaining: 3.89s\n",
      "6:\tlearn: 1931.8056246\ttest: 1948.9253019\tbest: 1948.9253019 (6)\ttotal: 615ms\tremaining: 3.78s\n",
      "7:\tlearn: 1894.7080411\ttest: 1916.1434720\tbest: 1916.1434720 (7)\ttotal: 700ms\tremaining: 3.67s\n",
      "8:\tlearn: 1865.6317581\ttest: 1891.0321681\tbest: 1891.0321681 (8)\ttotal: 781ms\tremaining: 3.56s\n",
      "9:\tlearn: 1850.0568608\ttest: 1877.4978256\tbest: 1877.4978256 (9)\ttotal: 862ms\tremaining: 3.45s\n",
      "10:\tlearn: 1827.5909678\ttest: 1856.1329698\tbest: 1856.1329698 (10)\ttotal: 944ms\tremaining: 3.35s\n",
      "11:\tlearn: 1817.3529355\ttest: 1848.6604122\tbest: 1848.6604122 (11)\ttotal: 1.03s\tremaining: 3.25s\n",
      "12:\tlearn: 1803.8318000\ttest: 1838.2554302\tbest: 1838.2554302 (12)\ttotal: 1.1s\tremaining: 3.14s\n",
      "13:\tlearn: 1796.8586574\ttest: 1833.7063245\tbest: 1833.7063245 (13)\ttotal: 1.18s\tremaining: 3.04s\n",
      "14:\tlearn: 1787.3523589\ttest: 1826.4044032\tbest: 1826.4044032 (14)\ttotal: 1.27s\tremaining: 2.97s\n",
      "15:\tlearn: 1777.0783154\ttest: 1818.0296319\tbest: 1818.0296319 (15)\ttotal: 1.38s\tremaining: 2.93s\n",
      "16:\tlearn: 1765.7319365\ttest: 1806.9508848\tbest: 1806.9508848 (16)\ttotal: 1.47s\tremaining: 2.84s\n",
      "17:\tlearn: 1759.5662233\ttest: 1800.8809800\tbest: 1800.8809800 (17)\ttotal: 1.55s\tremaining: 2.76s\n",
      "18:\tlearn: 1752.6834601\ttest: 1796.6716926\tbest: 1796.6716926 (18)\ttotal: 1.63s\tremaining: 2.66s\n",
      "19:\tlearn: 1742.7168968\ttest: 1789.7258975\tbest: 1789.7258975 (19)\ttotal: 1.71s\tremaining: 2.57s\n",
      "20:\tlearn: 1735.8374643\ttest: 1785.5192389\tbest: 1785.5192389 (20)\ttotal: 1.79s\tremaining: 2.47s\n",
      "21:\tlearn: 1727.6651756\ttest: 1779.0141036\tbest: 1779.0141036 (21)\ttotal: 1.87s\tremaining: 2.38s\n",
      "22:\tlearn: 1717.8640772\ttest: 1775.3387628\tbest: 1775.3387628 (22)\ttotal: 1.95s\tremaining: 2.29s\n",
      "23:\tlearn: 1711.7961588\ttest: 1770.1226447\tbest: 1770.1226447 (23)\ttotal: 2.03s\tremaining: 2.19s\n",
      "24:\tlearn: 1702.9761713\ttest: 1764.3653899\tbest: 1764.3653899 (24)\ttotal: 2.1s\tremaining: 2.1s\n",
      "25:\tlearn: 1699.7856542\ttest: 1763.3845571\tbest: 1763.3845571 (25)\ttotal: 2.18s\tremaining: 2.02s\n",
      "26:\tlearn: 1693.9210204\ttest: 1760.7712767\tbest: 1760.7712767 (26)\ttotal: 2.26s\tremaining: 1.93s\n",
      "27:\tlearn: 1688.1938246\ttest: 1758.6449539\tbest: 1758.6449539 (27)\ttotal: 2.34s\tremaining: 1.84s\n",
      "28:\tlearn: 1682.7216571\ttest: 1753.2601401\tbest: 1753.2601401 (28)\ttotal: 2.42s\tremaining: 1.76s\n",
      "29:\tlearn: 1676.7691122\ttest: 1749.3116639\tbest: 1749.3116639 (29)\ttotal: 2.52s\tremaining: 1.68s\n",
      "30:\tlearn: 1672.2196420\ttest: 1746.2796068\tbest: 1746.2796068 (30)\ttotal: 2.6s\tremaining: 1.6s\n",
      "31:\tlearn: 1669.2769705\ttest: 1744.8529527\tbest: 1744.8529527 (31)\ttotal: 2.68s\tremaining: 1.51s\n",
      "32:\tlearn: 1663.1380095\ttest: 1742.1729736\tbest: 1742.1729736 (32)\ttotal: 2.76s\tremaining: 1.42s\n",
      "33:\tlearn: 1659.6237499\ttest: 1739.9474772\tbest: 1739.9474772 (33)\ttotal: 2.84s\tremaining: 1.34s\n",
      "34:\tlearn: 1657.4703361\ttest: 1738.5265646\tbest: 1738.5265646 (34)\ttotal: 2.93s\tremaining: 1.25s\n",
      "35:\tlearn: 1653.5672109\ttest: 1735.8622661\tbest: 1735.8622661 (35)\ttotal: 3s\tremaining: 1.17s\n",
      "36:\tlearn: 1645.7282995\ttest: 1730.5180102\tbest: 1730.5180102 (36)\ttotal: 3.08s\tremaining: 1.08s\n",
      "37:\tlearn: 1640.6517746\ttest: 1729.3491350\tbest: 1729.3491350 (37)\ttotal: 3.16s\tremaining: 999ms\n",
      "38:\tlearn: 1638.3433391\ttest: 1728.7803587\tbest: 1728.7803587 (38)\ttotal: 3.24s\tremaining: 915ms\n",
      "39:\tlearn: 1632.4032096\ttest: 1725.1000324\tbest: 1725.1000324 (39)\ttotal: 3.32s\tremaining: 830ms\n",
      "40:\tlearn: 1628.1913184\ttest: 1722.4191141\tbest: 1722.4191141 (40)\ttotal: 3.4s\tremaining: 746ms\n",
      "41:\tlearn: 1621.7281680\ttest: 1719.2862749\tbest: 1719.2862749 (41)\ttotal: 3.48s\tremaining: 662ms\n",
      "42:\tlearn: 1616.4811500\ttest: 1714.5610637\tbest: 1714.5610637 (42)\ttotal: 3.56s\tremaining: 579ms\n",
      "43:\tlearn: 1613.8518600\ttest: 1712.3007870\tbest: 1712.3007870 (43)\ttotal: 3.63s\tremaining: 496ms\n",
      "44:\tlearn: 1609.3231327\ttest: 1709.9784100\tbest: 1709.9784100 (44)\ttotal: 3.71s\tremaining: 413ms\n",
      "45:\tlearn: 1606.8845196\ttest: 1708.0158508\tbest: 1708.0158508 (45)\ttotal: 3.79s\tremaining: 330ms\n",
      "46:\tlearn: 1602.9276803\ttest: 1707.0278231\tbest: 1707.0278231 (46)\ttotal: 3.88s\tremaining: 247ms\n",
      "47:\tlearn: 1599.9039096\ttest: 1705.0786558\tbest: 1705.0786558 (47)\ttotal: 3.96s\tremaining: 165ms\n",
      "48:\tlearn: 1596.1428625\ttest: 1703.1366748\tbest: 1703.1366748 (48)\ttotal: 4.04s\tremaining: 82.4ms\n",
      "49:\tlearn: 1594.8924816\ttest: 1703.2534556\tbest: 1703.1366748 (48)\ttotal: 4.12s\tremaining: 0us\n",
      "\n",
      "bestTest = 1703.136675\n",
      "bestIteration = 48\n",
      "\n",
      "11:\tloss: 1703.1366748\tbest: 1700.6100593 (7)\ttotal: 37.1s\tremaining: 0us\n",
      "Estimating final quality...\n",
      "Training on fold [0/3]\n",
      "0:\tlearn: 3913.0441221\ttest: 3950.0297141\tbest: 3950.0297141 (0)\ttotal: 73.9ms\tremaining: 3.62s\n",
      "1:\tlearn: 2827.5823524\ttest: 2862.8260746\tbest: 2862.8260746 (1)\ttotal: 155ms\tremaining: 3.73s\n",
      "2:\tlearn: 2385.3521016\ttest: 2426.0573306\tbest: 2426.0573306 (2)\ttotal: 231ms\tremaining: 3.62s\n",
      "3:\tlearn: 2139.5028928\ttest: 2182.6781521\tbest: 2182.6781521 (3)\ttotal: 315ms\tremaining: 3.62s\n",
      "4:\tlearn: 2021.5153687\ttest: 2065.7303905\tbest: 2065.7303905 (4)\ttotal: 390ms\tremaining: 3.51s\n",
      "5:\tlearn: 1958.9599119\ttest: 2002.4220597\tbest: 2002.4220597 (5)\ttotal: 463ms\tremaining: 3.4s\n",
      "6:\tlearn: 1915.0734625\ttest: 1960.8617048\tbest: 1960.8617048 (6)\ttotal: 539ms\tremaining: 3.31s\n",
      "7:\tlearn: 1888.8405497\ttest: 1937.6044887\tbest: 1937.6044887 (7)\ttotal: 612ms\tremaining: 3.21s\n",
      "8:\tlearn: 1860.7598376\ttest: 1912.2916665\tbest: 1912.2916665 (8)\ttotal: 689ms\tremaining: 3.14s\n",
      "9:\tlearn: 1845.6910145\ttest: 1901.1728981\tbest: 1901.1728981 (9)\ttotal: 763ms\tremaining: 3.05s\n",
      "10:\tlearn: 1831.7918054\ttest: 1888.1962568\tbest: 1888.1962568 (10)\ttotal: 841ms\tremaining: 2.98s\n",
      "11:\tlearn: 1804.0746007\ttest: 1864.1730153\tbest: 1864.1730153 (11)\ttotal: 924ms\tremaining: 2.92s\n",
      "12:\tlearn: 1792.2114276\ttest: 1855.3477727\tbest: 1855.3477727 (12)\ttotal: 1s\tremaining: 2.85s\n",
      "13:\tlearn: 1779.2219022\ttest: 1843.3844908\tbest: 1843.3844908 (13)\ttotal: 1.07s\tremaining: 2.76s\n",
      "14:\tlearn: 1762.9434566\ttest: 1829.3615366\tbest: 1829.3615366 (14)\ttotal: 1.15s\tremaining: 2.68s\n",
      "15:\tlearn: 1750.0009539\ttest: 1823.0774416\tbest: 1823.0774416 (15)\ttotal: 1.23s\tremaining: 2.6s\n",
      "16:\tlearn: 1741.4553209\ttest: 1817.3717076\tbest: 1817.3717076 (16)\ttotal: 1.3s\tremaining: 2.52s\n",
      "17:\tlearn: 1735.2647145\ttest: 1814.8418073\tbest: 1814.8418073 (17)\ttotal: 1.37s\tremaining: 2.43s\n",
      "18:\tlearn: 1727.3665763\ttest: 1809.7634543\tbest: 1809.7634543 (18)\ttotal: 1.44s\tremaining: 2.35s\n",
      "19:\tlearn: 1722.8037888\ttest: 1807.4837086\tbest: 1807.4837086 (19)\ttotal: 1.51s\tremaining: 2.27s\n",
      "20:\tlearn: 1716.9156321\ttest: 1802.0366504\tbest: 1802.0366504 (20)\ttotal: 1.58s\tremaining: 2.19s\n",
      "21:\tlearn: 1707.4209598\ttest: 1795.9039261\tbest: 1795.9039261 (21)\ttotal: 1.66s\tremaining: 2.11s\n",
      "22:\tlearn: 1700.1068246\ttest: 1790.8918834\tbest: 1790.8918834 (22)\ttotal: 1.74s\tremaining: 2.04s\n",
      "23:\tlearn: 1694.6039815\ttest: 1787.2070081\tbest: 1787.2070081 (23)\ttotal: 1.8s\tremaining: 1.96s\n",
      "24:\tlearn: 1686.5799125\ttest: 1781.2696276\tbest: 1781.2696276 (24)\ttotal: 1.88s\tremaining: 1.88s\n",
      "25:\tlearn: 1679.0245929\ttest: 1776.5490644\tbest: 1776.5490644 (25)\ttotal: 1.95s\tremaining: 1.8s\n",
      "26:\tlearn: 1670.0104021\ttest: 1770.4624255\tbest: 1770.4624255 (26)\ttotal: 2.02s\tremaining: 1.72s\n",
      "27:\tlearn: 1664.7532809\ttest: 1765.5737287\tbest: 1765.5737287 (27)\ttotal: 2.09s\tremaining: 1.64s\n",
      "28:\tlearn: 1660.2108538\ttest: 1763.6315552\tbest: 1763.6315552 (28)\ttotal: 2.17s\tremaining: 1.57s\n",
      "29:\tlearn: 1654.5091003\ttest: 1759.3074203\tbest: 1759.3074203 (29)\ttotal: 2.24s\tremaining: 1.49s\n",
      "30:\tlearn: 1651.1540769\ttest: 1757.3200356\tbest: 1757.3200356 (30)\ttotal: 2.31s\tremaining: 1.41s\n",
      "31:\tlearn: 1645.4028476\ttest: 1754.7589159\tbest: 1754.7589159 (31)\ttotal: 2.38s\tremaining: 1.34s\n",
      "32:\tlearn: 1639.1550516\ttest: 1750.5696009\tbest: 1750.5696009 (32)\ttotal: 2.45s\tremaining: 1.26s\n",
      "33:\tlearn: 1634.7419243\ttest: 1749.1402834\tbest: 1749.1402834 (33)\ttotal: 2.52s\tremaining: 1.19s\n",
      "34:\tlearn: 1628.9904238\ttest: 1746.3680711\tbest: 1746.3680711 (34)\ttotal: 2.6s\tremaining: 1.11s\n",
      "35:\tlearn: 1622.7633121\ttest: 1743.4837534\tbest: 1743.4837534 (35)\ttotal: 2.67s\tremaining: 1.04s\n",
      "36:\tlearn: 1617.5775715\ttest: 1740.1968276\tbest: 1740.1968276 (36)\ttotal: 2.74s\tremaining: 964ms\n",
      "37:\tlearn: 1614.3659270\ttest: 1739.6090161\tbest: 1739.6090161 (37)\ttotal: 2.82s\tremaining: 889ms\n",
      "38:\tlearn: 1606.1564059\ttest: 1735.6456366\tbest: 1735.6456366 (38)\ttotal: 2.89s\tremaining: 815ms\n",
      "39:\tlearn: 1601.3406563\ttest: 1735.0238400\tbest: 1735.0238400 (39)\ttotal: 2.96s\tremaining: 741ms\n",
      "40:\tlearn: 1596.9201530\ttest: 1731.9974744\tbest: 1731.9974744 (40)\ttotal: 3.04s\tremaining: 667ms\n",
      "41:\tlearn: 1593.0553548\ttest: 1731.3193173\tbest: 1731.3193173 (41)\ttotal: 3.11s\tremaining: 593ms\n",
      "42:\tlearn: 1591.3056998\ttest: 1730.3256322\tbest: 1730.3256322 (42)\ttotal: 3.19s\tremaining: 519ms\n",
      "43:\tlearn: 1586.6378445\ttest: 1728.0852057\tbest: 1728.0852057 (43)\ttotal: 3.26s\tremaining: 444ms\n",
      "44:\tlearn: 1583.2011849\ttest: 1726.2041784\tbest: 1726.2041784 (44)\ttotal: 3.33s\tremaining: 370ms\n",
      "45:\tlearn: 1582.4836819\ttest: 1725.8550924\tbest: 1725.8550924 (45)\ttotal: 3.4s\tremaining: 296ms\n",
      "46:\tlearn: 1579.7196502\ttest: 1724.8796126\tbest: 1724.8796126 (46)\ttotal: 3.48s\tremaining: 222ms\n",
      "47:\tlearn: 1573.8663358\ttest: 1725.2040532\tbest: 1724.8796126 (46)\ttotal: 3.55s\tremaining: 148ms\n",
      "48:\tlearn: 1570.6480339\ttest: 1723.6402476\tbest: 1723.6402476 (48)\ttotal: 3.63s\tremaining: 74ms\n",
      "49:\tlearn: 1566.9832775\ttest: 1722.4799441\tbest: 1722.4799441 (49)\ttotal: 3.7s\tremaining: 0us\n",
      "\n",
      "bestTest = 1722.479944\n",
      "bestIteration = 49\n",
      "\n",
      "Training on fold [1/3]\n",
      "0:\tlearn: 3929.0615547\ttest: 3909.1895860\tbest: 3909.1895860 (0)\ttotal: 74.3ms\tremaining: 3.64s\n",
      "1:\tlearn: 2846.7957740\ttest: 2826.5494017\tbest: 2826.5494017 (1)\ttotal: 155ms\tremaining: 3.71s\n",
      "2:\tlearn: 2405.3594184\ttest: 2389.2421553\tbest: 2389.2421553 (2)\ttotal: 234ms\tremaining: 3.66s\n",
      "3:\tlearn: 2157.3619922\ttest: 2144.9182192\tbest: 2144.9182192 (3)\ttotal: 317ms\tremaining: 3.65s\n",
      "4:\tlearn: 2035.5423614\ttest: 2026.5770649\tbest: 2026.5770649 (4)\ttotal: 387ms\tremaining: 3.48s\n",
      "5:\tlearn: 1986.2596243\ttest: 1979.1106856\tbest: 1979.1106856 (5)\ttotal: 458ms\tremaining: 3.36s\n",
      "6:\tlearn: 1935.4686360\ttest: 1931.5855917\tbest: 1931.5855917 (6)\ttotal: 536ms\tremaining: 3.29s\n",
      "7:\tlearn: 1900.9297859\ttest: 1898.5894163\tbest: 1898.5894163 (7)\ttotal: 607ms\tremaining: 3.19s\n",
      "8:\tlearn: 1877.0433564\ttest: 1877.2477198\tbest: 1877.2477198 (8)\ttotal: 680ms\tremaining: 3.1s\n",
      "9:\tlearn: 1856.5071442\ttest: 1859.2177793\tbest: 1859.2177793 (9)\ttotal: 756ms\tremaining: 3.02s\n",
      "10:\tlearn: 1839.4796030\ttest: 1845.1335725\tbest: 1845.1335725 (10)\ttotal: 826ms\tremaining: 2.93s\n",
      "11:\tlearn: 1819.1781819\ttest: 1830.2312065\tbest: 1830.2312065 (11)\ttotal: 902ms\tremaining: 2.86s\n",
      "12:\tlearn: 1807.1839690\ttest: 1819.6935509\tbest: 1819.6935509 (12)\ttotal: 973ms\tremaining: 2.77s\n",
      "13:\tlearn: 1796.2158335\ttest: 1810.6745825\tbest: 1810.6745825 (13)\ttotal: 1.04s\tremaining: 2.69s\n",
      "14:\tlearn: 1785.4825970\ttest: 1801.6559115\tbest: 1801.6559115 (14)\ttotal: 1.12s\tremaining: 2.61s\n",
      "15:\tlearn: 1773.3399469\ttest: 1793.6716437\tbest: 1793.6716437 (15)\ttotal: 1.19s\tremaining: 2.53s\n",
      "16:\tlearn: 1762.4930335\ttest: 1783.8220810\tbest: 1783.8220810 (16)\ttotal: 1.27s\tremaining: 2.46s\n",
      "17:\tlearn: 1756.1524603\ttest: 1778.9059640\tbest: 1778.9059640 (17)\ttotal: 1.34s\tremaining: 2.39s\n",
      "18:\tlearn: 1744.1532292\ttest: 1768.1592582\tbest: 1768.1592582 (18)\ttotal: 1.42s\tremaining: 2.31s\n",
      "19:\tlearn: 1734.9913896\ttest: 1760.7702461\tbest: 1760.7702461 (19)\ttotal: 1.49s\tremaining: 2.23s\n",
      "20:\tlearn: 1725.1905465\ttest: 1754.2730629\tbest: 1754.2730629 (20)\ttotal: 1.56s\tremaining: 2.16s\n",
      "21:\tlearn: 1719.5819242\ttest: 1750.8955417\tbest: 1750.8955417 (21)\ttotal: 1.64s\tremaining: 2.08s\n",
      "22:\tlearn: 1710.5310435\ttest: 1745.0060633\tbest: 1745.0060633 (22)\ttotal: 1.72s\tremaining: 2.02s\n",
      "23:\tlearn: 1702.7450218\ttest: 1741.1516416\tbest: 1741.1516416 (23)\ttotal: 1.8s\tremaining: 1.95s\n",
      "24:\tlearn: 1694.9949331\ttest: 1735.6784512\tbest: 1735.6784512 (24)\ttotal: 1.88s\tremaining: 1.88s\n",
      "25:\tlearn: 1687.7176466\ttest: 1731.0686980\tbest: 1731.0686980 (25)\ttotal: 1.96s\tremaining: 1.8s\n",
      "26:\tlearn: 1682.2325716\ttest: 1729.7792208\tbest: 1729.7792208 (26)\ttotal: 2.03s\tremaining: 1.73s\n",
      "27:\tlearn: 1676.3010579\ttest: 1726.2835916\tbest: 1726.2835916 (27)\ttotal: 2.11s\tremaining: 1.66s\n",
      "28:\tlearn: 1671.1300173\ttest: 1722.7085024\tbest: 1722.7085024 (28)\ttotal: 2.18s\tremaining: 1.58s\n",
      "29:\tlearn: 1665.1820485\ttest: 1720.0133162\tbest: 1720.0133162 (29)\ttotal: 2.25s\tremaining: 1.5s\n",
      "30:\tlearn: 1659.4794025\ttest: 1718.0463824\tbest: 1718.0463824 (30)\ttotal: 2.33s\tremaining: 1.43s\n",
      "31:\tlearn: 1655.1857956\ttest: 1716.8611456\tbest: 1716.8611456 (31)\ttotal: 2.4s\tremaining: 1.35s\n",
      "32:\tlearn: 1649.5535519\ttest: 1714.4764895\tbest: 1714.4764895 (32)\ttotal: 2.47s\tremaining: 1.27s\n",
      "33:\tlearn: 1636.8389280\ttest: 1707.7425268\tbest: 1707.7425268 (33)\ttotal: 2.55s\tremaining: 1.2s\n",
      "34:\tlearn: 1627.4272607\ttest: 1701.1603953\tbest: 1701.1603953 (34)\ttotal: 2.63s\tremaining: 1.13s\n",
      "35:\tlearn: 1622.6447187\ttest: 1700.3108341\tbest: 1700.3108341 (35)\ttotal: 2.7s\tremaining: 1.05s\n",
      "36:\tlearn: 1616.8275524\ttest: 1698.6858722\tbest: 1698.6858722 (36)\ttotal: 2.77s\tremaining: 974ms\n",
      "37:\tlearn: 1612.1742477\ttest: 1698.1741555\tbest: 1698.1741555 (37)\ttotal: 2.85s\tremaining: 899ms\n",
      "38:\tlearn: 1608.8518112\ttest: 1695.7682482\tbest: 1695.7682482 (38)\ttotal: 2.92s\tremaining: 823ms\n",
      "39:\tlearn: 1604.7088643\ttest: 1692.4707688\tbest: 1692.4707688 (39)\ttotal: 2.99s\tremaining: 748ms\n",
      "40:\tlearn: 1599.9399180\ttest: 1689.7342430\tbest: 1689.7342430 (40)\ttotal: 3.06s\tremaining: 673ms\n",
      "41:\tlearn: 1595.3539415\ttest: 1686.0026208\tbest: 1686.0026208 (41)\ttotal: 3.14s\tremaining: 598ms\n",
      "42:\tlearn: 1589.4497505\ttest: 1683.1124515\tbest: 1683.1124515 (42)\ttotal: 3.21s\tremaining: 523ms\n",
      "43:\tlearn: 1584.8062690\ttest: 1683.6481736\tbest: 1683.1124515 (42)\ttotal: 3.29s\tremaining: 449ms\n",
      "44:\tlearn: 1582.2601023\ttest: 1683.0645604\tbest: 1683.0645604 (44)\ttotal: 3.36s\tremaining: 374ms\n",
      "45:\tlearn: 1578.2400375\ttest: 1682.9568034\tbest: 1682.9568034 (45)\ttotal: 3.44s\tremaining: 299ms\n",
      "46:\tlearn: 1573.1710261\ttest: 1679.6028178\tbest: 1679.6028178 (46)\ttotal: 3.52s\tremaining: 224ms\n",
      "47:\tlearn: 1570.8295797\ttest: 1679.7075115\tbest: 1679.6028178 (46)\ttotal: 3.59s\tremaining: 150ms\n",
      "48:\tlearn: 1566.8371582\ttest: 1677.3957559\tbest: 1677.3957559 (48)\ttotal: 3.67s\tremaining: 74.9ms\n",
      "49:\tlearn: 1563.2608422\ttest: 1676.4890766\tbest: 1676.4890766 (49)\ttotal: 3.74s\tremaining: 0us\n",
      "\n",
      "bestTest = 1676.489077\n",
      "bestIteration = 49\n",
      "\n",
      "Training on fold [2/3]\n",
      "0:\tlearn: 3927.3918629\ttest: 3914.4406419\tbest: 3914.4406419 (0)\ttotal: 96.7ms\tremaining: 4.74s\n",
      "1:\tlearn: 2842.9215442\ttest: 2829.5253527\tbest: 2829.5253527 (1)\ttotal: 178ms\tremaining: 4.27s\n",
      "2:\tlearn: 2399.7754135\ttest: 2392.8508798\tbest: 2392.8508798 (2)\ttotal: 256ms\tremaining: 4s\n",
      "3:\tlearn: 2146.7994649\ttest: 2145.7304587\tbest: 2145.7304587 (3)\ttotal: 344ms\tremaining: 3.96s\n",
      "4:\tlearn: 2019.1410928\ttest: 2021.2707083\tbest: 2021.2707083 (4)\ttotal: 418ms\tremaining: 3.76s\n",
      "5:\tlearn: 1962.5963647\ttest: 1968.0773096\tbest: 1968.0773096 (5)\ttotal: 490ms\tremaining: 3.59s\n",
      "6:\tlearn: 1912.9832497\ttest: 1925.6020433\tbest: 1925.6020433 (6)\ttotal: 568ms\tremaining: 3.49s\n",
      "7:\tlearn: 1891.2940203\ttest: 1907.4188580\tbest: 1907.4188580 (7)\ttotal: 643ms\tremaining: 3.38s\n",
      "8:\tlearn: 1867.6177740\ttest: 1888.2494737\tbest: 1888.2494737 (8)\ttotal: 716ms\tremaining: 3.26s\n",
      "9:\tlearn: 1846.8872897\ttest: 1869.5147780\tbest: 1869.5147780 (9)\ttotal: 792ms\tremaining: 3.17s\n",
      "10:\tlearn: 1828.9812614\ttest: 1857.6321604\tbest: 1857.6321604 (10)\ttotal: 866ms\tremaining: 3.07s\n",
      "11:\tlearn: 1809.8877003\ttest: 1842.1647673\tbest: 1842.1647673 (11)\ttotal: 939ms\tremaining: 2.97s\n",
      "12:\tlearn: 1797.9041701\ttest: 1833.9630006\tbest: 1833.9630006 (12)\ttotal: 1.01s\tremaining: 2.89s\n",
      "13:\tlearn: 1786.1046142\ttest: 1826.2251287\tbest: 1826.2251287 (13)\ttotal: 1.09s\tremaining: 2.8s\n",
      "14:\tlearn: 1769.3328929\ttest: 1816.5437723\tbest: 1816.5437723 (14)\ttotal: 1.16s\tremaining: 2.71s\n",
      "15:\tlearn: 1757.8869510\ttest: 1810.3222524\tbest: 1810.3222524 (15)\ttotal: 1.24s\tremaining: 2.63s\n",
      "16:\tlearn: 1745.6373350\ttest: 1803.9925665\tbest: 1803.9925665 (16)\ttotal: 1.31s\tremaining: 2.55s\n",
      "17:\tlearn: 1733.4335911\ttest: 1795.5225561\tbest: 1795.5225561 (17)\ttotal: 1.39s\tremaining: 2.46s\n",
      "18:\tlearn: 1725.0216936\ttest: 1787.7076581\tbest: 1787.7076581 (18)\ttotal: 1.46s\tremaining: 2.39s\n",
      "19:\tlearn: 1715.9799181\ttest: 1781.7180910\tbest: 1781.7180910 (19)\ttotal: 1.54s\tremaining: 2.31s\n",
      "20:\tlearn: 1709.2822620\ttest: 1779.1528893\tbest: 1779.1528893 (20)\ttotal: 1.61s\tremaining: 2.23s\n",
      "21:\tlearn: 1700.8079008\ttest: 1772.0950167\tbest: 1772.0950167 (21)\ttotal: 1.69s\tremaining: 2.15s\n",
      "22:\tlearn: 1691.5089583\ttest: 1765.0014867\tbest: 1765.0014867 (22)\ttotal: 1.76s\tremaining: 2.06s\n",
      "23:\tlearn: 1683.7406890\ttest: 1760.4493908\tbest: 1760.4493908 (23)\ttotal: 1.83s\tremaining: 1.99s\n",
      "24:\tlearn: 1676.4403234\ttest: 1755.8072087\tbest: 1755.8072087 (24)\ttotal: 1.91s\tremaining: 1.91s\n",
      "25:\tlearn: 1671.2266064\ttest: 1754.2175719\tbest: 1754.2175719 (25)\ttotal: 1.98s\tremaining: 1.83s\n",
      "26:\tlearn: 1667.9493836\ttest: 1751.9246243\tbest: 1751.9246243 (26)\ttotal: 2.05s\tremaining: 1.75s\n",
      "27:\tlearn: 1663.5851854\ttest: 1749.9280553\tbest: 1749.9280553 (27)\ttotal: 2.13s\tremaining: 1.67s\n",
      "28:\tlearn: 1658.5494303\ttest: 1746.0733041\tbest: 1746.0733041 (28)\ttotal: 2.21s\tremaining: 1.6s\n",
      "29:\tlearn: 1655.3613527\ttest: 1744.9782078\tbest: 1744.9782078 (29)\ttotal: 2.28s\tremaining: 1.52s\n",
      "30:\tlearn: 1649.3594979\ttest: 1740.5829432\tbest: 1740.5829432 (30)\ttotal: 2.35s\tremaining: 1.44s\n",
      "31:\tlearn: 1641.6853028\ttest: 1736.6863385\tbest: 1736.6863385 (31)\ttotal: 2.43s\tremaining: 1.36s\n",
      "32:\tlearn: 1637.4997000\ttest: 1733.9351890\tbest: 1733.9351890 (32)\ttotal: 2.5s\tremaining: 1.29s\n",
      "33:\tlearn: 1625.7997695\ttest: 1723.9465494\tbest: 1723.9465494 (33)\ttotal: 2.57s\tremaining: 1.21s\n",
      "34:\tlearn: 1621.4042190\ttest: 1722.5161863\tbest: 1722.5161863 (34)\ttotal: 2.65s\tremaining: 1.14s\n",
      "35:\tlearn: 1618.2731632\ttest: 1721.1998895\tbest: 1721.1998895 (35)\ttotal: 2.72s\tremaining: 1.06s\n",
      "36:\tlearn: 1612.3787010\ttest: 1717.0570849\tbest: 1717.0570849 (36)\ttotal: 2.79s\tremaining: 982ms\n",
      "37:\tlearn: 1606.1018411\ttest: 1712.0050462\tbest: 1712.0050462 (37)\ttotal: 2.87s\tremaining: 905ms\n",
      "38:\tlearn: 1602.9427245\ttest: 1712.0532142\tbest: 1712.0050462 (37)\ttotal: 2.94s\tremaining: 829ms\n",
      "39:\tlearn: 1600.7012954\ttest: 1711.1103527\tbest: 1711.1103527 (39)\ttotal: 3.02s\tremaining: 754ms\n",
      "40:\tlearn: 1594.7192192\ttest: 1708.3915107\tbest: 1708.3915107 (40)\ttotal: 3.09s\tremaining: 678ms\n",
      "41:\tlearn: 1591.0654410\ttest: 1707.0329075\tbest: 1707.0329075 (41)\ttotal: 3.16s\tremaining: 603ms\n",
      "42:\tlearn: 1587.6362808\ttest: 1706.8292066\tbest: 1706.8292066 (42)\ttotal: 3.24s\tremaining: 528ms\n",
      "43:\tlearn: 1583.8862616\ttest: 1705.7258293\tbest: 1705.7258293 (43)\ttotal: 3.31s\tremaining: 452ms\n",
      "44:\tlearn: 1580.3083576\ttest: 1703.6914206\tbest: 1703.6914206 (44)\ttotal: 3.39s\tremaining: 377ms\n",
      "45:\tlearn: 1575.6757911\ttest: 1702.6976524\tbest: 1702.6976524 (45)\ttotal: 3.46s\tremaining: 301ms\n",
      "46:\tlearn: 1570.1851152\ttest: 1701.1350641\tbest: 1701.1350641 (46)\ttotal: 3.54s\tremaining: 226ms\n",
      "47:\tlearn: 1567.9417856\ttest: 1700.3626755\tbest: 1700.3626755 (47)\ttotal: 3.61s\tremaining: 150ms\n",
      "48:\tlearn: 1561.5303050\ttest: 1697.9690788\tbest: 1697.9690788 (48)\ttotal: 3.69s\tremaining: 75.2ms\n",
      "49:\tlearn: 1557.1680952\ttest: 1696.2476963\tbest: 1696.2476963 (49)\ttotal: 3.76s\tremaining: 0us\n",
      "\n",
      "bestTest = 1696.247696\n",
      "bestIteration = 49\n",
      "\n",
      "Wall time: 53.5 s\n"
     ]
    }
   ],
   "source": [
    "%%time\n",
    "\n",
    "#define categorical features\n",
    "features_cat = [col for col in X_train.columns if X_train[col].dtype.name == 'category']\n",
    "\n",
    "#define model\n",
    "model_cat = CatBoostRegressor(loss_function='RMSE',early_stopping_rounds=20, iterations=50)\n",
    "\n",
    "#try out differnt hyperparameters\n",
    "grid = {'learning_rate': [0.05, 0.5],\n",
    "        'depth': [5, 10],\n",
    "        'l2_leaf_reg': [3,7,9]}\n",
    "\n",
    "#use the dataset with categorical columns as \"categories\"\n",
    "train_dataset = Pool(X_train, y_train,cat_features= features_cat) \n",
    "test_dataset = Pool(X_test, y_test,cat_features= features_cat)\n",
    "\n",
    "\n",
    "grid_search_result = model_cat.grid_search(grid,\n",
    "                                       train_dataset)\n",
    "\n"
   ]
  },
  {
   "cell_type": "code",
   "execution_count": 96,
   "metadata": {},
   "outputs": [
    {
     "data": {
      "text/plain": [
       "{'depth': 10, 'l2_leaf_reg': 3, 'learning_rate': 0.5}"
      ]
     },
     "execution_count": 96,
     "metadata": {},
     "output_type": "execute_result"
    }
   ],
   "source": [
    "#print best parameters\n",
    "best_cat_parameters=grid_search_result['params']\n",
    "best_cat_parameters"
   ]
  },
  {
   "cell_type": "code",
   "execution_count": 97,
   "metadata": {},
   "outputs": [
    {
     "data": {
      "text/plain": [
       "860.2"
      ]
     },
     "execution_count": 97,
     "metadata": {},
     "output_type": "execute_result"
    }
   ],
   "source": [
    "\n",
    "#Take time to fit and predict for a CatBooster with the best parameters found\n",
    "time_in= time.time()\n",
    "\n",
    "#define model\n",
    "best_model_cat = CatBoostRegressor(**best_cat_parameters,verbose=False)\n",
    "\n",
    "#train model\n",
    "best_model_cat.fit(X_train, y_train, cat_features= features_cat )\n",
    "\n",
    "#make predictions\n",
    "model_cat_predictions= best_model_cat.predict(X_test)\n",
    "\n",
    "#store time spent\n",
    "time_out= time.time()\n",
    "cat_pred_sec= round(time_out-time_in,2)\n",
    "cat_pred_sec\n"
   ]
  },
  {
   "cell_type": "code",
   "execution_count": 98,
   "metadata": {},
   "outputs": [
    {
     "data": {
      "text/plain": [
       "1646.17"
      ]
     },
     "execution_count": 98,
     "metadata": {},
     "output_type": "execute_result"
    }
   ],
   "source": [
    "#store model RMSE\n",
    "model_cat_rmse= eval_regressor(model_cat_predictions, y_test)\n",
    "model_cat_rmse"
   ]
  },
  {
   "cell_type": "code",
   "execution_count": 99,
   "metadata": {},
   "outputs": [
    {
     "data": {
      "text/plain": [
       "44.08"
      ]
     },
     "execution_count": 99,
     "metadata": {},
     "output_type": "execute_result"
    }
   ],
   "source": [
    "\n",
    "#Take time to fit and predict for a CatBooster with the best parameters found\n",
    "time_in= time.time()\n",
    "\n",
    "#define model\n",
    "best_model_cat_le = CatBoostRegressor(**best_cat_parameters,verbose=False)\n",
    "\n",
    "#train model\n",
    "best_model_cat_le.fit(X_train_le, y_train_le)\n",
    "\n",
    "#make predictions\n",
    "model_cat_predictions_le= best_model_cat_le.predict(X_test_le)\n",
    "\n",
    "#store time spent\n",
    "time_out= time.time()\n",
    "cat_pred_sec_le= round(time_out-time_in,2)\n",
    "cat_pred_sec_le\n"
   ]
  },
  {
   "cell_type": "code",
   "execution_count": 100,
   "metadata": {},
   "outputs": [
    {
     "data": {
      "text/plain": [
       "1655.25"
      ]
     },
     "execution_count": 100,
     "metadata": {},
     "output_type": "execute_result"
    }
   ],
   "source": [
    "#store model RMSE\n",
    "model_cat_rmse_le= eval_regressor(model_cat_predictions_le, y_test_le)\n",
    "model_cat_rmse_le"
   ]
  },
  {
   "cell_type": "markdown",
   "metadata": {},
   "source": [
    "### 3.3.3 XGBoost "
   ]
  },
  {
   "cell_type": "code",
   "execution_count": 101,
   "metadata": {},
   "outputs": [
    {
     "name": "stdout",
     "output_type": "stream",
     "text": [
      "Wall time: 0 ns\n"
     ]
    }
   ],
   "source": [
    "%%time\n",
    "#Iterate through different hyperparameters and choose the one that achieves the lowest RMSE\n",
    "\n",
    "#best_model_xgb=None\n",
    "\n",
    "#best_rmse=2000\n",
    "\n",
    "#for depth in [1,3,6]:\n",
    " #   for estimators in [50,100,500]:\n",
    "  #      for rate in [0.001, 0.01, 0.1]:\n",
    "   #         model_xgb= XGBRegressor(max_depth=depth, n_estimators=estimators, learning_rate=rate, min_child_weight=1, subsample=1)\n",
    "            \n",
    "    #        model_xgb.fit(X_train_ohe, y_train_ohe)\n",
    "            \n",
    "     #       pred_xgb= model_xgb.predict(X_test_ohe)\n",
    "            \n",
    "      #      xgb_rmse= eval_regressor(y_test_ohe, pred_xgb)\n",
    "            \n",
    "       #     if xgb_rmse<best_rmse:\n",
    "        #        best_model_xgb=model_xgb\n",
    "         #       best_rmse=xgb_rmse\n",
    "                \n",
    "            \n",
    "            \n",
    "            \n",
    "#print(f'Best xgb model :{best_model_xgb}')\n",
    "            \n",
    "            \n",
    "#print(f'Best xgb rmse :{best_rmse}')\n",
    "\n",
    "\n"
   ]
  },
  {
   "cell_type": "markdown",
   "metadata": {},
   "source": [
    "### Result when running the previous cell:\n",
    "(set to comment lines to prevent it from running, due to the long time it takes to finish) \n",
    "\n",
    "Best xgb model: XGBRegressor(base_score=0.5, booster='gbtree', callbacks=None,\n",
    "             colsample_bylevel=1, colsample_bynode=1, colsample_bytree=1,\n",
    "             early_stopping_rounds=None, enable_categorical=False,\n",
    "             eval_metric=None, gamma=0, gpu_id=-1, grow_policy='depthwise',\n",
    "             importance_type=None, interaction_constraints='',\n",
    "             learning_rate=0.1, max_bin=256, max_cat_to_onehot=4,\n",
    "             max_delta_step=0, max_depth=6, max_leaves=0, min_child_weight=1,\n",
    "             missing=nan, monotone_constraints='()', n_estimators=500, n_jobs=0,\n",
    "             num_parallel_tree=1, predictor='auto', random_state=0, reg_alpha=0,\n",
    "             reg_lambda=1, ...)\n",
    "\n",
    "Best xgb rmse :1669.76\n",
    "\n",
    "Wall time: 40min 3s"
   ]
  },
  {
   "cell_type": "code",
   "execution_count": 102,
   "metadata": {},
   "outputs": [
    {
     "name": "stdout",
     "output_type": "stream",
     "text": [
      "Best RMSE XGBooster:1669.76\n",
      "Best time XGBooster:298.74\n"
     ]
    }
   ],
   "source": [
    "#take time from model creation to predictions making\n",
    "time_in= time.time()\n",
    "\n",
    "#define model\n",
    "best_model_xgb= XGBRegressor(base_score=0.5, booster='gbtree', \n",
    "             learning_rate=0.1, max_bin=256, max_cat_to_onehot=4,\n",
    "             max_delta_step=0, max_depth=6, max_leaves=0, min_child_weight=1,\n",
    "             n_estimators=500, n_jobs=0,\n",
    "             num_parallel_tree=1, predictor='auto', random_state=0, reg_alpha=0,\n",
    "             reg_lambda=1)\n",
    "\n",
    "#train model\n",
    "best_model_xgb.fit(X_train_ohe, y_train_ohe)\n",
    "\n",
    "#make predictions\n",
    "best_pred_xgb= best_model_xgb.predict(X_test_ohe)\n",
    "\n",
    "#store time spent\n",
    "time_out= time.time()\n",
    "best_rmse_xgb= eval_regressor(y_test_ohe, best_pred_xgb)\n",
    "\n",
    "xgb_pred_sec= round(time_out-time_in,2)\n",
    "\n",
    "print(f'Best RMSE XGBooster:{best_rmse_xgb}')\n",
    "print(f'Best time XGBooster:{xgb_pred_sec}')"
   ]
  },
  {
   "cell_type": "markdown",
   "metadata": {},
   "source": [
    "## Model analysis"
   ]
  },
  {
   "cell_type": "markdown",
   "metadata": {},
   "source": [
    "### Summary of RMSEs and Time taken by each model"
   ]
  },
  {
   "cell_type": "code",
   "execution_count": 103,
   "metadata": {},
   "outputs": [
    {
     "data": {
      "text/html": [
       "<div>\n",
       "<style scoped>\n",
       "    .dataframe tbody tr th:only-of-type {\n",
       "        vertical-align: middle;\n",
       "    }\n",
       "\n",
       "    .dataframe tbody tr th {\n",
       "        vertical-align: top;\n",
       "    }\n",
       "\n",
       "    .dataframe thead th {\n",
       "        text-align: right;\n",
       "    }\n",
       "</style>\n",
       "<table border=\"1\" class=\"dataframe\">\n",
       "  <thead>\n",
       "    <tr style=\"text-align: right;\">\n",
       "      <th></th>\n",
       "      <th>Time to train &amp; predict (seconds)</th>\n",
       "      <th>RMSE on test set</th>\n",
       "    </tr>\n",
       "  </thead>\n",
       "  <tbody>\n",
       "    <tr>\n",
       "      <th>CatBoost</th>\n",
       "      <td>860.20</td>\n",
       "      <td>1646.17</td>\n",
       "    </tr>\n",
       "    <tr>\n",
       "      <th>LightGBM (auto-encoding categorical features)</th>\n",
       "      <td>2.00</td>\n",
       "      <td>1654.32</td>\n",
       "    </tr>\n",
       "    <tr>\n",
       "      <th>CatBoost (label-encoding)</th>\n",
       "      <td>44.08</td>\n",
       "      <td>1655.25</td>\n",
       "    </tr>\n",
       "    <tr>\n",
       "      <th>LightGBM (label-encoding categorical features)</th>\n",
       "      <td>2.17</td>\n",
       "      <td>1663.73</td>\n",
       "    </tr>\n",
       "    <tr>\n",
       "      <th>XGBoost</th>\n",
       "      <td>298.74</td>\n",
       "      <td>1669.76</td>\n",
       "    </tr>\n",
       "    <tr>\n",
       "      <th>Random forest regressor</th>\n",
       "      <td>26.18</td>\n",
       "      <td>2117.82</td>\n",
       "    </tr>\n",
       "    <tr>\n",
       "      <th>Decision tree regressor</th>\n",
       "      <td>0.79</td>\n",
       "      <td>2195.97</td>\n",
       "    </tr>\n",
       "    <tr>\n",
       "      <th>Ready-implementantion Linear regression</th>\n",
       "      <td>3.34</td>\n",
       "      <td>2842.70</td>\n",
       "    </tr>\n",
       "    <tr>\n",
       "      <th>Self-made linear regressor</th>\n",
       "      <td>5.91</td>\n",
       "      <td>3105.87</td>\n",
       "    </tr>\n",
       "  </tbody>\n",
       "</table>\n",
       "</div>"
      ],
      "text/plain": [
       "                                                Time to train & predict (seconds)  \\\n",
       "CatBoost                                                                   860.20   \n",
       "LightGBM (auto-encoding categorical features)                                2.00   \n",
       "CatBoost (label-encoding)                                                   44.08   \n",
       "LightGBM (label-encoding categorical features)                               2.17   \n",
       "XGBoost                                                                    298.74   \n",
       "Random forest regressor                                                     26.18   \n",
       "Decision tree regressor                                                      0.79   \n",
       "Ready-implementantion Linear regression                                      3.34   \n",
       "Self-made linear regressor                                                   5.91   \n",
       "\n",
       "                                                RMSE on test set  \n",
       "CatBoost                                                 1646.17  \n",
       "LightGBM (auto-encoding categorical features)            1654.32  \n",
       "CatBoost (label-encoding)                                1655.25  \n",
       "LightGBM (label-encoding categorical features)           1663.73  \n",
       "XGBoost                                                  1669.76  \n",
       "Random forest regressor                                  2117.82  \n",
       "Decision tree regressor                                  2195.97  \n",
       "Ready-implementantion Linear regression                  2842.70  \n",
       "Self-made linear regressor                               3105.87  "
      ]
     },
     "execution_count": 103,
     "metadata": {},
     "output_type": "execute_result"
    }
   ],
   "source": [
    "#Create a dataframe with results\n",
    "table_comp = pd.DataFrame({'Self-made linear regressor': [my_linear_pred_sec, my_linear_reg_rmse],\n",
    "                          'Ready-implementantion Linear regression':[pre_made_linear_pred_sec, pre_made_linear_rmse],\n",
    "                          'Decision tree regressor':[tree_regressor_pred_sec, rmse_tree],\n",
    "                          'Random forest regressor':[random_forest_pred_sec,rmse_forest],\n",
    "                          'LightGBM (auto-encoding categorical features)':[lgbm_auto_pred_sec,best_lgbm_auto_rmse ],\n",
    "                          'LightGBM (label-encoding categorical features)':[lgbm_le_pred_sec,best_lgbm_le_rmse],\n",
    "                          'CatBoost': [cat_pred_sec, model_cat_rmse],\n",
    "                          'XGBoost': [xgb_pred_sec,best_rmse_xgb],\n",
    "                          'CatBoost (label-encoding)':[cat_pred_sec_le,model_cat_rmse_le]}).T\n",
    "table_comp=table_comp.rename(columns={0:'Time to train & predict (seconds)',1:'RMSE on test set'})\n",
    "#sort by rmse in ascending order\n",
    "table_comp= table_comp.sort_values(by=['RMSE on test set'],ascending=True)\n",
    "#print\n",
    "table_comp"
   ]
  },
  {
   "attachments": {
    "image-4.png": {
     "image/png": "[encoded data removed]"
    }
   },
   "cell_type": "markdown",
   "metadata": {},
   "source": [
    "## Conclusion\n",
    "\n",
    "After importing and preparing the dataset with historical data on cars sold, encoding categorical features using One-hot encoding for linear regressors and Label encoding for tree-based models, and splitting the full dataset into train(75%) and test(25%) sets we tested the accuracy and time efficiency of different regression models, obtainig the following results:\n",
    "\n",
    "\n",
    "![image-4.png](attachment:image-4.png)\n",
    "\n",
    "\n",
    "Undoubtedly, the best models in terms of accuracy were the ones using Gradient boosting. When it comes to time consumption, the fastest was LightGMB, achieving a significantly shorter train and prediction-making time than XGBoost and Catboost.\n",
    "\n",
    "\n",
    "For the sake of comparisson, we may recall from above that the test target average was 4.619 €, and the median was 2,950 €. This means that the RMSE was more than half of the median in the best case.\n",
    "\n",
    "\n",
    "\n",
    "Catboost auto-encoder caused a larger training and predicting time (more than 3x Label encoding). LightGBM performed similarly with both approaches.\n",
    "\n",
    "On its side, XGBoost took excesively long to tune hypermarameters (40 min), and its predictions accuracy were really poor.\n",
    "\n",
    "\n",
    "Finally, Linear regression models were the ones getting the less accurate predictions, in spite of making them quickly.\n",
    "\n",
    "\n",
    "To wrap up, we'll create an ensemble of our self-built Linear regressor to see if we can improve RMSE by adding further models aimed to correct the errors made by the first regressor:\n",
    "\n",
    "\n",
    "\n"
   ]
  },
  {
   "cell_type": "code",
   "execution_count": 104,
   "metadata": {},
   "outputs": [],
   "source": [
    "class my_linear_gb():\n",
    "    \n",
    "   #set nº of linear regressors to ensemble (four by default)\n",
    "    def __init__(self, n_regressors= 4):\n",
    "        self.n_reg= n_regressors\n",
    "     \n",
    "    #define fit method to train the models\n",
    "    def fit(self, train_features, train_target):\n",
    "        \n",
    "\n",
    "        \n",
    "        #list to append model at each step after fitting\n",
    "        models_ensemble=[]\n",
    "        \n",
    "               \n",
    "        #error at each step (in the first iteration the error equals the target -predictions are 0-)\n",
    "        residuals = train_target  \n",
    "        \n",
    "        #placeholder for sum of predictions made by each ensembled model\n",
    "        pred_array = np.zeros(train_target.shape[0])\n",
    "        \n",
    "        for i in range(self.n_reg):\n",
    "         \n",
    "                                   \n",
    "            #define model\n",
    "            my_linear_regression= MyLinearRegressor(0.02, 10 ,100, 0.001)\n",
    "\n",
    "            #fit the model to predict residuals. In the very first iteration the residuals are original targets.\n",
    "            my_linear_regression.fit(train_features, residuals)\n",
    "            \n",
    "            #make predictions on train set to calculate new residuals\n",
    "            pred_linear= my_linear_regression.predict(train_features)\n",
    "            \n",
    "            #next y valid will be \n",
    "            y_valid= pred_array\n",
    "    \n",
    "            #add predicted values to predictions made up until the previous step\n",
    "            pred_array+=pred_linear\n",
    "\n",
    "            #append model to list\n",
    "\n",
    "            models_ensemble.append(my_linear_regression)\n",
    "            \n",
    "            \n",
    "            #calculate difference between train target and the accumulated predictions \n",
    "            residuals= (train_target- pred_array)\n",
    "            \n",
    "            \n",
    "    \n",
    "\n",
    "            \n",
    "        #append the model to list\n",
    "        self.models_ensemble= models_ensemble\n",
    "    \n",
    "    \n",
    "    #define predict method to make predictions    \n",
    "    def predict(self, test_features):\n",
    "        #placeholder for accumulated amount of predictions made by each model\n",
    "        pred_ensemble=0          \n",
    "        \n",
    "        #iterate through model\n",
    "        for model in self.models_ensemble:\n",
    "            #get predictions made by each model taking test features as input\n",
    "            pred_test= model.predict(test_features)\n",
    "            \n",
    "            #add up predictions made by each model\n",
    "            pred_ensemble+= pred_test\n",
    "            \n",
    "            \n",
    "        \n",
    "        return pred_ensemble\n"
   ]
  },
  {
   "cell_type": "code",
   "execution_count": 105,
   "metadata": {},
   "outputs": [
    {
     "name": "stdout",
     "output_type": "stream",
     "text": [
      "Best regressors amount: 20\n",
      "Best RMSE: 3053.52\n",
      "Wall time: 2min 43s\n"
     ]
    }
   ],
   "source": [
    "%%time \n",
    "\n",
    "#try with different count of regressors and store the one achieving the lowest RMSE\n",
    "\n",
    "best_reg_ensemble=None\n",
    "best_rmse_reg_ensemble=3105.87\n",
    "best_reg=1\n",
    "\n",
    "#iterate through several count of regressors\n",
    "for regressor in [1,5,20]:\n",
    "   \n",
    "    # define model\n",
    "    my_gb= my_linear_gb(n_regressors= regressor)\n",
    "    \n",
    "    #train model\n",
    "    my_gb.fit(X_train_scaled_ohe, y_train_ohe)\n",
    "   \n",
    "    #make predictions\n",
    "    my_gb_pred= my_gb.predict(X_test_scaled_ohe)\n",
    "    \n",
    "    #get rmse of predictions\n",
    "    my_gb_rmse= eval_regressor(y_test_ohe, my_gb_pred)\n",
    "    \n",
    "    #store the model with the lowest rmse\n",
    "    if my_gb_rmse<best_rmse_reg_ensemble:\n",
    "        best_rmse_reg_ensemble= my_gb_rmse\n",
    "        best_reg= regressor\n",
    "        \n",
    "print(f'Best regressors amount: {best_reg}')\n",
    "print(f'Best RMSE: {best_rmse_reg_ensemble}')\n",
    "    "
   ]
  },
  {
   "cell_type": "markdown",
   "metadata": {},
   "source": [
    "We notice that even though the RMSE diminished a bit, also did the running time. Improvement througuh model ensembling is achieved slowly and stepwisely.\n",
    "\n",
    "\n"
   ]
  }
 ],
 "metadata": {
  "kernelspec": {
   "display_name": "Python 3 (ipykernel)",
   "language": "python",
   "name": "python3"
  },
  "language_info": {
   "codemirror_mode": {
    "name": "ipython",
    "version": 3
   },
   "file_extension": ".py",
   "mimetype": "text/x-python",
   "name": "python",
   "nbconvert_exporter": "python",
   "pygments_lexer": "ipython3",
   "version": "3.9.7"
  },
  "toc": {
   "base_numbering": 1,
   "nav_menu": {},
   "number_sections": true,
   "sideBar": true,
   "skip_h1_title": true,
   "title_cell": "Table of Contents",
   "title_sidebar": "Contents",
   "toc_cell": false,
   "toc_position": {},
   "toc_section_display": true,
   "toc_window_display": false
  }
 },
 "nbformat": 4,
 "nbformat_minor": 2
}
